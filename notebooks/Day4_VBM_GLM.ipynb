{
 "cells": [
  {
   "cell_type": "code",
   "execution_count": null,
   "metadata": {},
   "outputs": [],
   "source": [
    "%matplotlib inline\n",
    "\n",
    "import os\n",
    "import os.path as op\n",
    "import glob\n",
    "import numpy as np\n",
    "import pandas as pd\n",
    "import matplotlib.pyplot as plt"
   ]
  },
  {
   "cell_type": "markdown",
   "metadata": {},
   "source": [
    "Day 4. Voxel-Based Morphometry on MRiShare dataset\n",
    "============================================\n",
    "\n",
    "This example uses Voxel-Based Morphometry (VBM) to study the relationship\n",
    "between aging, sex and gray matter density.\n",
    "\n",
    "The data come from the MRiShare database, which have been processed with \n",
    "SPM12 New Segment VBM pipeline inside ABACI to create VBM maps.\n",
    "\n",
    "\n",
    "VBM analysis of aging\n",
    "---------------------\n",
    "\n",
    "We run a standard GLM analysis to study the association between age\n",
    "and gray matter density from the VBM data. We use only 100 subjects\n",
    "from the MRiShare dataset to limit the memory usage.\n",
    "\n",
    "Note that more power would be obtained from using a larger sample of subjects.\n",
    "\n"
   ]
  },
  {
   "cell_type": "code",
   "execution_count": null,
   "metadata": {},
   "outputs": [],
   "source": [
    "# Authors: Bertrand Thirion, <bertrand.thirion@inria.fr>, July 2018\n",
    "#          Elvis Dhomatob, <elvis.dohmatob@inria.fr>, Apr. 2014\n",
    "#          Virgile Fritsch, <virgile.fritsch@inria.fr>, Apr 2014\n",
    "#          Gael Varoquaux, Apr 2014\n",
    "# Modified by Ami Tsuchida <atsuch@gmail.com>, July, 2019"
   ]
  },
  {
   "cell_type": "markdown",
   "metadata": {},
   "source": [
    "Examine MRiShare dataset\n",
    "------------------\n",
    "\n",
    "### 1. Independent variables used for the analyses\n"
   ]
  },
  {
   "cell_type": "code",
   "execution_count": null,
   "metadata": {},
   "outputs": [],
   "source": [
    "dat_dir = '../data/'\n",
    "sub_info = pd.read_csv(op.join(dat_dir, 'sample_mrishare_subinfo.csv'), index_col=0)\n",
    "sub_info.head()"
   ]
  },
  {
   "cell_type": "code",
   "execution_count": null,
   "metadata": {},
   "outputs": [],
   "source": [
    "n_subjects = len(sub_info)\n",
    "n_subjects"
   ]
  },
  {
   "cell_type": "code",
   "execution_count": null,
   "metadata": {},
   "outputs": [],
   "source": [
    "# Check number of subjects and age distribution\n",
    "fig, (ax1, ax2) = plt.subplots(2, 1, figsize=(8,8))\n",
    "sub_info[sub_info.Sex=='M']['Age'].plot.hist(color='b', ax=ax1)\n",
    "ax1.legend('M')\n",
    "sub_info[sub_info.Sex=='F']['Age'].plot.hist(color='m', ax=ax2)\n",
    "ax2.legend('F')"
   ]
  },
  {
   "cell_type": "code",
   "execution_count": null,
   "metadata": {},
   "outputs": [],
   "source": [
    "grouped = sub_info.groupby('Sex')\n",
    "grouped.describe()"
   ]
  },
  {
   "cell_type": "markdown",
   "metadata": {},
   "source": [
    "### 2. GM volume image (modulated image in MNI space, 1x1x1mm)\n",
    "\n",
    "Jacobian modulated GM image in MNI space based on two-channel (i.e. T1 and FLAIR) tissue-segmentation for the same 100 subjects are in the /data/rw_eleves/Cajal-Morphometry2019/copy/anatomical folder."
   ]
  },
  {
   "cell_type": "code",
   "execution_count": null,
   "metadata": {},
   "outputs": [],
   "source": [
    "mrishare_img_dir = '/data/rw_eleves/Cajal-Morphometry2019/'\n",
    "anatomical_dir = op.join(mrishare_img_dir, 'copy', 'anatomical')\n",
    "templates_dir = op.join(mrishare_img_dir, 'templates')"
   ]
  },
  {
   "cell_type": "code",
   "execution_count": null,
   "metadata": {},
   "outputs": [],
   "source": [
    "# Get the path to GM map for each subject in the same order as sub_info.csv\n",
    "\n",
    "gray_matter_map_filenames = []\n",
    "\n",
    "for sub in sub_info.index.values:\n",
    "    gray_matter_map_file_glob = glob.glob(op.join(anatomical_dir,\n",
    "                                                  sub,\n",
    "                                                  'jacobian_modulated_gm_image_MNI_111',\n",
    "                                                  '*gm_segment.nii.gz'))\n",
    "    if not gray_matter_map_file_glob:\n",
    "        print ('Could not find the grey matter map for {}!'.format(sub))\n",
    "    else:\n",
    "        gray_matter_map_filenames.append(gray_matter_map_file_glob[0])\n"
   ]
  },
  {
   "cell_type": "code",
   "execution_count": null,
   "metadata": {},
   "outputs": [],
   "source": [
    "# Check to make sure you have expected number of files\n",
    "len(gray_matter_map_filenames)"
   ]
  },
  {
   "cell_type": "code",
   "execution_count": null,
   "metadata": {},
   "outputs": [],
   "source": [
    "age = sub_info.Age.values\n",
    "age"
   ]
  },
  {
   "cell_type": "markdown",
   "metadata": {},
   "source": [
    "Get a mask image: We placed a brain mask image in the template space in a folder 'templates' under mrishare_dat_dir.\n",
    "\n",
    "Take a look at this mask using the plotting function from nilearn (https://nilearn.github.io/).\n"
   ]
  },
  {
   "cell_type": "code",
   "execution_count": null,
   "metadata": {},
   "outputs": [],
   "source": [
    "mask = op.join(templates_dir, 'brainmask_111.nii')\n",
    "template_brain = op.join(templates_dir, 'SHARE500mc_T1brain.nii')"
   ]
  },
  {
   "cell_type": "code",
   "execution_count": null,
   "metadata": {},
   "outputs": [],
   "source": [
    "from nilearn import plotting"
   ]
  },
  {
   "cell_type": "code",
   "execution_count": null,
   "metadata": {},
   "outputs": [],
   "source": [
    "display = plotting.plot_roi(mask, template_brain)"
   ]
  },
  {
   "cell_type": "markdown",
   "metadata": {},
   "source": [
    "Analyse data\n",
    "------------\n",
    "\n",
    "### 1. Create a design matrix\n",
    "First create an adequate design matrix with three columns: 'age',\n",
    "'sex', 'intercept'. For sex, sub_info DF encodes it as 'M' and 'F'. Turn this into a binary variable."
   ]
  },
  {
   "cell_type": "code",
   "execution_count": null,
   "metadata": {},
   "outputs": [],
   "source": [
    "sex = np.array(sub_info.Sex.values == 'M')\n",
    "sex"
   ]
  },
  {
   "cell_type": "markdown",
   "metadata": {},
   "source": [
    " The intercept is simply a column with all 1."
   ]
  },
  {
   "cell_type": "code",
   "execution_count": null,
   "metadata": {},
   "outputs": [],
   "source": [
    "intercept = np.ones(n_subjects)"
   ]
  },
  {
   "cell_type": "markdown",
   "metadata": {},
   "source": [
    "Nistats accepts design matrix in the form of pandas dataframe. So we create a numpy array of sex, age, and intercept, and give the column names."
   ]
  },
  {
   "cell_type": "code",
   "execution_count": null,
   "metadata": {},
   "outputs": [],
   "source": [
    "my_arr = np.vstack((sex, sub_info.Age.values, intercept))\n",
    "my_arr.shape"
   ]
  },
  {
   "cell_type": "markdown",
   "metadata": {},
   "source": [
    "The shape indicates that the number of rows is 3. We simply swap the row and column (i.e. transpose) so that the number of columns is 3 for creation of the new DF."
   ]
  },
  {
   "cell_type": "code",
   "execution_count": null,
   "metadata": {},
   "outputs": [],
   "source": [
    "design_matrix = pd.DataFrame(my_arr.T,\n",
    "                            columns=['sex', 'age', 'intercept'])\n",
    "design_matrix.head()"
   ]
  },
  {
   "cell_type": "markdown",
   "metadata": {},
   "source": [
    "Plot the design matrix\n",
    "\n"
   ]
  },
  {
   "cell_type": "code",
   "execution_count": null,
   "metadata": {},
   "outputs": [],
   "source": [
    "from nistats.reporting import plot_design_matrix\n",
    "ax = plot_design_matrix(design_matrix)\n",
    "ax.set_title('Second level design matrix', fontsize=12)\n",
    "ax.set_ylabel('maps')"
   ]
  },
  {
   "cell_type": "markdown",
   "metadata": {},
   "source": [
    "### 2. Fit the model\n",
    "\n",
    "Specify and fit the second-level model when loading the data, using SecondLevelModel from nistats.second_level_model. We can specify the level of smoothing to be applied to the data (to improve statistical behavior) and also provide a mask to restrict the analysis inside the mask image.\n"
   ]
  },
  {
   "cell_type": "code",
   "execution_count": null,
   "metadata": {},
   "outputs": [],
   "source": [
    "from nistats.second_level_model import SecondLevelModel\n",
    "second_level_model = SecondLevelModel(smoothing_fwhm=4.0, mask=mask)\n",
    "second_level_model.fit(gray_matter_map_filenames,\n",
    "                       design_matrix=design_matrix)"
   ]
  },
  {
   "cell_type": "markdown",
   "metadata": {},
   "source": [
    "Estimate the contrast is very simple. We can just provide the column\n",
    "name of the design matrix (e.g. 'sex'), or manually specify, as below.\n",
    "\n"
   ]
  },
  {
   "cell_type": "code",
   "execution_count": null,
   "metadata": {},
   "outputs": [],
   "source": [
    "sex_z_map = second_level_model.compute_contrast(second_level_contrast=[1, 0, 0],\n",
    "                                                output_type='z_score')"
   ]
  },
  {
   "cell_type": "markdown",
   "metadata": {},
   "source": [
    "Plot the unthresholded zmap using plotting function from nilearn package."
   ]
  },
  {
   "cell_type": "code",
   "execution_count": null,
   "metadata": {},
   "outputs": [],
   "source": [
    "display = plotting.plot_stat_map(sex_z_map, title='Raw z map for the effect of sex')"
   ]
  },
  {
   "cell_type": "markdown",
   "metadata": {},
   "source": [
    "You can also plot the thresholded map at uncorrected p < 0.05.\n",
    "Nistats provide a tool to threshold your map very easily."
   ]
  },
  {
   "cell_type": "code",
   "execution_count": null,
   "metadata": {},
   "outputs": [],
   "source": [
    "from nistats.thresholding import map_threshold"
   ]
  },
  {
   "cell_type": "code",
   "execution_count": null,
   "metadata": {},
   "outputs": [],
   "source": [
    "thresholded_map1, threshold1 = map_threshold(\n",
    "    sex_z_map, level=.05, cluster_threshold=0)\n",
    "print('The uncorrected threshold is %.3g' % threshold1)"
   ]
  },
  {
   "cell_type": "code",
   "execution_count": null,
   "metadata": {},
   "outputs": [],
   "source": [
    "plotting.plot_stat_map(\n",
    "    sex_z_map, threshold=threshold1, colorbar=True, display_mode='z',\n",
    "    cut_coords=display.cut_coords,\n",
    "    title='Sex effect on grey matter density (uncorr p < .05)')"
   ]
  },
  {
   "cell_type": "markdown",
   "metadata": {},
   "source": [
    "### Correction for multiple comparisons\n",
    "\n",
    "The map above is actually too liberal, since you are supposed to correct for the fact\n",
    "that you are testing your model on many, many voxels at the same time!\n",
    "\n",
    "You can read more about the problem of multiple comparisons in neuroimaging here:\n",
    "\n",
    "(under resources)\n",
    "* Zen_and_Art_of_Miltiple_comparisons.pdf\n",
    "* Non-parametric_methods_and_RFT.pdf\n",
    "* Nichols_Thresholding.pdf\n",
    "\n",
    "\n",
    "Nistats offers the basic thresholding using FDR or Bonferoni. I recommend using either SnPM (https://warwick.ac.uk/fac/sci/statistics/staff/academic-research/nichols/software/snpm), FSL randomise (https://fsl.fmrib.ox.ac.uk/fsl/fslwiki/Randomise), or more newly developped (and still in development) PALM (https://fsl.fmrib.ox.ac.uk/fsl/fslwiki/PALM) for the most strict test of your hypotheses, but to get the rough ideas about hox your effects loom like, the basic FDR correction can be good enough, as all the non-parametric methods can take lots of time and memory.\n",
    "\n",
    "So let's continue looking at the result using a few other ways of thresholding."
   ]
  },
  {
   "cell_type": "markdown",
   "metadata": {},
   "source": [
    "First, we threshold at cluster-forming (uncorrected) p <0.001 with only clusters larger than 10 voxels. "
   ]
  },
  {
   "cell_type": "code",
   "execution_count": null,
   "metadata": {},
   "outputs": [],
   "source": [
    "thresholded_map2, threshold2 = map_threshold(\n",
    "    sex_z_map, level=.001,  height_control='fpr', cluster_threshold=5)\n",
    "print('The uncorrected threshold is %.3g' % threshold2)"
   ]
  },
  {
   "cell_type": "code",
   "execution_count": null,
   "metadata": {},
   "outputs": [],
   "source": [
    "plotting.plot_stat_map(\n",
    "    thresholded_map2, threshold=threshold2, colorbar=True, display_mode='z',\n",
    "    cut_coords=display.cut_coords,\n",
    "    title='Thresholded z map, fpr <.001, clusters > 10 voxels')"
   ]
  },
  {
   "cell_type": "markdown",
   "metadata": {},
   "source": [
    "Next try using FDR threshold of p=0.05."
   ]
  },
  {
   "cell_type": "code",
   "execution_count": null,
   "metadata": {},
   "outputs": [],
   "source": [
    "thresholded_map3, threshold3 = map_threshold(\n",
    "    sex_z_map, level=.05, height_control='fdr')\n",
    "print('The FDR=.05-corrected threshold is: %.3g' % threshold3)"
   ]
  },
  {
   "cell_type": "markdown",
   "metadata": {},
   "source": [
    "Then try plotting it."
   ]
  },
  {
   "cell_type": "code",
   "execution_count": null,
   "metadata": {},
   "outputs": [],
   "source": [
    "plotting.plot_stat_map(\n",
    "    thresholded_map3, threshold=threshold3, colorbar=True, display_mode='z',\n",
    "    cut_coords=display.cut_coords)"
   ]
  },
  {
   "cell_type": "markdown",
   "metadata": {},
   "source": [
    "Finally try using FWER correction with Bonferroni."
   ]
  },
  {
   "cell_type": "code",
   "execution_count": null,
   "metadata": {},
   "outputs": [],
   "source": [
    "thresholded_map4, threshold4 = map_threshold(\n",
    "    sex_z_map, level=.05, height_control='bonferroni')\n",
    "print('The p<.05 Bonferroni-corrected threshold is %.3g' % threshold4)"
   ]
  },
  {
   "cell_type": "code",
   "execution_count": null,
   "metadata": {},
   "outputs": [],
   "source": [
    "plotting.plot_stat_map(\n",
    "    thresholded_map4, threshold=threshold4, colorbar=True, display_mode='z',\n",
    "    cut_coords=display.cut_coords)"
   ]
  },
  {
   "cell_type": "markdown",
   "metadata": {},
   "source": [
    "Notice that in Nistats, all of the above thresholding manipulation is one-sided, meaning that you will only see z score passing the threhold on the positive contrast. So if you'd like to look at corrected z score for Female>Male rather than Male>Female, you need to compute z_map with negative contrast (e.g. [-1, 0, 0] to look at Female>Male map.\n",
    "\n",
    "In Male>Female contrast we used to test diferent threhoslding approaches, we have big effects, regardless of the type of thresholding we use. This is actually to be expected. Can you see why?\n"
   ]
  },
  {
   "cell_type": "markdown",
   "metadata": {},
   "source": [
    "## Exercise 1\n",
    "\n",
    "In section below, try to get the contrast map for the reverse effect, or the effect of age (positive or negative). See if any contrast map survives for the chosen method of multiple comparisons."
   ]
  },
  {
   "cell_type": "code",
   "execution_count": null,
   "metadata": {},
   "outputs": [],
   "source": []
  },
  {
   "cell_type": "code",
   "execution_count": null,
   "metadata": {},
   "outputs": [],
   "source": []
  },
  {
   "cell_type": "code",
   "execution_count": null,
   "metadata": {},
   "outputs": [],
   "source": []
  },
  {
   "cell_type": "markdown",
   "metadata": {},
   "source": [
    "## Exercise 2\n",
    "\n",
    "In the model tested above, we tested the simplest model that assumed no interaction between Age and Sex.\n",
    "\n",
    "This is not wrong, as long as you have no reason or interest to believe in the possibility of Age x Sex.\n",
    "\n",
    "How could you modify the design matrix to test the interaction between Age and Sex?\n",
    "\n",
    "Here are some useful resources if you are not sure;\n",
    "\n",
    "* GLM and design matirx: background\n",
    "stat_modeling.pdf\n",
    "glm.pdf\n",
    "(under resources folder)\n",
    "\n",
    "* Design matrix and mean-centering\n",
    "http://mumford.fmripower.org/mean_centering/\n",
    "\n",
    "* Other examples of GLM and design matrices\n",
    "https://fsl.fmrib.ox.ac.uk/fsl/fslwiki/GLM\n",
    "\n"
   ]
  },
  {
   "cell_type": "code",
   "execution_count": null,
   "metadata": {},
   "outputs": [],
   "source": []
  },
  {
   "cell_type": "code",
   "execution_count": null,
   "metadata": {},
   "outputs": [],
   "source": []
  },
  {
   "cell_type": "code",
   "execution_count": null,
   "metadata": {},
   "outputs": [],
   "source": []
  },
  {
   "cell_type": "markdown",
   "metadata": {},
   "source": [
    "## Exercise 3\n",
    "\n",
    "In the sub_info.csv, there is a column 'Score', representing a cognitive test score.\n",
    "Can you create a new design matrix and contrast to investigate the effect of cognitive score, \n",
    "after controlling for age and sex?"
   ]
  },
  {
   "cell_type": "code",
   "execution_count": null,
   "metadata": {},
   "outputs": [],
   "source": []
  },
  {
   "cell_type": "code",
   "execution_count": null,
   "metadata": {},
   "outputs": [],
   "source": []
  },
  {
   "cell_type": "markdown",
   "metadata": {},
   "source": [
    "## Exercise 4\n",
    "\n",
    "We used nistats and nilearn to perform the simple GLM analyses and view the results. However, you can use more conventional software packages (FSL, SPM, AFNI, etc) to perform the same analyses. They differ in how you specify desgin matrices/contrasts, how you can control for the multiple comparisons.\n",
    "\n",
    "Because VBM is typically performed using SPM VBM pipeline, many use SPM for GLM as well. But you don't have to! You should choose the tools based on the features (eg. options for multiple comparison corrections) you desire.\n",
    "\n",
    "Try using SPM or FSL to perform the same analysis you tried above."
   ]
  },
  {
   "cell_type": "code",
   "execution_count": null,
   "metadata": {},
   "outputs": [],
   "source": []
  }
 ],
 "metadata": {
  "kernelspec": {
   "display_name": "Python 3",
   "language": "python",
   "name": "python3"
  },
  "language_info": {
   "codemirror_mode": {
    "name": "ipython",
    "version": 3
   },
   "file_extension": ".py",
   "mimetype": "text/x-python",
   "name": "python",
   "nbconvert_exporter": "python",
   "pygments_lexer": "ipython3",
   "version": "3.7.4"
  }
 },
 "nbformat": 4,
 "nbformat_minor": 1
}
