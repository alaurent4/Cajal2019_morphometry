{
 "cells": [
  {
   "cell_type": "code",
   "execution_count": 1,
   "metadata": {},
   "outputs": [],
   "source": [
    "%matplotlib inline\n",
    "\n",
    "import os\n",
    "import os.path as op\n",
    "import numpy as np\n",
    "import pandas as pd\n",
    "import matplotlib.pyplot as plt"
   ]
  },
  {
   "cell_type": "markdown",
   "metadata": {},
   "source": [
    "Day 4. Voxel-Based Morphometry on MRiShare dataset\n",
    "============================================\n",
    "\n",
    "This example uses Voxel-Based Morphometry (VBM) to study the relationship\n",
    "between aging, sex and gray matter density.\n",
    "\n",
    "The data come from the MRiShare database, which have been processed with \n",
    "SPM12 New Segment VBM pipeline inside ABACI to create VBM maps.\n",
    "\n",
    "\n",
    "VBM analysis of aging\n",
    "---------------------\n",
    "\n",
    "We run a standard GLM analysis to study the association between age\n",
    "and gray matter density from the VBM data. We use only 100 subjects\n",
    "from the MRiShare dataset to limit the memory usage.\n",
    "\n",
    "Note that more power would be obtained from using a larger sample of subjects.\n",
    "\n"
   ]
  },
  {
   "cell_type": "code",
   "execution_count": 3,
   "metadata": {},
   "outputs": [],
   "source": [
    "# Authors: Bertrand Thirion, <bertrand.thirion@inria.fr>, July 2018\n",
    "#          Elvis Dhomatob, <elvis.dohmatob@inria.fr>, Apr. 2014\n",
    "#          Virgile Fritsch, <virgile.fritsch@inria.fr>, Apr 2014\n",
    "#          Gael Varoquaux, Apr 2014\n",
    "# Modified by Ami Tsuchida <atsuch@gmail.com>, July, 2019"
   ]
  },
  {
   "cell_type": "markdown",
   "metadata": {},
   "source": [
    "Examine MRiShare dataset\n",
    "------------------\n",
    "\n"
   ]
  },
  {
   "cell_type": "code",
   "execution_count": 2,
   "metadata": {},
   "outputs": [
    {
     "data": {
      "text/html": [
       "<div>\n",
       "<style scoped>\n",
       "    .dataframe tbody tr th:only-of-type {\n",
       "        vertical-align: middle;\n",
       "    }\n",
       "\n",
       "    .dataframe tbody tr th {\n",
       "        vertical-align: top;\n",
       "    }\n",
       "\n",
       "    .dataframe thead th {\n",
       "        text-align: right;\n",
       "    }\n",
       "</style>\n",
       "<table border=\"1\" class=\"dataframe\">\n",
       "  <thead>\n",
       "    <tr style=\"text-align: right;\">\n",
       "      <th></th>\n",
       "      <th>Sex</th>\n",
       "      <th>Handedness</th>\n",
       "      <th>Age</th>\n",
       "      <th>Score</th>\n",
       "    </tr>\n",
       "    <tr>\n",
       "      <th>mrishare_id</th>\n",
       "      <th></th>\n",
       "      <th></th>\n",
       "      <th></th>\n",
       "      <th></th>\n",
       "    </tr>\n",
       "  </thead>\n",
       "  <tbody>\n",
       "    <tr>\n",
       "      <td>SHARE0001</td>\n",
       "      <td>M</td>\n",
       "      <td>D</td>\n",
       "      <td>24.241</td>\n",
       "      <td>93.732513</td>\n",
       "    </tr>\n",
       "    <tr>\n",
       "      <td>SHARE0002</td>\n",
       "      <td>F</td>\n",
       "      <td>D</td>\n",
       "      <td>22.943</td>\n",
       "      <td>125.112598</td>\n",
       "    </tr>\n",
       "    <tr>\n",
       "      <td>SHARE0004</td>\n",
       "      <td>M</td>\n",
       "      <td>D</td>\n",
       "      <td>23.107</td>\n",
       "      <td>91.241367</td>\n",
       "    </tr>\n",
       "    <tr>\n",
       "      <td>SHARE0006</td>\n",
       "      <td>M</td>\n",
       "      <td>D</td>\n",
       "      <td>22.916</td>\n",
       "      <td>121.776685</td>\n",
       "    </tr>\n",
       "    <tr>\n",
       "      <td>SHARE0007</td>\n",
       "      <td>M</td>\n",
       "      <td>D</td>\n",
       "      <td>20.011</td>\n",
       "      <td>103.942988</td>\n",
       "    </tr>\n",
       "  </tbody>\n",
       "</table>\n",
       "</div>"
      ],
      "text/plain": [
       "            Sex Handedness     Age       Score\n",
       "mrishare_id                                   \n",
       "SHARE0001     M          D  24.241   93.732513\n",
       "SHARE0002     F          D  22.943  125.112598\n",
       "SHARE0004     M          D  23.107   91.241367\n",
       "SHARE0006     M          D  22.916  121.776685\n",
       "SHARE0007     M          D  20.011  103.942988"
      ]
     },
     "execution_count": 2,
     "metadata": {},
     "output_type": "execute_result"
    }
   ],
   "source": [
    "dat_dir= '../data/'\n",
    "sub_info = pd.read_csv(op.join(dat_dir, 'sample_mrishare_subinfo.csv'), index_col=0)\n",
    "sub_info.head()"
   ]
  },
  {
   "cell_type": "code",
   "execution_count": 3,
   "metadata": {},
   "outputs": [
    {
     "data": {
      "text/plain": [
       "100"
      ]
     },
     "execution_count": 3,
     "metadata": {},
     "output_type": "execute_result"
    }
   ],
   "source": [
    "n_subjects = len(sub_info)\n",
    "n_subjects"
   ]
  },
  {
   "cell_type": "code",
   "execution_count": 4,
   "metadata": {},
   "outputs": [
    {
     "data": {
      "text/plain": [
       "<matplotlib.legend.Legend at 0x7ff76df74990>"
      ]
     },
     "execution_count": 4,
     "metadata": {},
     "output_type": "execute_result"
    },
    {
     "data": {
      "image/png": "[encoded data removed]",
      "text/plain": [
       "<Figure size 576x576 with 2 Axes>"
      ]
     },
     "metadata": {
      "needs_background": "light"
     },
     "output_type": "display_data"
    }
   ],
   "source": [
    "# Check number of subjects and age distribution\n",
    "fig, (ax1, ax2) = plt.subplots(2, 1, figsize=(8,8))\n",
    "sub_info[sub_info.Sex=='M']['Age'].plot.hist(color='b', ax=ax1)\n",
    "ax1.legend('M')\n",
    "sub_info[sub_info.Sex=='F']['Age'].plot.hist(color='m', ax=ax2)\n",
    "ax2.legend('F')"
   ]
  },
  {
   "cell_type": "code",
   "execution_count": 5,
   "metadata": {},
   "outputs": [
    {
     "data": {
      "text/html": [
       "<div>\n",
       "<style scoped>\n",
       "    .dataframe tbody tr th:only-of-type {\n",
       "        vertical-align: middle;\n",
       "    }\n",
       "\n",
       "    .dataframe tbody tr th {\n",
       "        vertical-align: top;\n",
       "    }\n",
       "\n",
       "    .dataframe thead tr th {\n",
       "        text-align: left;\n",
       "    }\n",
       "\n",
       "    .dataframe thead tr:last-of-type th {\n",
       "        text-align: right;\n",
       "    }\n",
       "</style>\n",
       "<table border=\"1\" class=\"dataframe\">\n",
       "  <thead>\n",
       "    <tr>\n",
       "      <th></th>\n",
       "      <th colspan=\"8\" halign=\"left\">Age</th>\n",
       "      <th colspan=\"8\" halign=\"left\">Score</th>\n",
       "    </tr>\n",
       "    <tr>\n",
       "      <th></th>\n",
       "      <th>count</th>\n",
       "      <th>mean</th>\n",
       "      <th>std</th>\n",
       "      <th>min</th>\n",
       "      <th>25%</th>\n",
       "      <th>50%</th>\n",
       "      <th>75%</th>\n",
       "      <th>max</th>\n",
       "      <th>count</th>\n",
       "      <th>mean</th>\n",
       "      <th>std</th>\n",
       "      <th>min</th>\n",
       "      <th>25%</th>\n",
       "      <th>50%</th>\n",
       "      <th>75%</th>\n",
       "      <th>max</th>\n",
       "    </tr>\n",
       "    <tr>\n",
       "      <th>Sex</th>\n",
       "      <th></th>\n",
       "      <th></th>\n",
       "      <th></th>\n",
       "      <th></th>\n",
       "      <th></th>\n",
       "      <th></th>\n",
       "      <th></th>\n",
       "      <th></th>\n",
       "      <th></th>\n",
       "      <th></th>\n",
       "      <th></th>\n",
       "      <th></th>\n",
       "      <th></th>\n",
       "      <th></th>\n",
       "      <th></th>\n",
       "      <th></th>\n",
       "    </tr>\n",
       "  </thead>\n",
       "  <tbody>\n",
       "    <tr>\n",
       "      <td>F</td>\n",
       "      <td>50.0</td>\n",
       "      <td>22.86300</td>\n",
       "      <td>2.808525</td>\n",
       "      <td>18.308</td>\n",
       "      <td>20.262</td>\n",
       "      <td>22.9035</td>\n",
       "      <td>25.31075</td>\n",
       "      <td>28.030</td>\n",
       "      <td>50.0</td>\n",
       "      <td>97.233923</td>\n",
       "      <td>14.671722</td>\n",
       "      <td>72.523768</td>\n",
       "      <td>87.944829</td>\n",
       "      <td>96.525077</td>\n",
       "      <td>110.221035</td>\n",
       "      <td>125.112598</td>\n",
       "    </tr>\n",
       "    <tr>\n",
       "      <td>M</td>\n",
       "      <td>50.0</td>\n",
       "      <td>22.77346</td>\n",
       "      <td>2.810946</td>\n",
       "      <td>18.272</td>\n",
       "      <td>20.296</td>\n",
       "      <td>22.8570</td>\n",
       "      <td>25.08700</td>\n",
       "      <td>27.995</td>\n",
       "      <td>50.0</td>\n",
       "      <td>100.832464</td>\n",
       "      <td>14.128692</td>\n",
       "      <td>70.649083</td>\n",
       "      <td>92.218571</td>\n",
       "      <td>101.402686</td>\n",
       "      <td>108.402293</td>\n",
       "      <td>130.525952</td>\n",
       "    </tr>\n",
       "  </tbody>\n",
       "</table>\n",
       "</div>"
      ],
      "text/plain": [
       "      Age                                                                 \\\n",
       "    count      mean       std     min     25%      50%       75%     max   \n",
       "Sex                                                                        \n",
       "F    50.0  22.86300  2.808525  18.308  20.262  22.9035  25.31075  28.030   \n",
       "M    50.0  22.77346  2.810946  18.272  20.296  22.8570  25.08700  27.995   \n",
       "\n",
       "    Score                                                           \\\n",
       "    count        mean        std        min        25%         50%   \n",
       "Sex                                                                  \n",
       "F    50.0   97.233923  14.671722  72.523768  87.944829   96.525077   \n",
       "M    50.0  100.832464  14.128692  70.649083  92.218571  101.402686   \n",
       "\n",
       "                             \n",
       "            75%         max  \n",
       "Sex                          \n",
       "F    110.221035  125.112598  \n",
       "M    108.402293  130.525952  "
      ]
     },
     "execution_count": 5,
     "metadata": {},
     "output_type": "execute_result"
    }
   ],
   "source": [
    "grouped = sub_info.groupby('Sex')\n",
    "grouped.describe()"
   ]
  },
  {
   "cell_type": "code",
   "execution_count": null,
   "metadata": {},
   "outputs": [],
   "source": [
    "# Get the path to GM map for each subject in the same order as sub_info.csv\n",
    "\n",
    "gray_matter_map_filenames = []\n",
    "\n",
    "for sub in sub_info.mrishare_id.values:\n",
    "    gray_matter_map_file_glob = glob.glob(op.join(mrishare_dat_path, sub, '{}_mwc1NUT1*.nii.gz'))\n",
    "    if not gray_matter_map_file_glob:\n",
    "        print ('Could not find the grey matter map for {}!'.format(sub))\n",
    "    else:\n",
    "        gray_matter_map_filenames.append(gray_matter_map_file_glob[0])\n"
   ]
  },
  {
   "cell_type": "code",
   "execution_count": null,
   "metadata": {},
   "outputs": [],
   "source": [
    "# Check to make sure you have expected number of files\n",
    "len(gray_matter_map_filenames)"
   ]
  },
  {
   "cell_type": "code",
   "execution_count": 6,
   "metadata": {},
   "outputs": [
    {
     "data": {
      "text/plain": [
       "array([24.241, 22.943, 23.107, 22.916, 20.011, 23.715, 21.426, 23.745,\n",
       "       20.843, 21.843, 19.825, 26.669, 23.08 , 25.374, 24.583, 21.465,\n",
       "       20.233, 22.768, 21.065, 22.319, 24.55 , 23.17 , 27.433, 19.973,\n",
       "       19.458, 22.908, 19.893, 20.509, 19.578, 22.806, 20.887, 24.014,\n",
       "       25.766, 25.117, 18.815, 20.175, 26.031, 27.995, 22.864, 18.324,\n",
       "       18.322, 18.762, 24.233, 26.335, 25.112, 27.28 , 18.272, 18.992,\n",
       "       18.308, 19.529, 21.774, 20.912, 23.652, 26.264, 27.398, 23.088,\n",
       "       26.064, 22.168, 20.846, 18.782, 26.026, 21.369, 27.258, 19.009,\n",
       "       25.963, 26.672, 20.523, 22.768, 19.915, 18.847, 26.108, 19.641,\n",
       "       24.564, 27.422, 22.757, 28.03 , 23.745, 19.789, 21.462, 20.044,\n",
       "       23.173, 25.966, 23.995, 24.55 , 27.184, 26.292, 21.095, 23.138,\n",
       "       20.044, 27.42 , 25.821, 25.377, 22.448, 18.94 , 21.807, 25.44 ,\n",
       "       24.997, 23.636, 19.573, 20.485])"
      ]
     },
     "execution_count": 6,
     "metadata": {},
     "output_type": "execute_result"
    }
   ],
   "source": [
    "age = sub_info.Age.values\n",
    "age"
   ]
  },
  {
   "cell_type": "markdown",
   "metadata": {},
   "source": [
    "Sex is encoded as 'M' or 'F'. make it a binary variable\n",
    "\n"
   ]
  },
  {
   "cell_type": "code",
   "execution_count": 7,
   "metadata": {},
   "outputs": [
    {
     "data": {
      "text/plain": [
       "array([False,  True, False, False, False, False, False, False, False,\n",
       "       False, False, False, False, False, False, False, False, False,\n",
       "       False, False, False, False, False, False, False, False, False,\n",
       "       False, False, False, False, False, False, False, False,  True,\n",
       "       False, False,  True,  True, False, False,  True,  True,  True,\n",
       "       False, False, False,  True,  True,  True,  True,  True, False,\n",
       "       False,  True, False,  True,  True,  True, False,  True,  True,\n",
       "        True,  True,  True,  True,  True,  True,  True,  True,  True,\n",
       "        True,  True,  True,  True,  True,  True,  True,  True,  True,\n",
       "        True,  True,  True,  True, False,  True,  True,  True,  True,\n",
       "        True,  True, False, False,  True,  True, False,  True,  True,\n",
       "       False])"
      ]
     },
     "execution_count": 7,
     "metadata": {},
     "output_type": "execute_result"
    }
   ],
   "source": [
    "sex = sub_info.Sex.values == 'F'\n",
    "sex"
   ]
  },
  {
   "cell_type": "markdown",
   "metadata": {},
   "source": [
    "Print basic information on the dataset\n",
    "\n"
   ]
  },
  {
   "cell_type": "code",
   "execution_count": 7,
   "metadata": {},
   "outputs": [
    {
     "data": {
      "text/plain": [
       "array([74., 55., 73., 28., 18., 24., 21., 20., 74., 52.])"
      ]
     },
     "execution_count": 7,
     "metadata": {},
     "output_type": "execute_result"
    }
   ],
   "source": [
    "age"
   ]
  },
  {
   "cell_type": "code",
   "execution_count": 8,
   "metadata": {},
   "outputs": [
    {
     "data": {
      "text/plain": [
       "array([ True,  True,  True, False, False,  True, False,  True, False,\n",
       "        True])"
      ]
     },
     "execution_count": 8,
     "metadata": {},
     "output_type": "execute_result"
    }
   ],
   "source": [
    "sex"
   ]
  },
  {
   "cell_type": "markdown",
   "metadata": {},
   "source": [
    "Get a mask image: We placed a brain mask image in the template space in a folder 'template' under mrishare_dat_path.\n",
    "\n",
    "Take a look at this mask using the plotting function from nilearn.\n"
   ]
  },
  {
   "cell_type": "code",
   "execution_count": null,
   "metadata": {},
   "outputs": [],
   "source": [
    "mask = op.join(mrishare_dat_path, 'template', 'brainmask.nii.gz')\n",
    "template = op.join(mrishare_dat_path, 'template', 'SHARE_T1.nii.gz')"
   ]
  },
  {
   "cell_type": "code",
   "execution_count": null,
   "metadata": {},
   "outputs": [],
   "source": [
    "from nilearn import plotting\n",
    "display = plotting.plot_roi(mask, template)"
   ]
  },
  {
   "cell_type": "markdown",
   "metadata": {},
   "source": [
    "Analyse data\n",
    "------------\n",
    "\n",
    "First create an adequate design matrix with three columns: 'age',\n",
    "'sex', 'intercept'.\n",
    "\n"
   ]
  },
  {
   "cell_type": "code",
   "execution_count": 10,
   "metadata": {},
   "outputs": [],
   "source": [
    "intercept = np.ones(n_subjects)\n",
    "design_matrix = pd.DataFrame(np.vstack((sex, age, intercept)).T,\n",
    "                             columns=['sex', 'age', 'intercept'])"
   ]
  },
  {
   "cell_type": "markdown",
   "metadata": {},
   "source": [
    "Plot the design matrix\n",
    "\n"
   ]
  },
  {
   "cell_type": "code",
   "execution_count": 11,
   "metadata": {},
   "outputs": [
    {
     "data": {
      "text/plain": [
       "Text(30.25, 0.5, 'maps')"
      ]
     },
     "execution_count": 11,
     "metadata": {},
     "output_type": "execute_result"
    },
    {
     "data": {
      "image/png": "[encoded data removed]",
      "text/plain": [
       "<Figure size 432x288 with 1 Axes>"
      ]
     },
     "metadata": {
      "needs_background": "light"
     },
     "output_type": "display_data"
    }
   ],
   "source": [
    "from nistats.reporting import plot_design_matrix\n",
    "ax = plot_design_matrix(design_matrix)\n",
    "ax.set_title('Second level design matrix', fontsize=12)\n",
    "ax.set_ylabel('maps')"
   ]
  },
  {
   "cell_type": "code",
   "execution_count": 12,
   "metadata": {},
   "outputs": [
    {
     "data": {
      "text/html": [
       "<div>\n",
       "<style scoped>\n",
       "    .dataframe tbody tr th:only-of-type {\n",
       "        vertical-align: middle;\n",
       "    }\n",
       "\n",
       "    .dataframe tbody tr th {\n",
       "        vertical-align: top;\n",
       "    }\n",
       "\n",
       "    .dataframe thead th {\n",
       "        text-align: right;\n",
       "    }\n",
       "</style>\n",
       "<table border=\"1\" class=\"dataframe\">\n",
       "  <thead>\n",
       "    <tr style=\"text-align: right;\">\n",
       "      <th></th>\n",
       "      <th>sex</th>\n",
       "      <th>age</th>\n",
       "      <th>intercept</th>\n",
       "    </tr>\n",
       "  </thead>\n",
       "  <tbody>\n",
       "    <tr>\n",
       "      <td>0</td>\n",
       "      <td>0.0</td>\n",
       "      <td>24.241</td>\n",
       "      <td>1.0</td>\n",
       "    </tr>\n",
       "    <tr>\n",
       "      <td>1</td>\n",
       "      <td>1.0</td>\n",
       "      <td>22.943</td>\n",
       "      <td>1.0</td>\n",
       "    </tr>\n",
       "    <tr>\n",
       "      <td>2</td>\n",
       "      <td>0.0</td>\n",
       "      <td>23.107</td>\n",
       "      <td>1.0</td>\n",
       "    </tr>\n",
       "    <tr>\n",
       "      <td>3</td>\n",
       "      <td>0.0</td>\n",
       "      <td>22.916</td>\n",
       "      <td>1.0</td>\n",
       "    </tr>\n",
       "    <tr>\n",
       "      <td>4</td>\n",
       "      <td>0.0</td>\n",
       "      <td>20.011</td>\n",
       "      <td>1.0</td>\n",
       "    </tr>\n",
       "  </tbody>\n",
       "</table>\n",
       "</div>"
      ],
      "text/plain": [
       "   sex     age  intercept\n",
       "0  0.0  24.241        1.0\n",
       "1  1.0  22.943        1.0\n",
       "2  0.0  23.107        1.0\n",
       "3  0.0  22.916        1.0\n",
       "4  0.0  20.011        1.0"
      ]
     },
     "execution_count": 12,
     "metadata": {},
     "output_type": "execute_result"
    }
   ],
   "source": [
    "design_matrix.head()"
   ]
  },
  {
   "cell_type": "markdown",
   "metadata": {},
   "source": [
    "Specify and fit the second-level model when loading the data, we\n",
    "smooth a little bit to improve statistical behavior\n",
    "\n"
   ]
  },
  {
   "cell_type": "code",
   "execution_count": null,
   "metadata": {},
   "outputs": [],
   "source": [
    "from nistats.second_level_model import SecondLevelModel\n",
    "second_level_model = SecondLevelModel(smoothing_fwhm=2.0, mask=mask_img)\n",
    "second_level_model.fit(gray_matter_map_filenames,\n",
    "                       design_matrix=design_matrix)"
   ]
  },
  {
   "cell_type": "markdown",
   "metadata": {},
   "source": [
    "Estimate the contrast is very simple. We can just provide the column\n",
    "name of the design matrix.\n",
    "\n"
   ]
  },
  {
   "cell_type": "code",
   "execution_count": null,
   "metadata": {},
   "outputs": [],
   "source": [
    "z_map = second_level_model.compute_contrast(second_level_contrast=[1, 0, 0],\n",
    "                                            output_type='z_score')"
   ]
  },
  {
   "cell_type": "markdown",
   "metadata": {},
   "source": [
    "We threshold the second level contrast at uncorrected p < 0.001 and plot it.\n",
    "First compute the threshold.\n",
    "\n"
   ]
  },
  {
   "cell_type": "code",
   "execution_count": null,
   "metadata": {},
   "outputs": [],
   "source": [
    "from nistats.thresholding import map_threshold\n",
    "_, threshold = map_threshold(\n",
    "    z_map, level=.05, height_control='fdr')\n",
    "print('The FDR=.05-corrected threshold is: %.3g' % threshold)"
   ]
  },
  {
   "cell_type": "markdown",
   "metadata": {},
   "source": [
    "The plot it\n",
    "\n"
   ]
  },
  {
   "cell_type": "code",
   "execution_count": null,
   "metadata": {},
   "outputs": [],
   "source": [
    "from nilearn import plotting\n",
    "display = plotting.plot_stat_map(\n",
    "    z_map, threshold=threshold, colorbar=True, display_mode='z',\n",
    "    cut_coords=[-4, 26],\n",
    "    title='age effect on grey matter density (FDR = .05)')\n",
    "plotting.show()"
   ]
  },
  {
   "cell_type": "markdown",
   "metadata": {},
   "source": [
    "Can also study the effect of sex: compute the stat, compute the\n",
    "threshold, plot the map\n",
    "\n"
   ]
  },
  {
   "cell_type": "code",
   "execution_count": null,
   "metadata": {},
   "outputs": [],
   "source": [
    "z_map = second_level_model.compute_contrast(second_level_contrast='sex',\n",
    "                                            output_type='z_score')\n",
    "_, threshold = map_threshold(\n",
    "    z_map, level=.05, height_control='fdr')\n",
    "plotting.plot_stat_map(\n",
    "    z_map, threshold=threshold, colorbar=True,\n",
    "    title='sex effect on grey matter density (FDR = .05)')"
   ]
  },
  {
   "cell_type": "markdown",
   "metadata": {},
   "source": [
    "Note that there does not seem to be any significant effect of sex on\n",
    "grey matter density on that dataset.\n",
    "\n"
   ]
  },
  {
   "cell_type": "markdown",
   "metadata": {},
   "source": [
    "## Exercise 1\n",
    "\n",
    "In the model tested above, we tested the simplest model that assumed no interaction between Age and Sex.\n",
    "\n",
    "This is not wrong, as long as you have no reason or interest to believe in the possibility of Age x Sex.\n",
    "\n",
    "How could you modify the design matrix to test the interaction between Age and Sex?\n",
    "\n",
    "Here are some useful resources if you are not sure;\n",
    "\n",
    "* GLM and design matirx: background\n",
    "stat_modeling.pdf\n",
    "glm.pdf\n",
    "(under resources folder)\n",
    "\n",
    "* Design matrix and mean-centering\n",
    "http://mumford.fmripower.org/mean_centering/\n",
    "\n",
    "* Other examples of GLM and design matrices\n",
    "https://fsl.fmrib.ox.ac.uk/fsl/fslwiki/GLM\n",
    "\n"
   ]
  },
  {
   "cell_type": "code",
   "execution_count": null,
   "metadata": {},
   "outputs": [],
   "source": []
  },
  {
   "cell_type": "code",
   "execution_count": null,
   "metadata": {},
   "outputs": [],
   "source": []
  },
  {
   "cell_type": "code",
   "execution_count": null,
   "metadata": {},
   "outputs": [],
   "source": []
  },
  {
   "cell_type": "markdown",
   "metadata": {},
   "source": [
    "## Exercise 2\n",
    "\n",
    "In the sub_info.csv, there is a column 'Score', representing a cognitive test score.\n",
    "Can you create a new design matrix and contrast to investigate the effect of cognitive score, \n",
    "after controlling for age and sex?"
   ]
  },
  {
   "cell_type": "code",
   "execution_count": null,
   "metadata": {},
   "outputs": [],
   "source": []
  },
  {
   "cell_type": "code",
   "execution_count": null,
   "metadata": {},
   "outputs": [],
   "source": []
  },
  {
   "cell_type": "markdown",
   "metadata": {},
   "source": [
    "## Exercise 3\n",
    "\n",
    "We used nistats and nilearn to perform the simple GLM analyses and view the results. However, you can use more conventional software packages (FSL, SPM, AFNI, etc) to perform the same analyses. They differ in how you specify desgin matrices/contrasts, how you can control for the multiple comparisons.\n",
    "\n",
    "Because VBM is typically performed using SPM VBM pipeline, many use SPM for GLM as well. But you don't have to! You should choose the tools based on the features (eg. options for multiple comparison corrections) you desire.\n",
    "\n",
    "Try using SPM or FSL to perform the same analysis you tried above."
   ]
  },
  {
   "cell_type": "code",
   "execution_count": null,
   "metadata": {},
   "outputs": [],
   "source": []
  }
 ],
 "metadata": {
  "kernelspec": {
   "display_name": "Python 3",
   "language": "python",
   "name": "python3"
  },
  "language_info": {
   "codemirror_mode": {
    "name": "ipython",
    "version": 3
   },
   "file_extension": ".py",
   "mimetype": "text/x-python",
   "name": "python",
   "nbconvert_exporter": "python",
   "pygments_lexer": "ipython3",
   "version": "3.7.4"
  }
 },
 "nbformat": 4,
 "nbformat_minor": 1
}
