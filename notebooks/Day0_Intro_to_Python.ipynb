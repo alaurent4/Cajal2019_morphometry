{
 "cells": [
  {
   "cell_type": "markdown",
   "metadata": {},
   "source": [
    "## Python for neuroimaging\n",
    "\n",
    "While programming is not necessarily a required skill for neuroimaging analysis, it is a **very useful** skill to have, and quite essential for performing **reproducible science**. \n",
    "\n",
    "It is not the purpose of this project to teach you how to become an expert python programmer, but throughout we use python jupyter notebook for demonstrating examples of neuroimage processing and analysis. If  you are not familiar with python, we advise you to complete the following sections from **Introduction to Python** website (http://introtopython.org/).\n",
    "\n",
    "* Variables, Strings, and Numbers\n",
    "* Lists and Tuples\n",
    "* Introducing Functions\n",
    "* If Statements\n",
    "* Dictionaries\n",
    "\n",
    "Also, read **Numpy** section from here (http://cs231n.github.io/python-numpy-tutorial/). Even better, try them out by simply copying the sections of codes in the notebook cells, as shown in the first cell below."
   ]
  },
  {
   "cell_type": "code",
   "execution_count": null,
   "metadata": {},
   "outputs": [],
   "source": [
    "# This was copied directly from (http://cs231n.github.io/python-numpy-tutorial/) Numpy section.\n",
    "\n",
    "import numpy as np\n",
    "\n",
    "a = np.array([1, 2, 3])   # Create a rank 1 array\n",
    "print(type(a))            # Prints \"<class 'numpy.ndarray'>\"\n",
    "print(a.shape)            # Prints \"(3,)\"\n",
    "print(a[0], a[1], a[2])   # Prints \"1 2 3\"\n",
    "a[0] = 5                  # Change an element of the array\n",
    "print(a)                  # Prints \"[5, 2, 3]\"\n",
    "\n",
    "b = np.array([[1,2,3],[4,5,6]])    # Create a rank 2 array\n",
    "print(b.shape)                     # Prints \"(2, 3)\"\n",
    "print(b[0, 0], b[0, 1], b[1, 0])   # Prints \"1 2 4\""
   ]
  },
  {
   "cell_type": "markdown",
   "metadata": {},
   "source": [
    "Note that you only have to import packages once in your notebook (\"import numpy as np\" in the above cell). In the following cells, you can use np.(whatever) and it knows that you are referring to the numpy package."
   ]
  },
  {
   "cell_type": "code",
   "execution_count": null,
   "metadata": {},
   "outputs": [],
   "source": []
  },
  {
   "cell_type": "code",
   "execution_count": null,
   "metadata": {},
   "outputs": [],
   "source": []
  },
  {
   "cell_type": "markdown",
   "metadata": {},
   "source": [
    "Another essential python package is **Pandas**. We will be using it to read/write csv files, but you can read and try out this tutorial (http://www.gregreda.com/2013/10/26/intro-to-pandas-data-structures/) to get the basic ideas about **dataframe** and how to interact with it."
   ]
  },
  {
   "cell_type": "code",
   "execution_count": null,
   "metadata": {},
   "outputs": [],
   "source": []
  }
 ],
 "metadata": {
  "kernelspec": {
   "display_name": "Python 3",
   "language": "python",
   "name": "python3"
  },
  "language_info": {
   "codemirror_mode": {
    "name": "ipython",
    "version": 3
   },
   "file_extension": ".py",
   "mimetype": "text/x-python",
   "name": "python",
   "nbconvert_exporter": "python",
   "pygments_lexer": "ipython3",
   "version": "3.7.4"
  }
 },
 "nbformat": 4,
 "nbformat_minor": 2
}
