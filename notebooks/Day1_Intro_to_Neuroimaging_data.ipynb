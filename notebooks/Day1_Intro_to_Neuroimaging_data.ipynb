{
 "cells": [
  {
   "cell_type": "markdown",
   "metadata": {},
   "source": [
    "## Images as arrays\n",
    "\n",
    "When you scan a subject with MRI scanner, the images are first stored as **DICOM (Digital Imaging and Communications in Medicine)**.\n",
    "\n",
    "As you see in the description here (https://en.wikibooks.org/wiki/Neuroimaging_Data_Processing/DICOM), most neuroimaging software tools convert them to a lighter, eaier-to-work-with format, **NIFTI**. So the first step in any neuroimaging processing is to convert DICOM to NIFTI format, using toos such as **dcm2nii**.\n",
    "\n",
    "But reagardless of the file format, what you have to understand first is that images are simply **numerical arrays** that represent strength of a signal (i.e. intensity level) at a given point in space.\n",
    "\n",
    "To demonstrate this, we will construct an array using **numpy** package and visualize it with **matplotlib** in python."
   ]
  },
  {
   "cell_type": "code",
   "execution_count": 1,
   "metadata": {},
   "outputs": [],
   "source": [
    "%matplotlib inline\n",
    "import matplotlib.pyplot as plt\n",
    "import numpy as np\n",
    "import os.path as op"
   ]
  },
  {
   "cell_type": "code",
   "execution_count": 2,
   "metadata": {},
   "outputs": [],
   "source": [
    "an_array = np.array([[ 0,  0,  0,  0,  0,  0,  0,  0],\n",
    "                     [ 0,  0,  0,  9, 99, 99, 94,  0],\n",
    "                     [ 0,  0,  0, 25, 99, 99, 79,  0],\n",
    "                     [ 0,  0,  0,  0,  0,  0,  0,  0],\n",
    "                     [ 0,  0,  0, 56, 99, 99, 49,  0],\n",
    "                     [ 0,  0,  0, 73, 99, 99, 31,  0],\n",
    "                     [ 0,  0,  0, 91, 99, 99, 13,  0],\n",
    "                     [ 0,  0,  9, 99, 99, 94,  0,  0],\n",
    "                     [ 0,  0, 27, 99, 99, 77,  0,  0],\n",
    "                     [ 0,  0, 45, 99, 99, 59,  0,  0],\n",
    "                     [ 0,  0, 63, 99, 99, 42,  0,  0],\n",
    "                     [ 0,  0, 80, 99, 99, 24,  0,  0],\n",
    "                     [ 0,  1, 96, 99, 99,  6,  0,  0],\n",
    "                     [ 0, 16, 99, 99, 88,  0,  0,  0],\n",
    "                     [ 0,  0,  0,  0,  0,  0,  0,  0]])"
   ]
  },
  {
   "cell_type": "markdown",
   "metadata": {},
   "source": [
    "We can check the size of the array."
   ]
  },
  {
   "cell_type": "code",
   "execution_count": 3,
   "metadata": {},
   "outputs": [
    {
     "data": {
      "text/plain": [
       "(15, 8)"
      ]
     },
     "execution_count": 3,
     "metadata": {},
     "output_type": "execute_result"
    }
   ],
   "source": [
    "an_array.shape"
   ]
  },
  {
   "cell_type": "markdown",
   "metadata": {},
   "source": [
    "We can show arrays as images using the plt.imshow command. This is the default output:"
   ]
  },
  {
   "cell_type": "code",
   "execution_count": 4,
   "metadata": {},
   "outputs": [
    {
     "data": {
      "text/plain": [
       "<matplotlib.colorbar.Colorbar at 0x7fe99dea9710>"
      ]
     },
     "execution_count": 4,
     "metadata": {},
     "output_type": "execute_result"
    },
    {
     "data": {
      "image/png": "[encoded data removed]",
      "text/plain": [
       "<Figure size 432x288 with 2 Axes>"
      ]
     },
     "metadata": {
      "needs_background": "light"
     },
     "output_type": "display_data"
    }
   ],
   "source": [
    "plt.imshow(an_array)\n",
    "plt.colorbar()"
   ]
  },
  {
   "cell_type": "markdown",
   "metadata": {},
   "source": [
    "We can change the colormap to gray, but the choice is arbitrary. You can choose any color map you like!"
   ]
  },
  {
   "cell_type": "code",
   "execution_count": 5,
   "metadata": {},
   "outputs": [
    {
     "data": {
      "text/plain": [
       "<matplotlib.colorbar.Colorbar at 0x7fe99de09d10>"
      ]
     },
     "execution_count": 5,
     "metadata": {},
     "output_type": "execute_result"
    },
    {
     "data": {
      "image/png": "[encoded data removed]",
      "text/plain": [
       "<Figure size 432x288 with 2 Axes>"
      ]
     },
     "metadata": {
      "needs_background": "light"
     },
     "output_type": "display_data"
    }
   ],
   "source": [
    "plt.imshow(an_array, cmap='gray')\n",
    "plt.colorbar()"
   ]
  },
  {
   "cell_type": "markdown",
   "metadata": {},
   "source": [
    "## NIFTI image\n",
    "\n",
    "The above example is a small 2-dimensional array. Neuroimaging data are typically larger, and usually 3-D (anatomical image) or 4-D (3-D image with temporal axis).\n",
    "\n",
    "The NIFTI image contains three basic components:\n",
    " \n",
    "1. data array: this component is similar to an array above, except that it's 3-D or 4-D.\n",
    "2. header: this component stores various meta-data about the image, like resolution, image size, etc.\n",
    "3. affine: this component stores a transformation array that describes the relationship between data array and a reference space.\n",
    "\n",
    "The concept of affine is described in detail here (https://nipy.org/nibabel/coordinate_systems.html), but basically it allows us to relate numbers in the data array (i, j, k) to a reference space, usually either a \"real-world\" scanner space or a standard template space (right-left, anterior-posterior, superior-inferior).\n",
    "\n",
    "We can take a look at these components from the sample MRiShare data."
   ]
  },
  {
   "cell_type": "code",
   "execution_count": 6,
   "metadata": {},
   "outputs": [],
   "source": [
    "# my_data_dir = '/data/ro_formateur/mrishare'\n",
    "my_data_dir = '/data/ishare'\n",
    "sample_T1 = op.join(my_data_dir, 'SHARE0001', 'anat', 'SHARE0001_T1w.nii.gz')"
   ]
  },
  {
   "cell_type": "markdown",
   "metadata": {},
   "source": [
    "We use nibabel package to load the sample T1 image."
   ]
  },
  {
   "cell_type": "code",
   "execution_count": 7,
   "metadata": {},
   "outputs": [],
   "source": [
    "import nibabel as nib"
   ]
  },
  {
   "cell_type": "code",
   "execution_count": 8,
   "metadata": {},
   "outputs": [
    {
     "data": {
      "text/plain": [
       "nibabel.nifti1.Nifti1Image"
      ]
     },
     "execution_count": 8,
     "metadata": {},
     "output_type": "execute_result"
    }
   ],
   "source": [
    "sample_T1_img = nib.load(sample_T1)\n",
    "type(sample_T1_img)"
   ]
  },
  {
   "cell_type": "markdown",
   "metadata": {},
   "source": [
    "You can check the size of the image data directly:"
   ]
  },
  {
   "cell_type": "code",
   "execution_count": 9,
   "metadata": {},
   "outputs": [
    {
     "data": {
      "text/plain": [
       "(256, 256, 192)"
      ]
     },
     "execution_count": 9,
     "metadata": {},
     "output_type": "execute_result"
    }
   ],
   "source": [
    "sample_T1_img.shape"
   ]
  },
  {
   "cell_type": "markdown",
   "metadata": {},
   "source": [
    "You can explore other attributes of this nibabel image object using tab completion after \"sample_T1_img\"."
   ]
  },
  {
   "cell_type": "code",
   "execution_count": 10,
   "metadata": {},
   "outputs": [
    {
     "data": {
      "text/plain": [
       "array([[ 7.11646397e-03,  1.75582077e-02,  9.99820471e-01,\n",
       "        -1.01762154e+02],\n",
       "       [-9.88993168e-01, -1.47647113e-01,  9.63228196e-03,\n",
       "         1.55213852e+02],\n",
       "       [-1.47789732e-01,  9.88884211e-01, -1.63142215e-02,\n",
       "        -1.21344154e+02],\n",
       "       [ 0.00000000e+00,  0.00000000e+00,  0.00000000e+00,\n",
       "         1.00000000e+00]])"
      ]
     },
     "execution_count": 10,
     "metadata": {},
     "output_type": "execute_result"
    }
   ],
   "source": [
    "sample_T1_img."
   ]
  },
  {
   "cell_type": "markdown",
   "metadata": {},
   "source": [
    "Let's look at each component listed above.\n",
    "\n",
    "First, we can access the data obj directly by img.dataobj or using method get_fdata().\n",
    "The only difference between the two is how they occupy computational memory. You can read more about this here (https://nipy.org/nibabel/images_and_memory.html), and here (https://nipy.org/nibabel/nibabel_images.html#proxies-caching) but in most cases you can use one or the other to access data."
   ]
  },
  {
   "cell_type": "code",
   "execution_count": 11,
   "metadata": {},
   "outputs": [
    {
     "data": {
      "text/plain": [
       "nibabel.arrayproxy.ArrayProxy"
      ]
     },
     "execution_count": 11,
     "metadata": {},
     "output_type": "execute_result"
    }
   ],
   "source": [
    "sample_dataobj = sample_T1_img.dataobj\n",
    "type(sample_dataobj)"
   ]
  },
  {
   "cell_type": "code",
   "execution_count": 13,
   "metadata": {},
   "outputs": [
    {
     "data": {
      "text/plain": [
       "(256, 256, 192)"
      ]
     },
     "execution_count": 13,
     "metadata": {},
     "output_type": "execute_result"
    }
   ],
   "source": [
    "sample_dataobj.shape"
   ]
  },
  {
   "cell_type": "code",
   "execution_count": 16,
   "metadata": {},
   "outputs": [
    {
     "data": {
      "text/plain": [
       "501"
      ]
     },
     "execution_count": 16,
     "metadata": {},
     "output_type": "execute_result"
    }
   ],
   "source": [
    "# value at approximate midpoint of the data\n",
    "sample_dataobj[128, 128, 91]"
   ]
  },
  {
   "cell_type": "code",
   "execution_count": 12,
   "metadata": {},
   "outputs": [
    {
     "data": {
      "text/plain": [
       "numpy.ndarray"
      ]
     },
     "execution_count": 12,
     "metadata": {},
     "output_type": "execute_result"
    }
   ],
   "source": [
    "sample_data = sample_T1_img.get_fdata()\n",
    "type(sample_data)"
   ]
  },
  {
   "cell_type": "code",
   "execution_count": 14,
   "metadata": {},
   "outputs": [
    {
     "data": {
      "text/plain": [
       "(256, 256, 192)"
      ]
     },
     "execution_count": 14,
     "metadata": {},
     "output_type": "execute_result"
    }
   ],
   "source": [
    "sample_data.shape"
   ]
  },
  {
   "cell_type": "code",
   "execution_count": 17,
   "metadata": {},
   "outputs": [
    {
     "data": {
      "text/plain": [
       "501.0"
      ]
     },
     "execution_count": 17,
     "metadata": {},
     "output_type": "execute_result"
    }
   ],
   "source": [
    "sample_data[128, 128, 91]"
   ]
  },
  {
   "cell_type": "markdown",
   "metadata": {},
   "source": [
    "Let's try to take the mid-slice and look at it using plt.imshow."
   ]
  },
  {
   "cell_type": "code",
   "execution_count": 26,
   "metadata": {},
   "outputs": [
    {
     "data": {
      "text/plain": [
       "<matplotlib.image.AxesImage at 0x7fe99af1bdd0>"
      ]
     },
     "execution_count": 26,
     "metadata": {},
     "output_type": "execute_result"
    },
    {
     "data": {
      "image/png": "[encoded data removed]",
      "text/plain": [
       "<Figure size 432x288 with 1 Axes>"
      ]
     },
     "metadata": {
      "needs_background": "light"
     },
     "output_type": "display_data"
    }
   ],
   "source": [
    "midslice_from_dataobj = sample_dataobj[:, :, 91]\n",
    "plt.imshow(midslice_from_dataobj, cmap=\"gray\")"
   ]
  },
  {
   "cell_type": "markdown",
   "metadata": {},
   "source": [
    "Now let's look at the header."
   ]
  },
  {
   "cell_type": "code",
   "execution_count": 18,
   "metadata": {},
   "outputs": [
    {
     "data": {
      "text/plain": [
       "<nibabel.nifti1.Nifti1Header at 0x7fe99d1e3390>"
      ]
     },
     "execution_count": 18,
     "metadata": {},
     "output_type": "execute_result"
    }
   ],
   "source": [
    "sample_T1_img.header"
   ]
  },
  {
   "cell_type": "code",
   "execution_count": 19,
   "metadata": {},
   "outputs": [
    {
     "name": "stdout",
     "output_type": "stream",
     "text": [
      "<class 'nibabel.nifti1.Nifti1Header'> object, endian='<'\n",
      "sizeof_hdr      : 348\n",
      "data_type       : b''\n",
      "db_name         : b''\n",
      "extents         : 0\n",
      "session_error   : 0\n",
      "regular         : b'r'\n",
      "dim_info        : 48\n",
      "dim             : [  3 256 256 192   1   1   1   1]\n",
      "intent_p1       : 0.0\n",
      "intent_p2       : 0.0\n",
      "intent_p3       : 0.0\n",
      "intent_code     : none\n",
      "datatype        : int16\n",
      "bitpix          : 16\n",
      "slice_start     : 0\n",
      "pixdim          : [-1.0000000e+00  1.0000000e+00  1.0000000e+00  1.0000000e+00\n",
      "  2.0000000e+00  1.0000000e+00  1.0000000e+00  5.4989617e+04]\n",
      "vox_offset      : 0.0\n",
      "scl_slope       : nan\n",
      "scl_inter       : nan\n",
      "slice_end       : 191\n",
      "slice_code      : alternating increasing 2\n",
      "xyzt_units      : 10\n",
      "cal_max         : 0.0\n",
      "cal_min         : 0.0\n",
      "slice_duration  : 0.0\n",
      "toffset         : 0.0\n",
      "glmax           : 255\n",
      "glmin           : 0\n",
      "descrip         : b'TE=2.029999971;sec=54989.6175;phaseDir=+'\n",
      "aux_file        : b''\n",
      "qform_code      : scanner\n",
      "sform_code      : scanner\n",
      "quatern_b       : 0.5334907\n",
      "quatern_c       : -0.45522583\n",
      "quatern_d       : -0.5377836\n",
      "qoffset_x       : -101.76215\n",
      "qoffset_y       : 155.21385\n",
      "qoffset_z       : -121.344154\n",
      "srow_x          : [ 7.1164640e-03  1.7558208e-02  9.9982047e-01 -1.0176215e+02]\n",
      "srow_y          : [-9.8899317e-01 -1.4764711e-01  9.6322820e-03  1.5521385e+02]\n",
      "srow_z          : [-1.47789732e-01  9.88884211e-01 -1.63142215e-02 -1.21344154e+02]\n",
      "intent_name     : b''\n",
      "magic           : b'n+1'\n"
     ]
    }
   ],
   "source": [
    "print(sample_T1_img.header)"
   ]
  },
  {
   "cell_type": "markdown",
   "metadata": {},
   "source": [
    "You can access individual entry of the heade information like in a Dictionary."
   ]
  },
  {
   "cell_type": "code",
   "execution_count": 20,
   "metadata": {},
   "outputs": [
    {
     "data": {
      "text/plain": [
       "array([  3, 256, 256, 192,   1,   1,   1,   1], dtype=int16)"
      ]
     },
     "execution_count": 20,
     "metadata": {},
     "output_type": "execute_result"
    }
   ],
   "source": [
    "sample_T1_img.header['dim']"
   ]
  },
  {
   "cell_type": "markdown",
   "metadata": {},
   "source": [
    "Now let's look at the affine."
   ]
  },
  {
   "cell_type": "code",
   "execution_count": 21,
   "metadata": {},
   "outputs": [
    {
     "data": {
      "text/plain": [
       "array([[ 7.11646397e-03,  1.75582077e-02,  9.99820471e-01,\n",
       "        -1.01762154e+02],\n",
       "       [-9.88993168e-01, -1.47647113e-01,  9.63228196e-03,\n",
       "         1.55213852e+02],\n",
       "       [-1.47789732e-01,  9.88884211e-01, -1.63142215e-02,\n",
       "        -1.21344154e+02],\n",
       "       [ 0.00000000e+00,  0.00000000e+00,  0.00000000e+00,\n",
       "         1.00000000e+00]])"
      ]
     },
     "execution_count": 21,
     "metadata": {},
     "output_type": "execute_result"
    }
   ],
   "source": [
    "sample_T1_img.affine"
   ]
  },
  {
   "cell_type": "markdown",
   "metadata": {},
   "source": [
    "Since nibabel is not the only program that can read Nifti images, you can access similar information/metadata about the image using other commandline tools that comes with other software packages, like **fslhd** and **fslinfo** from FSL, **mri_info** from Freesurfer package."
   ]
  },
  {
   "cell_type": "code",
   "execution_count": 23,
   "metadata": {},
   "outputs": [
    {
     "name": "stdout",
     "output_type": "stream",
     "text": [
      "data_type      INT16\r\n",
      "dim1           256\r\n",
      "dim2           256\r\n",
      "dim3           192\r\n",
      "dim4           1\r\n",
      "datatype       4\r\n",
      "pixdim1        1.000000\r\n",
      "pixdim2        1.000000\r\n",
      "pixdim3        1.000000\r\n",
      "pixdim4        2.000000\r\n",
      "cal_max        0.0000\r\n",
      "cal_min        0.0000\r\n",
      "file_type      NIFTI-1+\r\n"
     ]
    }
   ],
   "source": [
    "!fslinfo {sample_T1}"
   ]
  },
  {
   "cell_type": "code",
   "execution_count": null,
   "metadata": {},
   "outputs": [],
   "source": [
    "!fslhd {sample_T1}"
   ]
  },
  {
   "cell_type": "code",
   "execution_count": 24,
   "metadata": {},
   "outputs": [
    {
     "name": "stdout",
     "output_type": "stream",
     "text": [
      "Volume information for /data/ishare/SHARE0001/anat/SHARE0001_T1w.nii.gz\r\n",
      "          type: nii\r\n",
      "    dimensions: 256 x 256 x 192\r\n",
      "   voxel sizes: 1.000000, 1.000000, 1.000000\r\n",
      "          type: FLOAT (3)\r\n",
      "           fov: 256.000\r\n",
      "           dof: 0\r\n",
      "        xstart: -128.0, xend: 128.0\r\n",
      "        ystart: -128.0, yend: 128.0\r\n",
      "        zstart: -96.0, zend: 96.0\r\n",
      "            TR: 2000.00 msec, TE: 0.00 msec, TI: 0.00 msec, flip angle: 0.00 degrees\r\n",
      "       nframes: 1\r\n",
      "       PhEncDir: UNKNOWN\r\n",
      "       FieldStrength: 0.000000\r\n",
      "ras xform present\r\n",
      "    xform info: x_r =   0.0071, y_r =   0.0176, z_r =   0.9998, c_r =    -2.6210\r\n",
      "              : x_a =  -0.9890, y_a =  -0.1476, z_a =   0.0096, c_a =    10.6486\r\n",
      "              : x_s =  -0.1478, y_s =   0.9889, z_s =  -0.0163, c_s =   -15.2502\r\n",
      "Orientation   : PSR\r\n",
      "Primary Slice Direction: sagittal\r\n",
      "\r\n",
      "voxel to ras transform:\r\n",
      "                0.0071   0.0176   0.9998  -101.7622\r\n",
      "               -0.9890  -0.1476   0.0096   155.2139\r\n",
      "               -0.1478   0.9889  -0.0163  -121.3441\r\n",
      "                0.0000   0.0000   0.0000     1.0000\r\n",
      "\r\n",
      "voxel-to-ras determinant -1\r\n",
      "\r\n",
      "ras to voxel transform:\r\n",
      "                0.0071  -0.9890  -0.1478   136.2962\r\n",
      "                0.0176  -0.1476   0.9889   144.6990\r\n",
      "                0.9998   0.0096  -0.0163    98.2692\r\n",
      "               -0.0000  -0.0000  -0.0000     1.0000\r\n"
     ]
    }
   ],
   "source": [
    "!mri_info {sample_T1}"
   ]
  },
  {
   "cell_type": "markdown",
   "metadata": {},
   "source": [
    "Likewise, many packages have specialized visualization tools to let you look at Nifti images. Try opening both T1 and FLAIR image in the data folder using the following viewers:\n",
    "\n",
    "* FSLeyes: packaged with FSL\n",
    "* freeview: packaged with Freesurfer\n",
    "* MRIcron: standalone package\n",
    "\n",
    "\n",
    "## Surface-based image formats\n",
    "\n",
    "These are created when the volumetric image is processed to reconstruct a surface representation of the brain, as done by Freesurfer and other softwares. They are also essentially numerical arrays, but how this information is stored is different in different softwares. We will postpone examination of these formats until you learn about surface-based processing in the upcoming lectures.\n",
    "\n",
    "But here is the good overview of various formats and how to read them in nibabel (https://nben.net/MRI-Geometry/#cortical-surfaces).\n"
   ]
  },
  {
   "cell_type": "code",
   "execution_count": null,
   "metadata": {},
   "outputs": [],
   "source": []
  }
 ],
 "metadata": {
  "kernelspec": {
   "display_name": "Python 3",
   "language": "python",
   "name": "python3"
  },
  "language_info": {
   "codemirror_mode": {
    "name": "ipython",
    "version": 3
   },
   "file_extension": ".py",
   "mimetype": "text/x-python",
   "name": "python",
   "nbconvert_exporter": "python",
   "pygments_lexer": "ipython3",
   "version": "3.7.4"
  }
 },
 "nbformat": 4,
 "nbformat_minor": 2
}
