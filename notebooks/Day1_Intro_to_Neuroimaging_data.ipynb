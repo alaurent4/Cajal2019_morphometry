{
 "cells": [
  {
   "cell_type": "markdown",
   "metadata": {},
   "source": [
    "# Basic Terminal knowledge\n",
    "\n",
    "If this has not been done, look in your resource folder, you will find a tutorial on how to begin with Command Line Interface. Take some time to read it, familiarize yourself with the terminal and learn the basic commands that you will need to use all along these practical sessions."
   ]
  },
  {
   "cell_type": "markdown",
   "metadata": {},
   "source": [
    "# Introduction to neuroimaging\n",
    "\n",
    "First of all, you will be given some context of what neuroimaging is. You are going to learn some basics, what is an image and what kind of processing we can apply on.\n",
    "\n",
    "Read this excellent explanation of neuroimaging and focus on the introduction and processing Step 1.\n",
    "\n",
    "https://miykael.github.io/nipype-beginner-s-guide/neuroimaging.html\n",
    "\n",
    "Then read this material about structural MRI modalities.\n",
    "\n",
    "https://casemed.case.edu/clerkships/neurology/Web%20Neurorad/MRI%20Basics.htm"
   ]
  },
  {
   "cell_type": "markdown",
   "metadata": {},
   "source": [
    "Questions: \n",
    "\n",
    "1. What are the three main tissues in the brain we are interested on ?\n",
    "\n",
    "2. What is the difference between T1 and T2 modalities ?\n"
   ]
  },
  {
   "cell_type": "code",
   "execution_count": null,
   "metadata": {
    "collapsed": true
   },
   "outputs": [],
   "source": [
    "#type your answers here"
   ]
  },
  {
   "cell_type": "markdown",
   "metadata": {},
   "source": [
    "# From DICOM to Nifti format\n",
    "\n",
    "Today you will play with T1 and FLAIR modalities of a ten subject dataset that you may find under /data/rw_eleves/Cajal2019/raw .\n",
    "\n",
    "The images are in the DICOM format (.dcm). This is the image format direclty coming out from the scanner. Explore the data structure of this dataset. Do you notice anything particular ? How many files are contained in each folder ?\n",
    "\n",
    "From now on, I will you let you treat this data as if you would have to your own analysis. The first thing is that DICOM (.dcm) is not really convenient to handle. You will have to turn the data into the easier-to-work-with NIFTI format (.nii). So the first step in any neuroimaging processing is to convert data using tools such as **dcm2nii**.\n",
    "\n",
    "Do know that for most of Linux commands, you may call it without arguments to get the help guide. These help guides are always good to have a look at."
   ]
  },
  {
   "cell_type": "code",
   "execution_count": null,
   "metadata": {
    "scrolled": true
   },
   "outputs": [],
   "source": [
    "! dcm2nii"
   ]
  },
  {
   "cell_type": "markdown",
   "metadata": {
    "collapsed": true
   },
   "source": [
    "With dcm2nii tool, convert DICOM files from the 10 subjects into Nifti with anonymisation and reorienting the images. I want in a directory called *nifti*, a directory per subject containing two NIFTI files for T1 and FLAIR."
   ]
  },
  {
   "cell_type": "code",
   "execution_count": 3,
   "metadata": {
    "collapsed": true
   },
   "outputs": [],
   "source": [
    "#it's your turn"
   ]
  },
  {
   "cell_type": "markdown",
   "metadata": {},
   "source": [
    "There are some great visualisation tools. Give it a try to both **freeview** and **fslview** . You may specify the image to be open as an argument or just type it without any."
   ]
  },
  {
   "cell_type": "code",
   "execution_count": null,
   "metadata": {
    "collapsed": true
   },
   "outputs": [],
   "source": [
    "! freeview"
   ]
  },
  {
   "cell_type": "markdown",
   "metadata": {},
   "source": [
    "# Inhomogeneity intensity correction\n",
    "\n",
    "Once you will have your NIFTI image of the ten subjects, the first common preprocessing is called intenisty correction. Due to the inhomogeneus magnet field in the MRI, there can be some irregularities in the intensities of some part of the image. N3 algorithm is one of the most well known. Yet N4 has shown some major improvments.\n"
   ]
  },
  {
   "cell_type": "code",
   "execution_count": null,
   "metadata": {
    "collapsed": true
   },
   "outputs": [],
   "source": [
    "! N4BiasFieldCorrection"
   ]
  },
  {
   "cell_type": "markdown",
   "metadata": {},
   "source": [
    "I will let you apply this procedure to each T1 and FLAIR image. Add the **_nuc** suffix to the image you will get."
   ]
  },
  {
   "cell_type": "code",
   "execution_count": 5,
   "metadata": {
    "collapsed": true
   },
   "outputs": [],
   "source": [
    "#it's your turn"
   ]
  },
  {
   "cell_type": "markdown",
   "metadata": {},
   "source": [
    "# Registration \n",
    "\n",
    "Although this is not obvious by seeing these T1 and FLAIR, images may require some realignment. We need to correct potential (if not certain) head movements during the acquisition. In neuroimaging processing, we will often take T1 as a a reference to align other modalities whether it is from anatomical, diffusion or functional acquisition.\n",
    "\n",
    "Hence in this case we will just have a new FLAIR image.\n",
    "\n",
    "Apply the registration procedure for each subject and name the new image with the **_coreg** suffix ."
   ]
  },
  {
   "cell_type": "code",
   "execution_count": null,
   "metadata": {
    "collapsed": true
   },
   "outputs": [],
   "source": [
    "! flirt"
   ]
  },
  {
   "cell_type": "markdown",
   "metadata": {},
   "source": [
    "# Morphometry\n",
    "\n",
    "Now you will be using some very well-know software called Freesurfer.\n",
    "\n",
    "https://surfer.nmr.mgh.harvard.edu/fswiki/FreeSurferAnalysisPipelineOverview\n",
    "\n",
    "I will let you know what Freesurfer is about.\n",
    "\n",
    "What is the Freesufer purpose ?"
   ]
  },
  {
   "cell_type": "code",
   "execution_count": null,
   "metadata": {},
   "outputs": [],
   "source": [
    "! recon-all"
   ]
  },
  {
   "cell_type": "markdown",
   "metadata": {},
   "source": [
    "In your home folder, you will create a directory called **freesufer_results** . You will perform a recon-all command on one subject you will pick.\n",
    "\n",
    "You may use the Getting started page for this :\n",
    "\n",
    "https://surfer.nmr.mgh.harvard.edu/fswiki/DownloadAndInstall\n",
    "\n",
    "You may skip the installation part.\n",
    "\n",
    "Don't forget to set your SUBJECTS_DIR variable."
   ]
  },
  {
   "cell_type": "markdown",
   "metadata": {},
   "source": [
    "Once it has been launched, we can leave the machine do its work."
   ]
  },
  {
   "cell_type": "markdown",
   "metadata": {},
   "source": [
    "End of today session."
   ]
  }
 ],
 "metadata": {
  "kernelspec": {
   "display_name": "Python 3",
   "language": "python",
   "name": "python3"
  },
  "language_info": {
   "codemirror_mode": {
    "name": "ipython",
    "version": 3
   },
   "file_extension": ".py",
   "mimetype": "text/x-python",
   "name": "python",
   "nbconvert_exporter": "python",
   "pygments_lexer": "ipython3",
   "version": "3.6.3"
  }
 },
 "nbformat": 4,
 "nbformat_minor": 2
}
