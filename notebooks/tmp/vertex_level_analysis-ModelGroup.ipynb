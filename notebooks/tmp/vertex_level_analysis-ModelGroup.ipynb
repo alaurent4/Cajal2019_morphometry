{
 "cells": [
  {
   "cell_type": "markdown",
   "metadata": {},
   "source": [
    "In this notebook, I will prepare FSDG files and contrast files to run vertex-level analyses for MRiShare data.\n",
    "\n",
    "Measures of interest: CT and CSA\n",
    "\n",
    "The model is a follow-up to the Simple Model that did not model the group diffrences.\n",
    "\n",
    "Here, Sex is included in the group that include both sexes, and the effects of Sex and Age are examined in a model that control for ICV. Two strategies for centering Age and ICV are compared:\n",
    "\n",
    "1. Age/ICV centered across groups (AgeC, eTIVC)\n",
    "\n",
    "2. Age/ICV centered for each group separately (AgeGC, eTIVGC)\n",
    "\n",
    "\n",
    "## 1. Imports, data and output dirs\n"
   ]
  },
  {
   "cell_type": "code",
   "execution_count": 1,
   "metadata": {},
   "outputs": [],
   "source": [
    "import os\n",
    "import os.path as op\n",
    "import numpy as np\n",
    "import pandas as pd"
   ]
  },
  {
   "cell_type": "code",
   "execution_count": 2,
   "metadata": {},
   "outputs": [],
   "source": [
    "outdir = 'SBM_main'\n",
    "os.makedirs(outdir, exist_ok=True)"
   ]
  },
  {
   "cell_type": "code",
   "execution_count": 9,
   "metadata": {},
   "outputs": [],
   "source": [
    "simple_out = op.join(outdir, 'Simple_Models')\n",
    "sub_info = pd.read_csv(op.join(outdir, 'subjects_info.csv'), index_col=0)"
   ]
  },
  {
   "cell_type": "code",
   "execution_count": 10,
   "metadata": {},
   "outputs": [
    {
     "data": {
      "text/html": [
       "<div>\n",
       "<style scoped>\n",
       "    .dataframe tbody tr th:only-of-type {\n",
       "        vertical-align: middle;\n",
       "    }\n",
       "\n",
       "    .dataframe tbody tr th {\n",
       "        vertical-align: top;\n",
       "    }\n",
       "\n",
       "    .dataframe thead th {\n",
       "        text-align: right;\n",
       "    }\n",
       "</style>\n",
       "<table border=\"1\" class=\"dataframe\">\n",
       "  <thead>\n",
       "    <tr style=\"text-align: right;\">\n",
       "      <th></th>\n",
       "      <th>Sex</th>\n",
       "      <th>Age</th>\n",
       "      <th>eTIV</th>\n",
       "    </tr>\n",
       "    <tr>\n",
       "      <th>mrishare_id</th>\n",
       "      <th></th>\n",
       "      <th></th>\n",
       "      <th></th>\n",
       "    </tr>\n",
       "  </thead>\n",
       "  <tbody>\n",
       "    <tr>\n",
       "      <th>SHARE0001</th>\n",
       "      <td>M</td>\n",
       "      <td>24.241</td>\n",
       "      <td>1.847961e+06</td>\n",
       "    </tr>\n",
       "    <tr>\n",
       "      <th>SHARE0002</th>\n",
       "      <td>F</td>\n",
       "      <td>22.943</td>\n",
       "      <td>1.446134e+06</td>\n",
       "    </tr>\n",
       "    <tr>\n",
       "      <th>SHARE0003</th>\n",
       "      <td>F</td>\n",
       "      <td>23.633</td>\n",
       "      <td>1.427213e+06</td>\n",
       "    </tr>\n",
       "    <tr>\n",
       "      <th>SHARE0004</th>\n",
       "      <td>M</td>\n",
       "      <td>23.107</td>\n",
       "      <td>1.825874e+06</td>\n",
       "    </tr>\n",
       "    <tr>\n",
       "      <th>SHARE0005</th>\n",
       "      <td>F</td>\n",
       "      <td>25.021</td>\n",
       "      <td>1.289739e+06</td>\n",
       "    </tr>\n",
       "  </tbody>\n",
       "</table>\n",
       "</div>"
      ],
      "text/plain": [
       "            Sex     Age          eTIV\n",
       "mrishare_id                          \n",
       "SHARE0001     M  24.241  1.847961e+06\n",
       "SHARE0002     F  22.943  1.446134e+06\n",
       "SHARE0003     F  23.633  1.427213e+06\n",
       "SHARE0004     M  23.107  1.825874e+06\n",
       "SHARE0005     F  25.021  1.289739e+06"
      ]
     },
     "execution_count": 10,
     "metadata": {},
     "output_type": "execute_result"
    }
   ],
   "source": [
    "sub_info.head()"
   ]
  },
  {
   "cell_type": "code",
   "execution_count": 11,
   "metadata": {},
   "outputs": [],
   "source": [
    "mg_out = op.join(outdir, 'Model_Sex')\n",
    "os.makedirs(mg_out, exist_ok=True)"
   ]
  },
  {
   "cell_type": "code",
   "execution_count": 12,
   "metadata": {},
   "outputs": [],
   "source": [
    "group_out = op.join(mg_out, 'Both')\n",
    "os.makedirs(group_out, exist_ok=True)"
   ]
  },
  {
   "cell_type": "markdown",
   "metadata": {},
   "source": [
    "## 2. Create FSDG and contrast files for models with Sex"
   ]
  },
  {
   "cell_type": "code",
   "execution_count": 13,
   "metadata": {},
   "outputs": [
    {
     "data": {
      "text/html": [
       "<div>\n",
       "<style scoped>\n",
       "    .dataframe tbody tr th:only-of-type {\n",
       "        vertical-align: middle;\n",
       "    }\n",
       "\n",
       "    .dataframe tbody tr th {\n",
       "        vertical-align: top;\n",
       "    }\n",
       "\n",
       "    .dataframe thead th {\n",
       "        text-align: right;\n",
       "    }\n",
       "</style>\n",
       "<table border=\"1\" class=\"dataframe\">\n",
       "  <thead>\n",
       "    <tr style=\"text-align: right;\">\n",
       "      <th></th>\n",
       "      <th>Sex</th>\n",
       "      <th>Age</th>\n",
       "      <th>eTIV</th>\n",
       "      <th>AgeC</th>\n",
       "      <th>SqAgeC</th>\n",
       "      <th>eTIVC</th>\n",
       "    </tr>\n",
       "    <tr>\n",
       "      <th>mrishare_id</th>\n",
       "      <th></th>\n",
       "      <th></th>\n",
       "      <th></th>\n",
       "      <th></th>\n",
       "      <th></th>\n",
       "      <th></th>\n",
       "    </tr>\n",
       "  </thead>\n",
       "  <tbody>\n",
       "    <tr>\n",
       "      <th>SHARE0001</th>\n",
       "      <td>M</td>\n",
       "      <td>24.241</td>\n",
       "      <td>1.847961e+06</td>\n",
       "      <td>2.130683</td>\n",
       "      <td>4.539809</td>\n",
       "      <td>279630.987766</td>\n",
       "    </tr>\n",
       "    <tr>\n",
       "      <th>SHARE0002</th>\n",
       "      <td>F</td>\n",
       "      <td>22.943</td>\n",
       "      <td>1.446134e+06</td>\n",
       "      <td>0.832683</td>\n",
       "      <td>0.693360</td>\n",
       "      <td>-122195.115844</td>\n",
       "    </tr>\n",
       "    <tr>\n",
       "      <th>SHARE0003</th>\n",
       "      <td>F</td>\n",
       "      <td>23.633</td>\n",
       "      <td>1.427213e+06</td>\n",
       "      <td>1.522683</td>\n",
       "      <td>2.318562</td>\n",
       "      <td>-141116.138384</td>\n",
       "    </tr>\n",
       "    <tr>\n",
       "      <th>SHARE0004</th>\n",
       "      <td>M</td>\n",
       "      <td>23.107</td>\n",
       "      <td>1.825874e+06</td>\n",
       "      <td>0.996683</td>\n",
       "      <td>0.993376</td>\n",
       "      <td>257544.682786</td>\n",
       "    </tr>\n",
       "    <tr>\n",
       "      <th>SHARE0005</th>\n",
       "      <td>F</td>\n",
       "      <td>25.021</td>\n",
       "      <td>1.289739e+06</td>\n",
       "      <td>2.910683</td>\n",
       "      <td>8.472074</td>\n",
       "      <td>-278590.321124</td>\n",
       "    </tr>\n",
       "  </tbody>\n",
       "</table>\n",
       "</div>"
      ],
      "text/plain": [
       "            Sex     Age          eTIV      AgeC    SqAgeC          eTIVC\n",
       "mrishare_id                                                             \n",
       "SHARE0001     M  24.241  1.847961e+06  2.130683  4.539809  279630.987766\n",
       "SHARE0002     F  22.943  1.446134e+06  0.832683  0.693360 -122195.115844\n",
       "SHARE0003     F  23.633  1.427213e+06  1.522683  2.318562 -141116.138384\n",
       "SHARE0004     M  23.107  1.825874e+06  0.996683  0.993376  257544.682786\n",
       "SHARE0005     F  25.021  1.289739e+06  2.910683  8.472074 -278590.321124"
      ]
     },
     "execution_count": 13,
     "metadata": {},
     "output_type": "execute_result"
    }
   ],
   "source": [
    "group_info = pd.read_csv(op.join(simple_out, 'Both', 'group_info.csv'), index_col=0)\n",
    "group_info.head()"
   ]
  },
  {
   "cell_type": "code",
   "execution_count": 14,
   "metadata": {},
   "outputs": [
    {
     "data": {
      "text/plain": [
       "1834"
      ]
     },
     "execution_count": 14,
     "metadata": {},
     "output_type": "execute_result"
    }
   ],
   "source": [
    "len(group_info)"
   ]
  },
  {
   "cell_type": "code",
   "execution_count": 15,
   "metadata": {},
   "outputs": [],
   "source": [
    "# Add group centered Age and eTIV columns\n",
    "\n",
    "male_df = pd.read_csv(op.join(simple_out, 'Male', 'group_info.csv'), index_col=0)\n",
    "female_df = pd.read_csv(op.join(simple_out, 'Female', 'group_info.csv'), index_col=0)\n",
    "\n"
   ]
  },
  {
   "cell_type": "code",
   "execution_count": 17,
   "metadata": {},
   "outputs": [
    {
     "data": {
      "text/html": [
       "<div>\n",
       "<style scoped>\n",
       "    .dataframe tbody tr th:only-of-type {\n",
       "        vertical-align: middle;\n",
       "    }\n",
       "\n",
       "    .dataframe tbody tr th {\n",
       "        vertical-align: top;\n",
       "    }\n",
       "\n",
       "    .dataframe thead th {\n",
       "        text-align: right;\n",
       "    }\n",
       "</style>\n",
       "<table border=\"1\" class=\"dataframe\">\n",
       "  <thead>\n",
       "    <tr style=\"text-align: right;\">\n",
       "      <th></th>\n",
       "      <th>Sex</th>\n",
       "      <th>Age</th>\n",
       "      <th>eTIV</th>\n",
       "      <th>AgeC</th>\n",
       "      <th>SqAgeC</th>\n",
       "      <th>eTIVC</th>\n",
       "    </tr>\n",
       "    <tr>\n",
       "      <th>mrishare_id</th>\n",
       "      <th></th>\n",
       "      <th></th>\n",
       "      <th></th>\n",
       "      <th></th>\n",
       "      <th></th>\n",
       "      <th></th>\n",
       "    </tr>\n",
       "  </thead>\n",
       "  <tbody>\n",
       "    <tr>\n",
       "      <th>SHARE0001</th>\n",
       "      <td>M</td>\n",
       "      <td>24.241</td>\n",
       "      <td>1.847961e+06</td>\n",
       "      <td>1.887374</td>\n",
       "      <td>3.562179</td>\n",
       "      <td>143763.640343</td>\n",
       "    </tr>\n",
       "    <tr>\n",
       "      <th>SHARE0004</th>\n",
       "      <td>M</td>\n",
       "      <td>23.107</td>\n",
       "      <td>1.825874e+06</td>\n",
       "      <td>0.753374</td>\n",
       "      <td>0.567572</td>\n",
       "      <td>121677.335363</td>\n",
       "    </tr>\n",
       "    <tr>\n",
       "      <th>SHARE0006</th>\n",
       "      <td>M</td>\n",
       "      <td>22.916</td>\n",
       "      <td>1.756562e+06</td>\n",
       "      <td>0.562374</td>\n",
       "      <td>0.316264</td>\n",
       "      <td>52365.537423</td>\n",
       "    </tr>\n",
       "    <tr>\n",
       "      <th>SHARE0007</th>\n",
       "      <td>M</td>\n",
       "      <td>20.011</td>\n",
       "      <td>1.523241e+06</td>\n",
       "      <td>-2.342626</td>\n",
       "      <td>5.487899</td>\n",
       "      <td>-180955.476727</td>\n",
       "    </tr>\n",
       "    <tr>\n",
       "      <th>SHARE0008</th>\n",
       "      <td>M</td>\n",
       "      <td>23.715</td>\n",
       "      <td>1.648408e+06</td>\n",
       "      <td>1.361374</td>\n",
       "      <td>1.853338</td>\n",
       "      <td>-55789.129727</td>\n",
       "    </tr>\n",
       "  </tbody>\n",
       "</table>\n",
       "</div>"
      ],
      "text/plain": [
       "            Sex     Age          eTIV      AgeC    SqAgeC          eTIVC\n",
       "mrishare_id                                                             \n",
       "SHARE0001     M  24.241  1.847961e+06  1.887374  3.562179  143763.640343\n",
       "SHARE0004     M  23.107  1.825874e+06  0.753374  0.567572  121677.335363\n",
       "SHARE0006     M  22.916  1.756562e+06  0.562374  0.316264   52365.537423\n",
       "SHARE0007     M  20.011  1.523241e+06 -2.342626  5.487899 -180955.476727\n",
       "SHARE0008     M  23.715  1.648408e+06  1.361374  1.853338  -55789.129727"
      ]
     },
     "execution_count": 17,
     "metadata": {},
     "output_type": "execute_result"
    }
   ],
   "source": [
    "concat_mf_info = pd.concat((male_df, female_df))\n",
    "concat_mf_info.head()"
   ]
  },
  {
   "cell_type": "code",
   "execution_count": 19,
   "metadata": {},
   "outputs": [],
   "source": [
    "group_centered_df = concat_mf_info[['AgeC', 'eTIVC']]\n",
    "group_centered_df.columns = ['AgeGC', 'eTIVGC']"
   ]
  },
  {
   "cell_type": "code",
   "execution_count": 20,
   "metadata": {},
   "outputs": [
    {
     "data": {
      "text/html": [
       "<div>\n",
       "<style scoped>\n",
       "    .dataframe tbody tr th:only-of-type {\n",
       "        vertical-align: middle;\n",
       "    }\n",
       "\n",
       "    .dataframe tbody tr th {\n",
       "        vertical-align: top;\n",
       "    }\n",
       "\n",
       "    .dataframe thead th {\n",
       "        text-align: right;\n",
       "    }\n",
       "</style>\n",
       "<table border=\"1\" class=\"dataframe\">\n",
       "  <thead>\n",
       "    <tr style=\"text-align: right;\">\n",
       "      <th></th>\n",
       "      <th>Sex</th>\n",
       "      <th>Age</th>\n",
       "      <th>eTIV</th>\n",
       "      <th>AgeC</th>\n",
       "      <th>SqAgeC</th>\n",
       "      <th>eTIVC</th>\n",
       "      <th>AgeGC</th>\n",
       "      <th>eTIVGC</th>\n",
       "    </tr>\n",
       "  </thead>\n",
       "  <tbody>\n",
       "    <tr>\n",
       "      <th>SHARE0001</th>\n",
       "      <td>M</td>\n",
       "      <td>24.241</td>\n",
       "      <td>1.847961e+06</td>\n",
       "      <td>2.130683</td>\n",
       "      <td>4.539809</td>\n",
       "      <td>279630.987766</td>\n",
       "      <td>1.887374</td>\n",
       "      <td>143763.640343</td>\n",
       "    </tr>\n",
       "    <tr>\n",
       "      <th>SHARE0002</th>\n",
       "      <td>F</td>\n",
       "      <td>22.943</td>\n",
       "      <td>1.446134e+06</td>\n",
       "      <td>0.832683</td>\n",
       "      <td>0.693360</td>\n",
       "      <td>-122195.115844</td>\n",
       "      <td>0.927426</td>\n",
       "      <td>-69289.194196</td>\n",
       "    </tr>\n",
       "    <tr>\n",
       "      <th>SHARE0003</th>\n",
       "      <td>F</td>\n",
       "      <td>23.633</td>\n",
       "      <td>1.427213e+06</td>\n",
       "      <td>1.522683</td>\n",
       "      <td>2.318562</td>\n",
       "      <td>-141116.138384</td>\n",
       "      <td>1.617426</td>\n",
       "      <td>-88210.216736</td>\n",
       "    </tr>\n",
       "    <tr>\n",
       "      <th>SHARE0004</th>\n",
       "      <td>M</td>\n",
       "      <td>23.107</td>\n",
       "      <td>1.825874e+06</td>\n",
       "      <td>0.996683</td>\n",
       "      <td>0.993376</td>\n",
       "      <td>257544.682786</td>\n",
       "      <td>0.753374</td>\n",
       "      <td>121677.335363</td>\n",
       "    </tr>\n",
       "    <tr>\n",
       "      <th>SHARE0005</th>\n",
       "      <td>F</td>\n",
       "      <td>25.021</td>\n",
       "      <td>1.289739e+06</td>\n",
       "      <td>2.910683</td>\n",
       "      <td>8.472074</td>\n",
       "      <td>-278590.321124</td>\n",
       "      <td>3.005426</td>\n",
       "      <td>-225684.399476</td>\n",
       "    </tr>\n",
       "  </tbody>\n",
       "</table>\n",
       "</div>"
      ],
      "text/plain": [
       "          Sex     Age          eTIV      AgeC    SqAgeC          eTIVC  \\\n",
       "SHARE0001   M  24.241  1.847961e+06  2.130683  4.539809  279630.987766   \n",
       "SHARE0002   F  22.943  1.446134e+06  0.832683  0.693360 -122195.115844   \n",
       "SHARE0003   F  23.633  1.427213e+06  1.522683  2.318562 -141116.138384   \n",
       "SHARE0004   M  23.107  1.825874e+06  0.996683  0.993376  257544.682786   \n",
       "SHARE0005   F  25.021  1.289739e+06  2.910683  8.472074 -278590.321124   \n",
       "\n",
       "              AgeGC         eTIVGC  \n",
       "SHARE0001  1.887374  143763.640343  \n",
       "SHARE0002  0.927426  -69289.194196  \n",
       "SHARE0003  1.617426  -88210.216736  \n",
       "SHARE0004  0.753374  121677.335363  \n",
       "SHARE0005  3.005426 -225684.399476  "
      ]
     },
     "execution_count": 20,
     "metadata": {},
     "output_type": "execute_result"
    }
   ],
   "source": [
    "new_group_info = pd.concat([group_info, group_centered_df], axis=1, sort=False)\n",
    "new_group_info.head()"
   ]
  },
  {
   "cell_type": "code",
   "execution_count": 34,
   "metadata": {},
   "outputs": [],
   "source": [
    "# save new group info\n",
    "new_group_info.index.names = ['mrishare_id']\n",
    "new_group_info.to_csv(op.join(group_out, 'group_info.csv'))"
   ]
  },
  {
   "cell_type": "code",
   "execution_count": 42,
   "metadata": {},
   "outputs": [],
   "source": [
    "models = {'Model6a_Sex_Age_ICV': ['AgeC', 'eTIVC'],\n",
    "          'Model6b_Sex_Age_ICV': ['AgeGC', 'eTIVGC']}"
   ]
  },
  {
   "cell_type": "code",
   "execution_count": 23,
   "metadata": {},
   "outputs": [],
   "source": [
    "gm_fsgd_lines = ['GroupDescriptorFile 1', 'Class F', 'Class M']"
   ]
  },
  {
   "cell_type": "code",
   "execution_count": 44,
   "metadata": {},
   "outputs": [],
   "source": [
    "# Iterate over  each model to create fsdg file\n",
    "\n",
    "for model_name, variables in models.items():\n",
    "    model_out = op.join(group_out, model_name)\n",
    "    os.makedirs(model_out, exist_ok=True)\n",
    "        \n",
    "    var_list = ['Variables'] + variables\n",
    "    extra_line = ' '.join(var_list)\n",
    "    lines = gm_fsgd_lines + [extra_line]\n",
    "        \n",
    "    cols = ['mrishare_id', 'Sex'] + variables\n",
    "    var_df = new_group_info.reset_index()[cols]\n",
    "    var_df['Input'] = 'Input'\n",
    "    col_order = ['Input', 'mrishare_id', 'Sex'] + variables\n",
    "        \n",
    "    fsgd_file = op.join(model_out, '{}.fsgd'.format(model_name))\n",
    "    with open(fsgd_file, 'w') as f:\n",
    "        for line in lines:\n",
    "            f.write(line + '\\n')\n",
    "        var_df[col_order].to_csv(f, header=False, index=False, sep=' ')"
   ]
  },
  {
   "cell_type": "code",
   "execution_count": 35,
   "metadata": {},
   "outputs": [],
   "source": [
    "contrasts = {\n",
    "             'group.diff': [[1, -1, 0, 0, 0, 0]], # Is there a sex diff bet group intercept after correcting for age and eTIV?\n",
    "             'group-x-age': [[0, 0, 1, -1, 0, 0]], # Is there a difference bet group in the effect of age?\n",
    "             'group-x-ICV': [[0, 0, 0, 0, 1, -1]], # Is there a difference bet group in the effect of ICV?\n",
    "             'FM-age': [[0, 0, 0.5, 0.5, 0, 0]], # Is there any age effect after correcting for sex and ICV?\n",
    "             'FM-ICV': [[0, 0, 0, 0, 0.5, 0.5]], # Is there any ICV effect after correcting for sex and age?\n",
    "             'group-x-age-x-ICV': [[0, 0, 1, -1, 0, 0],\n",
    "                                   [0, 0, 0, 0, 1, -1]] # Is there an interaction bet group, age and ICV?\n",
    "            }"
   ]
  },
  {
   "cell_type": "code",
   "execution_count": 36,
   "metadata": {},
   "outputs": [],
   "source": [
    "# For each model, create contrast.mtx file and direction of expected effects\n",
    "\n",
    "for model_name, variables in models.items():\n",
    "    model_out = op.join(group_out, model_name)\n",
    "        \n",
    "    for contrast_name, contrast_list in contrasts.items():\n",
    "        contrast_file = op.join(model_out, '{}.mtx'.format(contrast_name))\n",
    "        contrast_sign_file = op.join(model_out, '{}.mdtx'.format(contrast_name))\n",
    "        \n",
    "        with open(contrast_file, 'w') as f:\n",
    "            lines = [' '.join(str(val) for val in contrast) for contrast in contrast_list]\n",
    "            f.write('\\n'.join(lines))\n",
    "            \n",
    "        with open(contrast_sign_file, 'w') as f:\n",
    "            f.write('abs') "
   ]
  },
  {
   "cell_type": "markdown",
   "metadata": {},
   "source": [
    "For some reason, GLM for Model6a failed, possibly due to rank deficiency (however, AP ran very simlar models w/o any issues...). \n",
    "\n",
    "After discussing with BM, we decided to have more simple model just contrasting F vs M, with or without Age effects. Also, for model including Age and ICV, group-center ICV but not for Age."
   ]
  },
  {
   "cell_type": "code",
   "execution_count": 43,
   "metadata": {},
   "outputs": [],
   "source": [
    "models['Model6c_Sex_Age_ICV'] = ['AgeC', 'eTIVGC']\n",
    "models['Model7_Sex'] = []\n",
    "models['Model8_Sex_Age'] = ['AgeC']"
   ]
  },
  {
   "cell_type": "code",
   "execution_count": 45,
   "metadata": {},
   "outputs": [],
   "source": [
    "# fsgd file created using cell above. For contrasts, we need different set of contrasts for each model\n",
    "\n",
    "contrast_dict = {'Model6': contrasts,\n",
    "                 'Model7': {'group.diff': [[1, -1]]},\n",
    "                 'Model8': {'group.diff': [[1, -1, 0, 0]],\n",
    "                            'group-x-age': [[0, 0, 1, -1]],\n",
    "                            'FM-age': [[0, 0, 0.5, 0.5]]}}"
   ]
  },
  {
   "cell_type": "code",
   "execution_count": 46,
   "metadata": {},
   "outputs": [],
   "source": [
    "for model_name, variables in models.items():\n",
    "    model_out = op.join(group_out, model_name)\n",
    "    \n",
    "    contrasts = contrast_dict[model_name[:6]]\n",
    "        \n",
    "    for contrast_name, contrast_list in contrasts.items():\n",
    "        contrast_file = op.join(model_out, '{}.mtx'.format(contrast_name))\n",
    "        contrast_sign_file = op.join(model_out, '{}.mdtx'.format(contrast_name))\n",
    "        \n",
    "        with open(contrast_file, 'w') as f:\n",
    "            lines = [' '.join(str(val) for val in contrast) for contrast in contrast_list]\n",
    "            f.write('\\n'.join(lines))\n",
    "            \n",
    "        with open(contrast_sign_file, 'w') as f:\n",
    "            f.write('abs') "
   ]
  },
  {
   "cell_type": "markdown",
   "metadata": {},
   "source": [
    "These models were run with run_Group_model_SBM.sh in /data/extra/tsuchida/MRiShare/SBM."
   ]
  },
  {
   "cell_type": "markdown",
   "metadata": {},
   "source": [
    "## 3. Create summary figures\n",
    "\n",
    "The analyses for the simple models were performed using a WF in Freesurfer_SBM.py.\n",
    "\n",
    "To make it easy to compare the results across the 3 groups, plot all the equivalent images across them.\n",
    "\n",
    "Since plotting takes up lots of memory, use plotSBMresults.py script in /data/extra/tsuchida/MRiShare/SBM/ to submit plotting jobs to SLURM. Here, json files for each plot will be created."
   ]
  },
  {
   "cell_type": "code",
   "execution_count": 11,
   "metadata": {},
   "outputs": [],
   "source": [
    "import json"
   ]
  },
  {
   "cell_type": "code",
   "execution_count": 6,
   "metadata": {},
   "outputs": [],
   "source": [
    "png_out = op.join(simple_out, 'Results_figures')\n",
    "os.makedirs(png_out, exist_ok=True)"
   ]
  },
  {
   "cell_type": "code",
   "execution_count": 7,
   "metadata": {},
   "outputs": [],
   "source": [
    "surf_measures = ['thickness', 'area']"
   ]
  },
  {
   "cell_type": "code",
   "execution_count": 8,
   "metadata": {},
   "outputs": [],
   "source": [
    "fwhm = 10.0"
   ]
  },
  {
   "cell_type": "code",
   "execution_count": 9,
   "metadata": {},
   "outputs": [],
   "source": [
    "sink_dir = '/data/extra/tsuchida/MRiShare/SBM/'"
   ]
  },
  {
   "cell_type": "code",
   "execution_count": null,
   "metadata": {},
   "outputs": [],
   "source": [
    "fs6_dir = '/data/analyses/work_in_progress/freesurfer/fsmrishare-flair6.0/'\n",
    "template_surf_dir = op.join(fs6_dir, 'fsaverage', 'surf')"
   ]
  },
  {
   "cell_type": "code",
   "execution_count": null,
   "metadata": {},
   "outputs": [],
   "source": [
    "lh_infl = op.join(template_surf_dir, 'lh.inflated')\n",
    "rh_infl = op.join(template_surf_dir, 'rh.inflated')\n",
    "lh_pial = op.join(template_surf_dir, 'lh.pial')\n",
    "rh_pial = op.join(template_surf_dir, 'rh.pial')\n",
    "lh_sulc = op.join(template_surf_dir, 'lh.sulc')\n",
    "rh_sulc = op.join(template_surf_dir, 'rh.sulc')"
   ]
  },
  {
   "cell_type": "code",
   "execution_count": null,
   "metadata": {},
   "outputs": [],
   "source": [
    "overlay_surfs = {'inflated': (lh_infl, rh_infl),\n",
    "                 'pial': (lh_pial, rh_pial)}"
   ]
  },
  {
   "cell_type": "code",
   "execution_count": null,
   "metadata": {},
   "outputs": [],
   "source": [
    "%load_ext autoreload\n",
    "%autoreload 2"
   ]
  },
  {
   "cell_type": "code",
   "execution_count": null,
   "metadata": {},
   "outputs": [],
   "source": [
    "from plotting_tools.img_plotting import plot_multi_surf_map, plot_multi_surf_stat"
   ]
  },
  {
   "cell_type": "markdown",
   "metadata": {},
   "source": [
    "### 3.1 Mean maps"
   ]
  },
  {
   "cell_type": "code",
   "execution_count": 10,
   "metadata": {},
   "outputs": [],
   "source": [
    "mean_out = op.join(png_out, 'Mean_maps')\n",
    "for meas in surf_measures:\n",
    "    meas_out = op.join(mean_out, meas)\n",
    "    os.makedirs(meas_out, exist_ok=True)"
   ]
  },
  {
   "cell_type": "code",
   "execution_count": 13,
   "metadata": {},
   "outputs": [],
   "source": [
    "for meas in surf_measures:\n",
    "    # Get mean data for meas in each group\n",
    "    lh_surf_maps = [op.join(sink_dir, 'SBM_{}Sink'.format(g), '_measure_{}'.format(meas), 'mean.lh.fwhm10.fsaverage.mgh')\n",
    "                   for g in simple_groups]\n",
    "    rh_surf_maps = [op.join(sink_dir, 'SBM_{}Sink'.format(g), '_measure_{}'.format(meas), 'mean.rh.fwhm10.fsaverage.mgh')\n",
    "                   for g in simple_groups]\n",
    "    \n",
    "    out_basename = 'Mean_{}'.format(meas)\n",
    "    fig_title = 'Mean {}'.format(meas)\n",
    "    \n",
    "    # put in json\n",
    "    dat = {'fig_title': fig_title,\n",
    "           'out_basename': out_basename,\n",
    "           'plot_type': 'surf_map',\n",
    "           'group_names': simple_groups,\n",
    "           'lh_surf_maps': lh_surf_maps,\n",
    "           'rh_surf_maps': rh_surf_maps}\n",
    "    json_fname = op.join(png_out, '{}_arg_dict.json'.format(out_basename))\n",
    "    with open(json_fname, 'w') as f:\n",
    "        json.dump(dat, f)"
   ]
  },
  {
   "cell_type": "code",
   "execution_count": null,
   "metadata": {},
   "outputs": [],
   "source": [
    "for meas in surf_measures:\n",
    "    out_dir = op.join(mean_out, meas)\n",
    "    \n",
    "    # Get mean data for meas in each group\n",
    "    lh_surf_maps = [op.join(sink_dir, 'SBM_{}Sink'.format(g), '_measure_{}'.format(meas), 'mean.lh.fwhm10.fsaverage.mgh')\n",
    "                   for g in simple_groups]\n",
    "    rh_surf_maps = [op.join(sink_dir, 'SBM_{}Sink'.format(g), '_measure_{}'.format(meas), 'mean.rh.fwhm10.fsaverage.mgh')\n",
    "                   for g in simple_groups]\n",
    "    \n",
    "    \n",
    "    # plot for each overlay surf\n",
    "    for surf_name, overlay_surf_pair in overlay_surfs.items():\n",
    "        out_fname = op.join(out_dir, 'Mean_{}_on_{}_surf.png'.format(meas, surf_name))\n",
    "        fig_title = 'Mean {}'.format(meas)\n",
    "        plot_multi_surf_map(lh_surf=overlay_surf_pair[0], rh_surf=overlay_surf_pair[1],\n",
    "                            lh_bg_map=lh_sulc, rh_bg_map=rh_sulc,\n",
    "                            lh_surf_maps=lh_surf_maps, rh_surf_maps=rh_surf_maps,\n",
    "                            group_names=simple_groups, out_fname=out_fname, fig_title=fig_title)"
   ]
  },
  {
   "cell_type": "markdown",
   "metadata": {},
   "source": [
    "### 3.2. Statistical maps"
   ]
  },
  {
   "cell_type": "code",
   "execution_count": 15,
   "metadata": {},
   "outputs": [],
   "source": [
    "p_out = op.join(png_out, 'Sig_maps')\n",
    "os.makedirs(p_out, exist_ok=True)"
   ]
  },
  {
   "cell_type": "code",
   "execution_count": 41,
   "metadata": {},
   "outputs": [],
   "source": [
    "for meas in surf_measures:\n",
    "    for model_name, contrasts in simple_models.items():\n",
    "        for cont in contrasts:\n",
    "            fig_title = '{}: Effect of {} on {}'.format(model_name, cont, meas)\n",
    "            # Get mean data for meas in each group\n",
    "            lh_stat_maps = [op.join(sink_dir,\n",
    "                                    'SBM_{}Sink'.format(g),\n",
    "                                    '_model_name_{}'.format(model_name),\n",
    "                                    '_measure_{}'.format(meas),\n",
    "                                    '_fwhm_10.0',\n",
    "                                    'lhSBMglmfit',\n",
    "                                    cont,\n",
    "                                    'sig.mgh') for g in simple_groups]\n",
    "            rh_stat_maps = [op.join(sink_dir,\n",
    "                                    'SBM_{}Sink'.format(g),\n",
    "                                    '_model_name_{}'.format(model_name),\n",
    "                                    '_measure_{}'.format(meas),\n",
    "                                    '_fwhm_10.0',\n",
    "                                    'rhSBMglmfit',\n",
    "                                    cont,\n",
    "                                    'sig.mgh') for g in simple_groups]\n",
    "    \n",
    "            for corr in ['corrected', 'uncorrected']:\n",
    "                # Names\n",
    "                out_basename = '{}_cont_{}_{}_{}P'.format(model_name, cont, meas, corr)\n",
    "                if corr == 'corrected':\n",
    "                    thresholds = [op.join(sink_dir, 'SBM_{}Sink'.format(g),\n",
    "                                          '_model_name_{}'.format(model_name),\n",
    "                                          '_measure_{}'.format(meas),\n",
    "                                          '_fwhm_10.0',\n",
    "                                          cont,\n",
    "                                          'fdr_threshold.txt') for g in simple_groups]\n",
    "                else:\n",
    "                    thresholds = None\n",
    "\n",
    "                # put in json\n",
    "                dat = {'fig_title': fig_title,\n",
    "                       'out_basename': out_basename,\n",
    "                       'plot_type': 'surf_stat',\n",
    "                       'group_names': simple_groups,\n",
    "                       'lh_stat_maps': lh_stat_maps,\n",
    "                       'rh_stat_maps': rh_stat_maps,\n",
    "                       'upper_lim': 10.0,\n",
    "                       'thresholds': thresholds,\n",
    "                       'cmap': 'coolwarm'}\n",
    "                json_fname = op.join(p_out, '{}_arg_dict.json'.format(out_basename))\n",
    "                with open(json_fname, 'w') as f:\n",
    "                    json.dump(dat, f)"
   ]
  },
  {
   "cell_type": "code",
   "execution_count": 37,
   "metadata": {},
   "outputs": [],
   "source": [
    "g_out = op.join(png_out, 'Gamma_maps')\n",
    "os.makedirs(g_out, exist_ok=True)"
   ]
  },
  {
   "cell_type": "code",
   "execution_count": 33,
   "metadata": {},
   "outputs": [],
   "source": [
    "g_corr = ['masked', 'uncorrected']"
   ]
  },
  {
   "cell_type": "code",
   "execution_count": 42,
   "metadata": {},
   "outputs": [],
   "source": [
    "for meas in surf_measures:\n",
    "    for model_name, contrasts in simple_models.items():\n",
    "        for cont in contrasts:\n",
    "            fig_title = '{}: Effect of {} on {}'.format(model_name, cont, meas)\n",
    "            # Get mean data for meas in each group\n",
    "            stat_base = [op.join(sink_dir,\n",
    "                                'SBM_{}Sink'.format(g),\n",
    "                                '_model_name_{}'.format(model_name),\n",
    "                                '_measure_{}'.format(meas),\n",
    "                                '_fwhm_10.0') for g in simple_groups]\n",
    "    \n",
    "            for corr in g_corr:\n",
    "                # Names\n",
    "                out_basename = '{}_cont_{}_{}_{}G'.format(model_name, cont, meas, corr)\n",
    "                if corr == 'masked':\n",
    "                    lh_stat_maps = [op.join(d, \n",
    "                                            'lhSBMglmfit',\n",
    "                                            cont,\n",
    "                                            'gamma.mgh') for d in stat_base]\n",
    "                    rh_stat_maps = [op.join(d, \n",
    "                                            'rhSBMglmfit',\n",
    "                                            cont,\n",
    "                                            'gamma.mgh') for d in stat_base]\n",
    "                    \n",
    "                else:\n",
    "                    lh_stat_maps = [op.join(d, cont, 'lh.masked_gamma.mgh') for d in stat_base]\n",
    "                    rh_stat_maps = [op.join(d, cont, 'rh.masked_gamma.mgh') for d in stat_base]\n",
    "\n",
    "                # put in json\n",
    "                dat = {'fig_title': fig_title,\n",
    "                       'out_basename': out_basename,\n",
    "                       'plot_type': 'surf_stat',\n",
    "                       'group_names': simple_groups,\n",
    "                       'lh_stat_maps': lh_stat_maps,\n",
    "                       'rh_stat_maps': rh_stat_maps,\n",
    "                       'upper_lim': None,\n",
    "                       'thresholds': None,\n",
    "                       'cmap': 'jet'}\n",
    "                json_fname = op.join(g_out, '{}_arg_dict.json'.format(out_basename))\n",
    "                with open(json_fname, 'w') as f:\n",
    "                    json.dump(dat, f)"
   ]
  },
  {
   "cell_type": "code",
   "execution_count": null,
   "metadata": {},
   "outputs": [],
   "source": []
  }
 ],
 "metadata": {
  "kernelspec": {
   "display_name": "Python 3",
   "language": "python",
   "name": "python3"
  },
  "language_info": {
   "codemirror_mode": {
    "name": "ipython",
    "version": 3
   },
   "file_extension": ".py",
   "mimetype": "text/x-python",
   "name": "python",
   "nbconvert_exporter": "python",
   "pygments_lexer": "ipython3",
   "version": "3.6.3"
  }
 },
 "nbformat": 4,
 "nbformat_minor": 2
}
