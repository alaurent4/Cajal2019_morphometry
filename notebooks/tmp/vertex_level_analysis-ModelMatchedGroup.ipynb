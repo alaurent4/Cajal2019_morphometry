{
 "cells": [
  {
   "cell_type": "markdown",
   "metadata": {},
   "source": [
    "This is a follow-up to the ModelGroup notebook that looked at Sex effects.\n",
    "\n",
    "Since the model that included ICV could be ran only when it was centered within group (due to rank-deficiency caused by the fact that ICV is significantly different between groups), here I will select a subset of male and females matched for age and ICV to test the differences in CT/CSA.\n",
    "\n",
    "As in the ModelGroup, Sex is included in the group that include both sexes, and the effects of Sex and Age are examined in a model that control for ICV. \n",
    "\n",
    "Both age and ICV will be centered across groups.\n",
    "\n",
    "## 1. Imports, data and output dirs\n"
   ]
  },
  {
   "cell_type": "code",
   "execution_count": 1,
   "metadata": {},
   "outputs": [],
   "source": [
    "import os\n",
    "import os.path as op\n",
    "import numpy as np\n",
    "import pandas as pd"
   ]
  },
  {
   "cell_type": "code",
   "execution_count": 2,
   "metadata": {},
   "outputs": [],
   "source": [
    "outdir = 'SBM_main'\n",
    "os.makedirs(outdir, exist_ok=True)"
   ]
  },
  {
   "cell_type": "code",
   "execution_count": 3,
   "metadata": {},
   "outputs": [],
   "source": [
    "simple_out = op.join(outdir, 'Simple_Models')\n",
    "sub_info = pd.read_csv(op.join(outdir, 'subjects_info.csv'), index_col=0)"
   ]
  },
  {
   "cell_type": "code",
   "execution_count": 4,
   "metadata": {},
   "outputs": [
    {
     "data": {
      "text/html": [
       "<div>\n",
       "<style scoped>\n",
       "    .dataframe tbody tr th:only-of-type {\n",
       "        vertical-align: middle;\n",
       "    }\n",
       "\n",
       "    .dataframe tbody tr th {\n",
       "        vertical-align: top;\n",
       "    }\n",
       "\n",
       "    .dataframe thead th {\n",
       "        text-align: right;\n",
       "    }\n",
       "</style>\n",
       "<table border=\"1\" class=\"dataframe\">\n",
       "  <thead>\n",
       "    <tr style=\"text-align: right;\">\n",
       "      <th></th>\n",
       "      <th>Sex</th>\n",
       "      <th>Age</th>\n",
       "      <th>eTIV</th>\n",
       "    </tr>\n",
       "    <tr>\n",
       "      <th>mrishare_id</th>\n",
       "      <th></th>\n",
       "      <th></th>\n",
       "      <th></th>\n",
       "    </tr>\n",
       "  </thead>\n",
       "  <tbody>\n",
       "    <tr>\n",
       "      <th>SHARE0001</th>\n",
       "      <td>M</td>\n",
       "      <td>24.241</td>\n",
       "      <td>1.847961e+06</td>\n",
       "    </tr>\n",
       "    <tr>\n",
       "      <th>SHARE0002</th>\n",
       "      <td>F</td>\n",
       "      <td>22.943</td>\n",
       "      <td>1.446134e+06</td>\n",
       "    </tr>\n",
       "    <tr>\n",
       "      <th>SHARE0003</th>\n",
       "      <td>F</td>\n",
       "      <td>23.633</td>\n",
       "      <td>1.427213e+06</td>\n",
       "    </tr>\n",
       "    <tr>\n",
       "      <th>SHARE0004</th>\n",
       "      <td>M</td>\n",
       "      <td>23.107</td>\n",
       "      <td>1.825874e+06</td>\n",
       "    </tr>\n",
       "    <tr>\n",
       "      <th>SHARE0005</th>\n",
       "      <td>F</td>\n",
       "      <td>25.021</td>\n",
       "      <td>1.289739e+06</td>\n",
       "    </tr>\n",
       "  </tbody>\n",
       "</table>\n",
       "</div>"
      ],
      "text/plain": [
       "            Sex     Age          eTIV\n",
       "mrishare_id                          \n",
       "SHARE0001     M  24.241  1.847961e+06\n",
       "SHARE0002     F  22.943  1.446134e+06\n",
       "SHARE0003     F  23.633  1.427213e+06\n",
       "SHARE0004     M  23.107  1.825874e+06\n",
       "SHARE0005     F  25.021  1.289739e+06"
      ]
     },
     "execution_count": 4,
     "metadata": {},
     "output_type": "execute_result"
    }
   ],
   "source": [
    "sub_info.head()"
   ]
  },
  {
   "cell_type": "code",
   "execution_count": 5,
   "metadata": {},
   "outputs": [],
   "source": [
    "mg_out = op.join(outdir, 'Model_MatchedSex')\n",
    "os.makedirs(mg_out, exist_ok=True)"
   ]
  },
  {
   "cell_type": "code",
   "execution_count": 6,
   "metadata": {},
   "outputs": [],
   "source": [
    "group_out = op.join(mg_out, 'Both_AgeICVmatched')\n",
    "os.makedirs(group_out, exist_ok=True)"
   ]
  },
  {
   "cell_type": "markdown",
   "metadata": {},
   "source": [
    "## 2. Create Age and ICV matched male and female group"
   ]
  },
  {
   "cell_type": "code",
   "execution_count": 7,
   "metadata": {},
   "outputs": [
    {
     "name": "stdout",
     "output_type": "stream",
     "text": [
      "Error: pyxdameraulevenshtein package not installed. Some features may not be available.\n",
      "Error: PyMSSQL package not available. Some features may not be available.\n"
     ]
    }
   ],
   "source": [
    "import epydemiology as epy"
   ]
  },
  {
   "cell_type": "code",
   "execution_count": 8,
   "metadata": {},
   "outputs": [
    {
     "data": {
      "text/html": [
       "<div>\n",
       "<style scoped>\n",
       "    .dataframe tbody tr th:only-of-type {\n",
       "        vertical-align: middle;\n",
       "    }\n",
       "\n",
       "    .dataframe tbody tr th {\n",
       "        vertical-align: top;\n",
       "    }\n",
       "\n",
       "    .dataframe thead th {\n",
       "        text-align: right;\n",
       "    }\n",
       "</style>\n",
       "<table border=\"1\" class=\"dataframe\">\n",
       "  <thead>\n",
       "    <tr style=\"text-align: right;\">\n",
       "      <th></th>\n",
       "      <th>Sex</th>\n",
       "      <th>Age</th>\n",
       "      <th>eTIV</th>\n",
       "      <th>Age_approx</th>\n",
       "      <th>eTIV_approx</th>\n",
       "    </tr>\n",
       "    <tr>\n",
       "      <th>mrishare_id</th>\n",
       "      <th></th>\n",
       "      <th></th>\n",
       "      <th></th>\n",
       "      <th></th>\n",
       "      <th></th>\n",
       "    </tr>\n",
       "  </thead>\n",
       "  <tbody>\n",
       "    <tr>\n",
       "      <th>SHARE0001</th>\n",
       "      <td>M</td>\n",
       "      <td>24.241</td>\n",
       "      <td>1.847961e+06</td>\n",
       "      <td>24.0</td>\n",
       "      <td>1.85</td>\n",
       "    </tr>\n",
       "    <tr>\n",
       "      <th>SHARE0002</th>\n",
       "      <td>F</td>\n",
       "      <td>22.943</td>\n",
       "      <td>1.446134e+06</td>\n",
       "      <td>23.0</td>\n",
       "      <td>1.45</td>\n",
       "    </tr>\n",
       "    <tr>\n",
       "      <th>SHARE0003</th>\n",
       "      <td>F</td>\n",
       "      <td>23.633</td>\n",
       "      <td>1.427213e+06</td>\n",
       "      <td>24.0</td>\n",
       "      <td>1.43</td>\n",
       "    </tr>\n",
       "    <tr>\n",
       "      <th>SHARE0004</th>\n",
       "      <td>M</td>\n",
       "      <td>23.107</td>\n",
       "      <td>1.825874e+06</td>\n",
       "      <td>23.0</td>\n",
       "      <td>1.83</td>\n",
       "    </tr>\n",
       "    <tr>\n",
       "      <th>SHARE0005</th>\n",
       "      <td>F</td>\n",
       "      <td>25.021</td>\n",
       "      <td>1.289739e+06</td>\n",
       "      <td>25.0</td>\n",
       "      <td>1.29</td>\n",
       "    </tr>\n",
       "  </tbody>\n",
       "</table>\n",
       "</div>"
      ],
      "text/plain": [
       "            Sex     Age          eTIV  Age_approx  eTIV_approx\n",
       "mrishare_id                                                   \n",
       "SHARE0001     M  24.241  1.847961e+06        24.0         1.85\n",
       "SHARE0002     F  22.943  1.446134e+06        23.0         1.45\n",
       "SHARE0003     F  23.633  1.427213e+06        24.0         1.43\n",
       "SHARE0004     M  23.107  1.825874e+06        23.0         1.83\n",
       "SHARE0005     F  25.021  1.289739e+06        25.0         1.29"
      ]
     },
     "execution_count": 8,
     "metadata": {},
     "output_type": "execute_result"
    }
   ],
   "source": [
    "# create approx age and eTIV to use for matching\n",
    "sub_info['Age_approx'] = np.around(sub_info.Age, decimals=0)\n",
    "sub_info['eTIV_approx'] = np.around((sub_info.eTIV * 1e-6), decimals=2)\n",
    "sub_info.head()"
   ]
  },
  {
   "cell_type": "code",
   "execution_count": 9,
   "metadata": {},
   "outputs": [],
   "source": [
    "male_dat = sub_info[sub_info.Sex == 'M'].reset_index()\n",
    "female_dat = sub_info[sub_info.Sex == 'F'].reset_index()"
   ]
  },
  {
   "cell_type": "code",
   "execution_count": 13,
   "metadata": {},
   "outputs": [],
   "source": [
    "matched_df = epy.phjSelectCaseControlDataset(male_dat,\n",
    "                                             female_dat,\n",
    "                                             'mrishare_id',\n",
    "                                             phjMatchingVariablesList=['Age_approx', 'eTIV_approx'])"
   ]
  },
  {
   "cell_type": "code",
   "execution_count": 18,
   "metadata": {},
   "outputs": [
    {
     "data": {
      "text/plain": [
       "452"
      ]
     },
     "execution_count": 18,
     "metadata": {},
     "output_type": "execute_result"
    }
   ],
   "source": [
    "matched_df = matched_df[~matched_df.isnull().any(axis=1)]\n",
    "len(matched_df)"
   ]
  },
  {
   "cell_type": "code",
   "execution_count": 20,
   "metadata": {},
   "outputs": [
    {
     "data": {
      "text/html": [
       "<div>\n",
       "<style scoped>\n",
       "    .dataframe tbody tr th:only-of-type {\n",
       "        vertical-align: middle;\n",
       "    }\n",
       "\n",
       "    .dataframe tbody tr th {\n",
       "        vertical-align: top;\n",
       "    }\n",
       "\n",
       "    .dataframe thead th {\n",
       "        text-align: right;\n",
       "    }\n",
       "</style>\n",
       "<table border=\"1\" class=\"dataframe\">\n",
       "  <thead>\n",
       "    <tr style=\"text-align: right;\">\n",
       "      <th></th>\n",
       "      <th>mrishare_id</th>\n",
       "      <th>group</th>\n",
       "      <th>case</th>\n",
       "      <th>Age_approx</th>\n",
       "      <th>eTIV_approx</th>\n",
       "    </tr>\n",
       "  </thead>\n",
       "  <tbody>\n",
       "    <tr>\n",
       "      <th>0</th>\n",
       "      <td>SHARE0006</td>\n",
       "      <td>2</td>\n",
       "      <td>1</td>\n",
       "      <td>23</td>\n",
       "      <td>1.76</td>\n",
       "    </tr>\n",
       "    <tr>\n",
       "      <th>1</th>\n",
       "      <td>SHARE1946</td>\n",
       "      <td>2</td>\n",
       "      <td>0</td>\n",
       "      <td>23</td>\n",
       "      <td>1.76</td>\n",
       "    </tr>\n",
       "    <tr>\n",
       "      <th>2</th>\n",
       "      <td>SHARE0007</td>\n",
       "      <td>3</td>\n",
       "      <td>1</td>\n",
       "      <td>20</td>\n",
       "      <td>1.52</td>\n",
       "    </tr>\n",
       "    <tr>\n",
       "      <th>3</th>\n",
       "      <td>SHARE1754</td>\n",
       "      <td>3</td>\n",
       "      <td>0</td>\n",
       "      <td>20</td>\n",
       "      <td>1.52</td>\n",
       "    </tr>\n",
       "    <tr>\n",
       "      <th>4</th>\n",
       "      <td>SHARE0008</td>\n",
       "      <td>4</td>\n",
       "      <td>1</td>\n",
       "      <td>24</td>\n",
       "      <td>1.65</td>\n",
       "    </tr>\n",
       "    <tr>\n",
       "      <th>5</th>\n",
       "      <td>SHARE0509</td>\n",
       "      <td>4</td>\n",
       "      <td>0</td>\n",
       "      <td>24</td>\n",
       "      <td>1.65</td>\n",
       "    </tr>\n",
       "    <tr>\n",
       "      <th>6</th>\n",
       "      <td>SHARE0009</td>\n",
       "      <td>5</td>\n",
       "      <td>1</td>\n",
       "      <td>26</td>\n",
       "      <td>1.54</td>\n",
       "    </tr>\n",
       "    <tr>\n",
       "      <th>7</th>\n",
       "      <td>SHARE1011</td>\n",
       "      <td>5</td>\n",
       "      <td>0</td>\n",
       "      <td>26</td>\n",
       "      <td>1.54</td>\n",
       "    </tr>\n",
       "    <tr>\n",
       "      <th>8</th>\n",
       "      <td>SHARE0010</td>\n",
       "      <td>6</td>\n",
       "      <td>1</td>\n",
       "      <td>24</td>\n",
       "      <td>1.67</td>\n",
       "    </tr>\n",
       "    <tr>\n",
       "      <th>9</th>\n",
       "      <td>SHARE1993</td>\n",
       "      <td>6</td>\n",
       "      <td>0</td>\n",
       "      <td>24</td>\n",
       "      <td>1.67</td>\n",
       "    </tr>\n",
       "  </tbody>\n",
       "</table>\n",
       "</div>"
      ],
      "text/plain": [
       "  mrishare_id group case Age_approx eTIV_approx\n",
       "0   SHARE0006     2    1         23        1.76\n",
       "1   SHARE1946     2    0         23        1.76\n",
       "2   SHARE0007     3    1         20        1.52\n",
       "3   SHARE1754     3    0         20        1.52\n",
       "4   SHARE0008     4    1         24        1.65\n",
       "5   SHARE0509     4    0         24        1.65\n",
       "6   SHARE0009     5    1         26        1.54\n",
       "7   SHARE1011     5    0         26        1.54\n",
       "8   SHARE0010     6    1         24        1.67\n",
       "9   SHARE1993     6    0         24        1.67"
      ]
     },
     "execution_count": 20,
     "metadata": {},
     "output_type": "execute_result"
    }
   ],
   "source": [
    "matched_df.head(10)"
   ]
  },
  {
   "cell_type": "code",
   "execution_count": 21,
   "metadata": {},
   "outputs": [
    {
     "data": {
      "text/plain": [
       "452"
      ]
     },
     "execution_count": 21,
     "metadata": {},
     "output_type": "execute_result"
    }
   ],
   "source": [
    "matched_subinfo = sub_info[sub_info.index.isin(matched_df.mrishare_id)]\n",
    "len(matched_subinfo)"
   ]
  },
  {
   "cell_type": "code",
   "execution_count": 28,
   "metadata": {},
   "outputs": [
    {
     "data": {
      "text/html": [
       "<div>\n",
       "<style scoped>\n",
       "    .dataframe tbody tr th:only-of-type {\n",
       "        vertical-align: middle;\n",
       "    }\n",
       "\n",
       "    .dataframe tbody tr th {\n",
       "        vertical-align: top;\n",
       "    }\n",
       "\n",
       "    .dataframe thead tr th {\n",
       "        text-align: left;\n",
       "    }\n",
       "\n",
       "    .dataframe thead tr:last-of-type th {\n",
       "        text-align: right;\n",
       "    }\n",
       "</style>\n",
       "<table border=\"1\" class=\"dataframe\">\n",
       "  <thead>\n",
       "    <tr>\n",
       "      <th></th>\n",
       "      <th colspan=\"8\" halign=\"left\">Age</th>\n",
       "      <th colspan=\"8\" halign=\"left\">eTIV</th>\n",
       "    </tr>\n",
       "    <tr>\n",
       "      <th></th>\n",
       "      <th>count</th>\n",
       "      <th>mean</th>\n",
       "      <th>std</th>\n",
       "      <th>min</th>\n",
       "      <th>25%</th>\n",
       "      <th>50%</th>\n",
       "      <th>75%</th>\n",
       "      <th>max</th>\n",
       "      <th>count</th>\n",
       "      <th>mean</th>\n",
       "      <th>std</th>\n",
       "      <th>min</th>\n",
       "      <th>25%</th>\n",
       "      <th>50%</th>\n",
       "      <th>75%</th>\n",
       "      <th>max</th>\n",
       "    </tr>\n",
       "    <tr>\n",
       "      <th>Sex</th>\n",
       "      <th></th>\n",
       "      <th></th>\n",
       "      <th></th>\n",
       "      <th></th>\n",
       "      <th></th>\n",
       "      <th></th>\n",
       "      <th></th>\n",
       "      <th></th>\n",
       "      <th></th>\n",
       "      <th></th>\n",
       "      <th></th>\n",
       "      <th></th>\n",
       "      <th></th>\n",
       "      <th></th>\n",
       "      <th></th>\n",
       "      <th></th>\n",
       "    </tr>\n",
       "  </thead>\n",
       "  <tbody>\n",
       "    <tr>\n",
       "      <th>F</th>\n",
       "      <td>1320.0</td>\n",
       "      <td>22.015574</td>\n",
       "      <td>2.239367</td>\n",
       "      <td>18.144</td>\n",
       "      <td>20.50275</td>\n",
       "      <td>21.6495</td>\n",
       "      <td>23.17075</td>\n",
       "      <td>34.880</td>\n",
       "      <td>1320.0</td>\n",
       "      <td>1.515424e+06</td>\n",
       "      <td>104577.765266</td>\n",
       "      <td>1.136622e+06</td>\n",
       "      <td>1.449672e+06</td>\n",
       "      <td>1.513974e+06</td>\n",
       "      <td>1.580509e+06</td>\n",
       "      <td>1.917070e+06</td>\n",
       "    </tr>\n",
       "    <tr>\n",
       "      <th>M</th>\n",
       "      <td>514.0</td>\n",
       "      <td>22.353626</td>\n",
       "      <td>2.458055</td>\n",
       "      <td>18.081</td>\n",
       "      <td>20.58925</td>\n",
       "      <td>21.9425</td>\n",
       "      <td>23.79925</td>\n",
       "      <td>33.755</td>\n",
       "      <td>514.0</td>\n",
       "      <td>1.704197e+06</td>\n",
       "      <td>117226.533482</td>\n",
       "      <td>1.365514e+06</td>\n",
       "      <td>1.622356e+06</td>\n",
       "      <td>1.698709e+06</td>\n",
       "      <td>1.780562e+06</td>\n",
       "      <td>2.064348e+06</td>\n",
       "    </tr>\n",
       "  </tbody>\n",
       "</table>\n",
       "</div>"
      ],
      "text/plain": [
       "        Age                                                                    \\\n",
       "      count       mean       std     min       25%      50%       75%     max   \n",
       "Sex                                                                             \n",
       "F    1320.0  22.015574  2.239367  18.144  20.50275  21.6495  23.17075  34.880   \n",
       "M     514.0  22.353626  2.458055  18.081  20.58925  21.9425  23.79925  33.755   \n",
       "\n",
       "       eTIV                                                           \\\n",
       "      count          mean            std           min           25%   \n",
       "Sex                                                                    \n",
       "F    1320.0  1.515424e+06  104577.765266  1.136622e+06  1.449672e+06   \n",
       "M     514.0  1.704197e+06  117226.533482  1.365514e+06  1.622356e+06   \n",
       "\n",
       "                                               \n",
       "              50%           75%           max  \n",
       "Sex                                            \n",
       "F    1.513974e+06  1.580509e+06  1.917070e+06  \n",
       "M    1.698709e+06  1.780562e+06  2.064348e+06  "
      ]
     },
     "execution_count": 28,
     "metadata": {},
     "output_type": "execute_result"
    }
   ],
   "source": [
    "sub_info.groupby('Sex')[['Age', 'eTIV']].describe()"
   ]
  },
  {
   "cell_type": "code",
   "execution_count": 27,
   "metadata": {},
   "outputs": [
    {
     "data": {
      "text/html": [
       "<div>\n",
       "<style scoped>\n",
       "    .dataframe tbody tr th:only-of-type {\n",
       "        vertical-align: middle;\n",
       "    }\n",
       "\n",
       "    .dataframe tbody tr th {\n",
       "        vertical-align: top;\n",
       "    }\n",
       "\n",
       "    .dataframe thead tr th {\n",
       "        text-align: left;\n",
       "    }\n",
       "\n",
       "    .dataframe thead tr:last-of-type th {\n",
       "        text-align: right;\n",
       "    }\n",
       "</style>\n",
       "<table border=\"1\" class=\"dataframe\">\n",
       "  <thead>\n",
       "    <tr>\n",
       "      <th></th>\n",
       "      <th colspan=\"8\" halign=\"left\">Age</th>\n",
       "      <th colspan=\"8\" halign=\"left\">eTIV</th>\n",
       "    </tr>\n",
       "    <tr>\n",
       "      <th></th>\n",
       "      <th>count</th>\n",
       "      <th>mean</th>\n",
       "      <th>std</th>\n",
       "      <th>min</th>\n",
       "      <th>25%</th>\n",
       "      <th>50%</th>\n",
       "      <th>75%</th>\n",
       "      <th>max</th>\n",
       "      <th>count</th>\n",
       "      <th>mean</th>\n",
       "      <th>std</th>\n",
       "      <th>min</th>\n",
       "      <th>25%</th>\n",
       "      <th>50%</th>\n",
       "      <th>75%</th>\n",
       "      <th>max</th>\n",
       "    </tr>\n",
       "    <tr>\n",
       "      <th>Sex</th>\n",
       "      <th></th>\n",
       "      <th></th>\n",
       "      <th></th>\n",
       "      <th></th>\n",
       "      <th></th>\n",
       "      <th></th>\n",
       "      <th></th>\n",
       "      <th></th>\n",
       "      <th></th>\n",
       "      <th></th>\n",
       "      <th></th>\n",
       "      <th></th>\n",
       "      <th></th>\n",
       "      <th></th>\n",
       "      <th></th>\n",
       "      <th></th>\n",
       "    </tr>\n",
       "  </thead>\n",
       "  <tbody>\n",
       "    <tr>\n",
       "      <th>F</th>\n",
       "      <td>226.0</td>\n",
       "      <td>21.974872</td>\n",
       "      <td>1.894636</td>\n",
       "      <td>18.516</td>\n",
       "      <td>20.57725</td>\n",
       "      <td>21.818</td>\n",
       "      <td>23.2605</td>\n",
       "      <td>28.569</td>\n",
       "      <td>226.0</td>\n",
       "      <td>1.626271e+06</td>\n",
       "      <td>83318.549662</td>\n",
       "      <td>1.374969e+06</td>\n",
       "      <td>1.572887e+06</td>\n",
       "      <td>1.625633e+06</td>\n",
       "      <td>1.680803e+06</td>\n",
       "      <td>1.889673e+06</td>\n",
       "    </tr>\n",
       "    <tr>\n",
       "      <th>M</th>\n",
       "      <td>226.0</td>\n",
       "      <td>21.956814</td>\n",
       "      <td>1.864923</td>\n",
       "      <td>18.513</td>\n",
       "      <td>20.56250</td>\n",
       "      <td>21.808</td>\n",
       "      <td>23.2680</td>\n",
       "      <td>29.287</td>\n",
       "      <td>226.0</td>\n",
       "      <td>1.626417e+06</td>\n",
       "      <td>83740.676596</td>\n",
       "      <td>1.365514e+06</td>\n",
       "      <td>1.574852e+06</td>\n",
       "      <td>1.626018e+06</td>\n",
       "      <td>1.681201e+06</td>\n",
       "      <td>1.892067e+06</td>\n",
       "    </tr>\n",
       "  </tbody>\n",
       "</table>\n",
       "</div>"
      ],
      "text/plain": [
       "       Age                                                                  \\\n",
       "     count       mean       std     min       25%     50%      75%     max   \n",
       "Sex                                                                          \n",
       "F    226.0  21.974872  1.894636  18.516  20.57725  21.818  23.2605  28.569   \n",
       "M    226.0  21.956814  1.864923  18.513  20.56250  21.808  23.2680  29.287   \n",
       "\n",
       "      eTIV                                                          \\\n",
       "     count          mean           std           min           25%   \n",
       "Sex                                                                  \n",
       "F    226.0  1.626271e+06  83318.549662  1.374969e+06  1.572887e+06   \n",
       "M    226.0  1.626417e+06  83740.676596  1.365514e+06  1.574852e+06   \n",
       "\n",
       "                                               \n",
       "              50%           75%           max  \n",
       "Sex                                            \n",
       "F    1.625633e+06  1.680803e+06  1.889673e+06  \n",
       "M    1.626018e+06  1.681201e+06  1.892067e+06  "
      ]
     },
     "execution_count": 27,
     "metadata": {},
     "output_type": "execute_result"
    }
   ],
   "source": [
    "matched_subinfo.groupby('Sex')[['Age', 'eTIV']].describe()"
   ]
  },
  {
   "cell_type": "code",
   "execution_count": 24,
   "metadata": {},
   "outputs": [
    {
     "data": {
      "text/plain": [
       "514"
      ]
     },
     "execution_count": 24,
     "metadata": {},
     "output_type": "execute_result"
    }
   ],
   "source": [
    "len(male_dat)"
   ]
  },
  {
   "cell_type": "code",
   "execution_count": 30,
   "metadata": {},
   "outputs": [],
   "source": [
    "# Save this as group info for the matched group\n",
    "\n",
    "matched_subinfo.to_csv(op.join(group_out, 'group_info.csv'))"
   ]
  },
  {
   "cell_type": "markdown",
   "metadata": {},
   "source": [
    "## 3. Create FSDG and contrast files for models with Sex"
   ]
  },
  {
   "cell_type": "code",
   "execution_count": 38,
   "metadata": {},
   "outputs": [],
   "source": [
    "models = {'Model1_Sex': [],\n",
    "          'Model2_Sex_Age': ['Age'],\n",
    "          'Model3_Sex_ICV': ['eTIV'],\n",
    "          'Model4_Sex_Age_ICV':  ['Age', 'eTIV']}"
   ]
  },
  {
   "cell_type": "code",
   "execution_count": 75,
   "metadata": {},
   "outputs": [],
   "source": [
    "gm_fsgd_lines = ['GroupDescriptorFile 1', 'Class F', 'Class M']"
   ]
  },
  {
   "cell_type": "code",
   "execution_count": 40,
   "metadata": {},
   "outputs": [],
   "source": [
    "# Iterate over  each model to create fsdg file\n",
    "\n",
    "for model_name, variables in models.items():\n",
    "    model_out = op.join(group_out, model_name)\n",
    "    os.makedirs(model_out, exist_ok=True)\n",
    "        \n",
    "    var_list = ['Variables'] + variables\n",
    "    extra_line = ' '.join(var_list)\n",
    "    lines = gm_fsgd_lines + [extra_line]\n",
    "        \n",
    "    cols = ['mrishare_id', 'Sex'] + variables\n",
    "    var_df = matched_subinfo.reset_index()[cols]\n",
    "    var_df['Input'] = 'Input'\n",
    "    col_order = ['Input', 'mrishare_id', 'Sex'] + variables\n",
    "        \n",
    "    fsgd_file = op.join(model_out, '{}.fsgd'.format(model_name))\n",
    "    with open(fsgd_file, 'w') as f:\n",
    "        for line in lines:\n",
    "            f.write(line + '\\n')\n",
    "        var_df[col_order].to_csv(f, header=False, index=False, sep=' ')"
   ]
  },
  {
   "cell_type": "code",
   "execution_count": 36,
   "metadata": {},
   "outputs": [],
   "source": [
    "contrast_dict = {'Model1': {'group.diff': [1, -1]},\n",
    "                 'Model2': {'group.diff': [1, -1, 0, 0],\n",
    "                            'group-x-age': [0, 0, 1, -1],\n",
    "                            'FM-age': [0, 0, 0.5, 0.5]},\n",
    "                 'Model3': {'group.diff': [1, -1, 0, 0],\n",
    "                            'group-x-ICV': [0, 0, 1, -1],\n",
    "                            'FM-ICV': [0, 0, 0.5, 0.5]},\n",
    "                 'Model4': {'group.diff': [1, -1, 0, 0, 0, 0], # Is there a sex diff bet group intercept after correcting for age and eTIV?\n",
    "                            'group-x-age': [0, 0, 1, -1, 0, 0], # Is there a difference bet group in the effect of age?\n",
    "                            'group-x-ICV': [0, 0, 0, 0, 1, -1], # Is there a difference bet group in the effect of ICV?\n",
    "                            'FM-age': [0, 0, 0.5, 0.5, 0, 0], # Is there any age effect after correcting for sex and ICV?\n",
    "                            'FM-ICV': [0, 0, 0, 0, 0.5, 0.5]} # Is there any ICV effect after correcting for sex and age?\n",
    "                 }"
   ]
  },
  {
   "cell_type": "code",
   "execution_count": 37,
   "metadata": {},
   "outputs": [],
   "source": [
    "# For each model, create contrast.mtx file and direction of expected effects\n",
    "\n",
    "for model_name, variables in models.items():\n",
    "    model_out = op.join(group_out, model_name)\n",
    "    \n",
    "    contrasts = contrast_dict[model_name[:6]]\n",
    "    \n",
    "    for contrast_name, contrast in contrasts.items():\n",
    "        contrast_file = op.join(model_out, '{}.mtx'.format(contrast_name))\n",
    "        contrast_sign_file = op.join(model_out, '{}.mdtx'.format(contrast_name))\n",
    "        \n",
    "        with open(contrast_file, 'w') as f:\n",
    "                f.write(' '.join(str(val) for val in contrast))\n",
    "            \n",
    "        with open(contrast_sign_file, 'w') as f:\n",
    "            f.write('abs') "
   ]
  },
  {
   "cell_type": "markdown",
   "metadata": {},
   "source": [
    "These models were run with run_MatchedGroup_model_SBM.sh in /data/extra/tsuchida/MRiShare/SBM."
   ]
  },
  {
   "cell_type": "markdown",
   "metadata": {},
   "source": [
    "## 4. Create a larger age- and ICV-matched group\n",
    "\n",
    "After reading some papers on ICV correction methods and sex differences (most notably Nordenskjold et al 2015 and Pintzka et al 2015), I came to the conclusion that the matched group is crucial for really testing for sex differences or sex interactions. The main drawback from matched group is a much reduced sample size.\n",
    "\n",
    "To increase the power of matched group comparison, I will relax the age-matching requirement. Rather than matching age and ICV together, age will be matched more loosely by age-stratified group, and then for each group, ICV-matched pairs will be made.\n",
    "\n",
    "To make it easy to compare the results across the 3 groups, plot all the equivalent images across them."
   ]
  },
  {
   "cell_type": "code",
   "execution_count": 10,
   "metadata": {},
   "outputs": [],
   "source": [
    "%matplotlib inline\n",
    "import matplotlib.pyplot as plt"
   ]
  },
  {
   "cell_type": "code",
   "execution_count": 11,
   "metadata": {},
   "outputs": [
    {
     "data": {
      "text/plain": [
       "<matplotlib.axes._subplots.AxesSubplot at 0x7f0f389ff668>"
      ]
     },
     "execution_count": 11,
     "metadata": {},
     "output_type": "execute_result"
    },
    {
     "data": {
      "image/png": "[encoded data removed]",
      "text/plain": [
       "<Figure size 432x288 with 1 Axes>"
      ]
     },
     "metadata": {
      "needs_background": "light"
     },
     "output_type": "display_data"
    }
   ],
   "source": [
    "male_dat['Age'].plot.hist()"
   ]
  },
  {
   "cell_type": "code",
   "execution_count": 7,
   "metadata": {},
   "outputs": [],
   "source": [
    "surf_measures = ['thickness', 'area']"
   ]
  },
  {
   "cell_type": "code",
   "execution_count": 28,
   "metadata": {},
   "outputs": [
    {
     "name": "stdout",
     "output_type": "stream",
     "text": [
      "18 - 21: 164\n",
      "18 - 21: 481\n",
      "21 - 24: 238\n",
      "21 - 24: 620\n",
      "24 - 27: 85\n",
      "24 - 27: 176\n",
      "27 - 30: 23\n",
      "27 - 30: 34\n",
      "30 - 35: 4\n",
      "30 - 35: 9\n"
     ]
    }
   ],
   "source": [
    "age_groups = [(18, 21), (21, 24), (24, 27), (27, 30), (30, 35)]\n",
    "male_grouped_dat = []\n",
    "female_grouped_dat = []\n",
    "for l, u in age_groups:\n",
    "    m_group = male_dat[(male_dat.Age >= l) & (male_dat.Age < u)]\n",
    "    print ('{} - {}: {}'.format(l, u, len(m_group)))\n",
    "    male_grouped_dat.append(m_group)\n",
    "    \n",
    "    f_group = female_dat[(female_dat.Age >= l) & (female_dat.Age < u)]\n",
    "    print ('{} - {}: {}'.format(l, u, len(f_group)))\n",
    "    female_grouped_dat.append(f_group)"
   ]
  },
  {
   "cell_type": "code",
   "execution_count": 29,
   "metadata": {},
   "outputs": [
    {
     "name": "stdout",
     "output_type": "stream",
     "text": [
      "18 - 21: 180/328\n",
      "21 - 24: 270/476\n",
      "24 - 27: 92/170\n",
      "27 - 30: 10/46\n",
      "30 - 35: 0/8\n"
     ]
    }
   ],
   "source": [
    "matched_groups = []\n",
    "for age_range, m_group, f_group in zip(age_groups, male_grouped_dat, female_grouped_dat):\n",
    "    matched = epy.phjSelectCaseControlDataset(m_group,\n",
    "                                              f_group,\n",
    "                                             'mrishare_id',\n",
    "                                              phjMatchingVariablesList=['eTIV_approx'])\n",
    "    matched_df = matched[~matched.isnull().any(axis=1)]\n",
    "    l, u = age_range\n",
    "    print ('{} - {}: {}/{}'.format(l, u, len(matched_df), len(matched)))\n",
    "    matched_groups.append(matched_df)"
   ]
  },
  {
   "cell_type": "code",
   "execution_count": 30,
   "metadata": {},
   "outputs": [
    {
     "data": {
      "text/plain": [
       "552"
      ]
     },
     "execution_count": 30,
     "metadata": {},
     "output_type": "execute_result"
    }
   ],
   "source": [
    "new_matched_subs = []\n",
    "for df in matched_groups:\n",
    "    new_matched_subs += df.mrishare_id.tolist()\n",
    "        \n",
    "len(new_matched_subs)"
   ]
  },
  {
   "cell_type": "code",
   "execution_count": 31,
   "metadata": {},
   "outputs": [],
   "source": [
    "new_matched_subinfo = sub_info[sub_info.index.isin(new_matched_subs)]\n",
    "new_matched_male = new_matched_subinfo[new_matched_subinfo.Sex == 'M']\n",
    "new_matched_female = new_matched_subinfo[new_matched_subinfo.Sex == 'F']"
   ]
  },
  {
   "cell_type": "code",
   "execution_count": 22,
   "metadata": {},
   "outputs": [],
   "source": [
    "from scipy import stats"
   ]
  },
  {
   "cell_type": "code",
   "execution_count": 32,
   "metadata": {},
   "outputs": [
    {
     "data": {
      "text/plain": [
       "Ttest_indResult(statistic=0.6677361403653197, pvalue=0.5045821197003613)"
      ]
     },
     "execution_count": 32,
     "metadata": {},
     "output_type": "execute_result"
    }
   ],
   "source": [
    "stats.ttest_ind(new_matched_male.Age, new_matched_female.Age)"
   ]
  },
  {
   "cell_type": "code",
   "execution_count": 84,
   "metadata": {},
   "outputs": [
    {
     "data": {
      "text/html": [
       "<div>\n",
       "<style scoped>\n",
       "    .dataframe tbody tr th:only-of-type {\n",
       "        vertical-align: middle;\n",
       "    }\n",
       "\n",
       "    .dataframe tbody tr th {\n",
       "        vertical-align: top;\n",
       "    }\n",
       "\n",
       "    .dataframe thead tr th {\n",
       "        text-align: left;\n",
       "    }\n",
       "\n",
       "    .dataframe thead tr:last-of-type th {\n",
       "        text-align: right;\n",
       "    }\n",
       "</style>\n",
       "<table border=\"1\" class=\"dataframe\">\n",
       "  <thead>\n",
       "    <tr>\n",
       "      <th></th>\n",
       "      <th colspan=\"8\" halign=\"left\">Age</th>\n",
       "      <th colspan=\"8\" halign=\"left\">eTIV</th>\n",
       "    </tr>\n",
       "    <tr>\n",
       "      <th></th>\n",
       "      <th>count</th>\n",
       "      <th>mean</th>\n",
       "      <th>std</th>\n",
       "      <th>min</th>\n",
       "      <th>25%</th>\n",
       "      <th>50%</th>\n",
       "      <th>75%</th>\n",
       "      <th>max</th>\n",
       "      <th>count</th>\n",
       "      <th>mean</th>\n",
       "      <th>std</th>\n",
       "      <th>min</th>\n",
       "      <th>25%</th>\n",
       "      <th>50%</th>\n",
       "      <th>75%</th>\n",
       "      <th>max</th>\n",
       "    </tr>\n",
       "    <tr>\n",
       "      <th>Sex</th>\n",
       "      <th></th>\n",
       "      <th></th>\n",
       "      <th></th>\n",
       "      <th></th>\n",
       "      <th></th>\n",
       "      <th></th>\n",
       "      <th></th>\n",
       "      <th></th>\n",
       "      <th></th>\n",
       "      <th></th>\n",
       "      <th></th>\n",
       "      <th></th>\n",
       "      <th></th>\n",
       "      <th></th>\n",
       "      <th></th>\n",
       "      <th></th>\n",
       "    </tr>\n",
       "  </thead>\n",
       "  <tbody>\n",
       "    <tr>\n",
       "      <th>F</th>\n",
       "      <td>276.0</td>\n",
       "      <td>21.995757</td>\n",
       "      <td>2.008845</td>\n",
       "      <td>18.182</td>\n",
       "      <td>20.61250</td>\n",
       "      <td>21.7945</td>\n",
       "      <td>23.09725</td>\n",
       "      <td>29.467</td>\n",
       "      <td>276.0</td>\n",
       "      <td>1.632083e+06</td>\n",
       "      <td>86360.096249</td>\n",
       "      <td>1.371705e+06</td>\n",
       "      <td>1.577870e+06</td>\n",
       "      <td>1.630624e+06</td>\n",
       "      <td>1.686490e+06</td>\n",
       "      <td>1.917070e+06</td>\n",
       "    </tr>\n",
       "    <tr>\n",
       "      <th>M</th>\n",
       "      <td>276.0</td>\n",
       "      <td>22.113873</td>\n",
       "      <td>2.144905</td>\n",
       "      <td>18.272</td>\n",
       "      <td>20.55825</td>\n",
       "      <td>21.8740</td>\n",
       "      <td>23.59125</td>\n",
       "      <td>29.845</td>\n",
       "      <td>276.0</td>\n",
       "      <td>1.632272e+06</td>\n",
       "      <td>86513.469561</td>\n",
       "      <td>1.365514e+06</td>\n",
       "      <td>1.577142e+06</td>\n",
       "      <td>1.631411e+06</td>\n",
       "      <td>1.685793e+06</td>\n",
       "      <td>1.916886e+06</td>\n",
       "    </tr>\n",
       "  </tbody>\n",
       "</table>\n",
       "</div>"
      ],
      "text/plain": [
       "       Age                                                                    \\\n",
       "     count       mean       std     min       25%      50%       75%     max   \n",
       "Sex                                                                            \n",
       "F    276.0  21.995757  2.008845  18.182  20.61250  21.7945  23.09725  29.467   \n",
       "M    276.0  22.113873  2.144905  18.272  20.55825  21.8740  23.59125  29.845   \n",
       "\n",
       "      eTIV                                                          \\\n",
       "     count          mean           std           min           25%   \n",
       "Sex                                                                  \n",
       "F    276.0  1.632083e+06  86360.096249  1.371705e+06  1.577870e+06   \n",
       "M    276.0  1.632272e+06  86513.469561  1.365514e+06  1.577142e+06   \n",
       "\n",
       "                                               \n",
       "              50%           75%           max  \n",
       "Sex                                            \n",
       "F    1.630624e+06  1.686490e+06  1.917070e+06  \n",
       "M    1.631411e+06  1.685793e+06  1.916886e+06  "
      ]
     },
     "execution_count": 84,
     "metadata": {},
     "output_type": "execute_result"
    }
   ],
   "source": [
    "new_matched_subinfo.groupby('Sex')[['Age', 'eTIV']].describe()"
   ]
  },
  {
   "cell_type": "code",
   "execution_count": 37,
   "metadata": {},
   "outputs": [],
   "source": [
    "# Create a new model and group dir to save the newly matched sub info\n",
    "\n",
    "mg2_out = op.join(outdir, 'Model_MatchedSex2')\n",
    "os.makedirs(mg2_out, exist_ok=True)\n",
    "\n",
    "new_group_out = op.join(mg2_out, 'Both_AgeICVmatched_552')\n",
    "os.makedirs(new_group_out, exist_ok=True)"
   ]
  },
  {
   "cell_type": "code",
   "execution_count": 36,
   "metadata": {},
   "outputs": [
    {
     "data": {
      "text/html": [
       "<div>\n",
       "<style scoped>\n",
       "    .dataframe tbody tr th:only-of-type {\n",
       "        vertical-align: middle;\n",
       "    }\n",
       "\n",
       "    .dataframe tbody tr th {\n",
       "        vertical-align: top;\n",
       "    }\n",
       "\n",
       "    .dataframe thead th {\n",
       "        text-align: right;\n",
       "    }\n",
       "</style>\n",
       "<table border=\"1\" class=\"dataframe\">\n",
       "  <thead>\n",
       "    <tr style=\"text-align: right;\">\n",
       "      <th></th>\n",
       "      <th>Sex</th>\n",
       "      <th>Age</th>\n",
       "      <th>eTIV</th>\n",
       "      <th>Age_approx</th>\n",
       "      <th>eTIV_approx</th>\n",
       "    </tr>\n",
       "    <tr>\n",
       "      <th>mrishare_id</th>\n",
       "      <th></th>\n",
       "      <th></th>\n",
       "      <th></th>\n",
       "      <th></th>\n",
       "      <th></th>\n",
       "    </tr>\n",
       "  </thead>\n",
       "  <tbody>\n",
       "    <tr>\n",
       "      <th>SHARE1983</th>\n",
       "      <td>M</td>\n",
       "      <td>21.306</td>\n",
       "      <td>1.544438e+06</td>\n",
       "      <td>21.0</td>\n",
       "      <td>1.54</td>\n",
       "    </tr>\n",
       "    <tr>\n",
       "      <th>SHARE1986</th>\n",
       "      <td>F</td>\n",
       "      <td>19.165</td>\n",
       "      <td>1.676667e+06</td>\n",
       "      <td>19.0</td>\n",
       "      <td>1.68</td>\n",
       "    </tr>\n",
       "    <tr>\n",
       "      <th>SHARE1989</th>\n",
       "      <td>F</td>\n",
       "      <td>20.799</td>\n",
       "      <td>1.683224e+06</td>\n",
       "      <td>21.0</td>\n",
       "      <td>1.68</td>\n",
       "    </tr>\n",
       "    <tr>\n",
       "      <th>SHARE1993</th>\n",
       "      <td>F</td>\n",
       "      <td>24.350</td>\n",
       "      <td>1.665072e+06</td>\n",
       "      <td>24.0</td>\n",
       "      <td>1.67</td>\n",
       "    </tr>\n",
       "    <tr>\n",
       "      <th>SHARE1997</th>\n",
       "      <td>M</td>\n",
       "      <td>29.845</td>\n",
       "      <td>1.457577e+06</td>\n",
       "      <td>30.0</td>\n",
       "      <td>1.46</td>\n",
       "    </tr>\n",
       "  </tbody>\n",
       "</table>\n",
       "</div>"
      ],
      "text/plain": [
       "            Sex     Age          eTIV  Age_approx  eTIV_approx\n",
       "mrishare_id                                                   \n",
       "SHARE1983     M  21.306  1.544438e+06        21.0         1.54\n",
       "SHARE1986     F  19.165  1.676667e+06        19.0         1.68\n",
       "SHARE1989     F  20.799  1.683224e+06        21.0         1.68\n",
       "SHARE1993     F  24.350  1.665072e+06        24.0         1.67\n",
       "SHARE1997     M  29.845  1.457577e+06        30.0         1.46"
      ]
     },
     "execution_count": 36,
     "metadata": {},
     "output_type": "execute_result"
    }
   ],
   "source": [
    "new_matched_subinfo.tail()"
   ]
  },
  {
   "cell_type": "code",
   "execution_count": 38,
   "metadata": {},
   "outputs": [
    {
     "name": "stderr",
     "output_type": "stream",
     "text": [
      "/homes_unix/tsuchida/anaconda2/envs/py3/lib/python3.6/site-packages/ipykernel_launcher.py:2: SettingWithCopyWarning: \n",
      "A value is trying to be set on a copy of a slice from a DataFrame.\n",
      "Try using .loc[row_indexer,col_indexer] = value instead\n",
      "\n",
      "See the caveats in the documentation: http://pandas.pydata.org/pandas-docs/stable/indexing.html#indexing-view-versus-copy\n",
      "  \n",
      "/homes_unix/tsuchida/anaconda2/envs/py3/lib/python3.6/site-packages/ipykernel_launcher.py:3: SettingWithCopyWarning: \n",
      "A value is trying to be set on a copy of a slice from a DataFrame.\n",
      "Try using .loc[row_indexer,col_indexer] = value instead\n",
      "\n",
      "See the caveats in the documentation: http://pandas.pydata.org/pandas-docs/stable/indexing.html#indexing-view-versus-copy\n",
      "  This is separate from the ipykernel package so we can avoid doing imports until\n",
      "/homes_unix/tsuchida/anaconda2/envs/py3/lib/python3.6/site-packages/ipykernel_launcher.py:4: SettingWithCopyWarning: \n",
      "A value is trying to be set on a copy of a slice from a DataFrame.\n",
      "Try using .loc[row_indexer,col_indexer] = value instead\n",
      "\n",
      "See the caveats in the documentation: http://pandas.pydata.org/pandas-docs/stable/indexing.html#indexing-view-versus-copy\n",
      "  after removing the cwd from sys.path.\n"
     ]
    },
    {
     "data": {
      "text/html": [
       "<div>\n",
       "<style scoped>\n",
       "    .dataframe tbody tr th:only-of-type {\n",
       "        vertical-align: middle;\n",
       "    }\n",
       "\n",
       "    .dataframe tbody tr th {\n",
       "        vertical-align: top;\n",
       "    }\n",
       "\n",
       "    .dataframe thead th {\n",
       "        text-align: right;\n",
       "    }\n",
       "</style>\n",
       "<table border=\"1\" class=\"dataframe\">\n",
       "  <thead>\n",
       "    <tr style=\"text-align: right;\">\n",
       "      <th></th>\n",
       "      <th>Sex</th>\n",
       "      <th>Age</th>\n",
       "      <th>eTIV</th>\n",
       "      <th>Age_approx</th>\n",
       "      <th>eTIV_approx</th>\n",
       "      <th>AgeC</th>\n",
       "      <th>SqAgeC</th>\n",
       "      <th>eTIVC</th>\n",
       "    </tr>\n",
       "    <tr>\n",
       "      <th>mrishare_id</th>\n",
       "      <th></th>\n",
       "      <th></th>\n",
       "      <th></th>\n",
       "      <th></th>\n",
       "      <th></th>\n",
       "      <th></th>\n",
       "      <th></th>\n",
       "      <th></th>\n",
       "    </tr>\n",
       "  </thead>\n",
       "  <tbody>\n",
       "    <tr>\n",
       "      <th>SHARE0004</th>\n",
       "      <td>M</td>\n",
       "      <td>23.107</td>\n",
       "      <td>1.825874e+06</td>\n",
       "      <td>23.0</td>\n",
       "      <td>1.83</td>\n",
       "      <td>1.052185</td>\n",
       "      <td>1.107093</td>\n",
       "      <td>193696.627542</td>\n",
       "    </tr>\n",
       "    <tr>\n",
       "      <th>SHARE0006</th>\n",
       "      <td>M</td>\n",
       "      <td>22.916</td>\n",
       "      <td>1.756562e+06</td>\n",
       "      <td>23.0</td>\n",
       "      <td>1.76</td>\n",
       "      <td>0.861185</td>\n",
       "      <td>0.741639</td>\n",
       "      <td>124384.829602</td>\n",
       "    </tr>\n",
       "    <tr>\n",
       "      <th>SHARE0007</th>\n",
       "      <td>M</td>\n",
       "      <td>20.011</td>\n",
       "      <td>1.523241e+06</td>\n",
       "      <td>20.0</td>\n",
       "      <td>1.52</td>\n",
       "      <td>-2.043815</td>\n",
       "      <td>4.177181</td>\n",
       "      <td>-108936.184548</td>\n",
       "    </tr>\n",
       "    <tr>\n",
       "      <th>SHARE0008</th>\n",
       "      <td>M</td>\n",
       "      <td>23.715</td>\n",
       "      <td>1.648408e+06</td>\n",
       "      <td>24.0</td>\n",
       "      <td>1.65</td>\n",
       "      <td>1.660185</td>\n",
       "      <td>2.756214</td>\n",
       "      <td>16230.162452</td>\n",
       "    </tr>\n",
       "    <tr>\n",
       "      <th>SHARE0009</th>\n",
       "      <td>M</td>\n",
       "      <td>25.889</td>\n",
       "      <td>1.541881e+06</td>\n",
       "      <td>26.0</td>\n",
       "      <td>1.54</td>\n",
       "      <td>3.834185</td>\n",
       "      <td>14.700973</td>\n",
       "      <td>-90297.002888</td>\n",
       "    </tr>\n",
       "  </tbody>\n",
       "</table>\n",
       "</div>"
      ],
      "text/plain": [
       "            Sex     Age          eTIV  Age_approx  eTIV_approx      AgeC  \\\n",
       "mrishare_id                                                                \n",
       "SHARE0004     M  23.107  1.825874e+06        23.0         1.83  1.052185   \n",
       "SHARE0006     M  22.916  1.756562e+06        23.0         1.76  0.861185   \n",
       "SHARE0007     M  20.011  1.523241e+06        20.0         1.52 -2.043815   \n",
       "SHARE0008     M  23.715  1.648408e+06        24.0         1.65  1.660185   \n",
       "SHARE0009     M  25.889  1.541881e+06        26.0         1.54  3.834185   \n",
       "\n",
       "                SqAgeC          eTIVC  \n",
       "mrishare_id                            \n",
       "SHARE0004     1.107093  193696.627542  \n",
       "SHARE0006     0.741639  124384.829602  \n",
       "SHARE0007     4.177181 -108936.184548  \n",
       "SHARE0008     2.756214   16230.162452  \n",
       "SHARE0009    14.700973  -90297.002888  "
      ]
     },
     "execution_count": 38,
     "metadata": {},
     "output_type": "execute_result"
    }
   ],
   "source": [
    "# Create a demeaned age , age^2, and eTIV\n",
    "new_matched_subinfo['AgeC'] = new_matched_subinfo.Age - new_matched_subinfo.Age.mean()\n",
    "new_matched_subinfo['SqAgeC'] = new_matched_subinfo.AgeC**2\n",
    "new_matched_subinfo['eTIVC'] = new_matched_subinfo.eTIV - new_matched_subinfo.eTIV.mean()\n",
    "    \n",
    "new_matched_subinfo.head()"
   ]
  },
  {
   "cell_type": "code",
   "execution_count": 39,
   "metadata": {},
   "outputs": [],
   "source": [
    "new_matched_subinfo.to_csv(op.join(new_group_out, 'group_info.csv'))"
   ]
  },
  {
   "cell_type": "markdown",
   "metadata": {},
   "source": [
    "## 5 Create design matrices and contrasts\n",
    "\n",
    "To have a better control over the modelling, create design matrices directly, to use in the GLM, rather than FSGD files.\n",
    "This is needed for the test of main effects when interaction was deemed non-significant (i.e. DOSS design)."
   ]
  },
  {
   "cell_type": "code",
   "execution_count": 40,
   "metadata": {},
   "outputs": [],
   "source": [
    "import scipy.io as sio"
   ]
  },
  {
   "cell_type": "code",
   "execution_count": 44,
   "metadata": {},
   "outputs": [
    {
     "data": {
      "text/plain": [
       "{'X': array([[ 0.        ,  1.        ,  0.        ,  2.13068271],\n",
       "        [ 1.        ,  0.        ,  0.83268267,  0.        ],\n",
       "        [ 1.        ,  0.        ,  1.52268267,  0.        ],\n",
       "        ...,\n",
       "        [ 1.        ,  0.        , -1.19031739,  0.        ],\n",
       "        [ 0.        ,  1.        ,  0.        ,  7.33568287],\n",
       "        [ 0.        ,  1.        ,  0.        ,  5.22468281]])}"
      ]
     },
     "execution_count": 44,
     "metadata": {},
     "output_type": "execute_result"
    }
   ],
   "source": [
    "test_mat = '/beegfs_data/scratch/tsuchida-SBM/SBM_Both/_model_name_Model8_Sex_Age/_measure_area/_fwhm_0.0/lhSBMglmfit/X.mat'\n",
    "test_contents = sio.loadmat(test_mat)\n",
    "test_contents"
   ]
  },
  {
   "cell_type": "code",
   "execution_count": 45,
   "metadata": {},
   "outputs": [
    {
     "data": {
      "text/plain": [
       "(1834, 4)"
      ]
     },
     "execution_count": 45,
     "metadata": {},
     "output_type": "execute_result"
    }
   ],
   "source": [
    "test_contents['X'].shape"
   ]
  },
  {
   "cell_type": "code",
   "execution_count": 55,
   "metadata": {},
   "outputs": [],
   "source": [
    "# Here all models include Sex, AgeC, eTIVC varialbles\n",
    "# but interaction terms are formed between Sex and var specified in dict\n",
    "new_models = {'Model1a_Sex_Age_ICV_simple': [],\n",
    "              'Model1b_Sex_Age_ICV_intSexAge': ['AgeC'],\n",
    "              'Model1c_Sex_Age_ICV_intSexICV': ['eTIVC'],\n",
    "              'Model1d_Sex_Age_ICV_intSexAge_intSexICV':  ['AgeC', 'eTIVC']}"
   ]
  },
  {
   "cell_type": "code",
   "execution_count": 64,
   "metadata": {},
   "outputs": [
    {
     "name": "stderr",
     "output_type": "stream",
     "text": [
      "/homes_unix/tsuchida/anaconda2/envs/py3/lib/python3.6/site-packages/ipykernel_launcher.py:15: SettingWithCopyWarning: \n",
      "A value is trying to be set on a copy of a slice from a DataFrame.\n",
      "Try using .loc[row_indexer,col_indexer] = value instead\n",
      "\n",
      "See the caveats in the documentation: http://pandas.pydata.org/pandas-docs/stable/indexing.html#indexing-view-versus-copy\n",
      "  from ipykernel import kernelapp as app\n",
      "/homes_unix/tsuchida/anaconda2/envs/py3/lib/python3.6/site-packages/ipykernel_launcher.py:16: SettingWithCopyWarning: \n",
      "A value is trying to be set on a copy of a slice from a DataFrame.\n",
      "Try using .loc[row_indexer,col_indexer] = value instead\n",
      "\n",
      "See the caveats in the documentation: http://pandas.pydata.org/pandas-docs/stable/indexing.html#indexing-view-versus-copy\n",
      "  app.launch_new_instance()\n",
      "/homes_unix/tsuchida/anaconda2/envs/py3/lib/python3.6/site-packages/ipykernel_launcher.py:21: SettingWithCopyWarning: \n",
      "A value is trying to be set on a copy of a slice from a DataFrame.\n",
      "Try using .loc[row_indexer,col_indexer] = value instead\n",
      "\n",
      "See the caveats in the documentation: http://pandas.pydata.org/pandas-docs/stable/indexing.html#indexing-view-versus-copy\n",
      "/homes_unix/tsuchida/anaconda2/envs/py3/lib/python3.6/site-packages/ipykernel_launcher.py:22: SettingWithCopyWarning: \n",
      "A value is trying to be set on a copy of a slice from a DataFrame.\n",
      "Try using .loc[row_indexer,col_indexer] = value instead\n",
      "\n",
      "See the caveats in the documentation: http://pandas.pydata.org/pandas-docs/stable/indexing.html#indexing-view-versus-copy\n"
     ]
    }
   ],
   "source": [
    "variables = ['Sex', 'AgeC', 'eTIVC']\n",
    "def f_fxn(row):\n",
    "    return 1.0 if row.Sex == 'F' else 0.0\n",
    "def m_fxn(row):\n",
    "    return 1.0 if row.Sex == 'M' else 0.0\n",
    "\n",
    "model_designs = {}\n",
    "for model_name, int_variables in new_models.items():\n",
    "    model_out = op.join(new_group_out, model_name)\n",
    "    os.makedirs(model_out, exist_ok=True)\n",
    "    \n",
    "    model_designs[model_name] = {}\n",
    "    \n",
    "    df = new_matched_subinfo[variables]\n",
    "    df['Female'] = df.apply(f_fxn, axis=1)\n",
    "    df['Male'] = df.apply(m_fxn, axis=1)\n",
    "    \n",
    "    cols = ['Female', 'Male', 'AgeC', 'eTIVC']\n",
    "    \n",
    "    for int_var in int_variables:\n",
    "            df['{}_F'.format(int_var)] = df.Female * df[int_var]\n",
    "            df['{}_M'.format(int_var)] = df.Male * df[int_var]\n",
    "            cols = cols[:cols.index(int_var)] + ['{}_F'.format(int_var), '{}_M'.format(int_var)] + cols[cols.index(int_var)+1:]\n",
    "    model_designs[model_name]['X'] = df[cols].values\n",
    "    \n",
    "    # save mat\n",
    "    sio.savemat(op.join(model_out, 'X.mat'), model_designs[model_name])"
   ]
  },
  {
   "cell_type": "code",
   "execution_count": 65,
   "metadata": {},
   "outputs": [],
   "source": [
    "# new contrasts\n",
    "\n",
    "new_contrast_dict = {'Model1a': {'group.diff': [[1, -1, 0, 0]], # Sex diff after controlling for age, eTIV, if no interaction\n",
    "                                 'FM-age': [[0, 0, 1, 0]],      # Age effect after controlling for sex, eTIV, if no interaction\n",
    "                                 'FM-ICV': [[0, 0, 0, 1]]},     # eTIV effect after controlling for sex, age, if no interaction\n",
    "                     'Model1b': {'group.diff': [[1, -1, 0, 0, 0]],  # Sex diff at mean age, after controlling for eTIV\n",
    "                                 'group-x-age': [[0, 0, 1, -1, 0]], # Sex x Age interaction, controlling for eTIV\n",
    "                                 'FM-ICV': [[0, 0, 0, 0, 1]]},      # eTIV effect after controlling for sex, age, if no interaction of Sex and eTIV\n",
    "                     'Model1c': {'group.diff': [[1, -1, 0, 0, 0]],  # Sex diff at mean eTIV, after controlling for age\n",
    "                                 'group-x-ICV': [[0, 0, 0, 1, -1]], # Sex x eTIV interaction, controlling for age\n",
    "                                 'FM-age': [[0, 0, 1, 0, 0]]},        # Age effect after controlling for sex, eTIV, if no interaction of Sex and age\n",
    "                     'Model1d': {'group.diff': [[1, -1, 0, 0, 0, 0]], # Sex diff at mean age and eTIV\n",
    "                                 'group-x-age': [[0, 0, 1, -1, 0, 0]],  # Is there a difference bet group in the effect of age?\n",
    "                                 'group-x-ICV': [[0, 0, 0, 0, 1, -1]],  # Is there a difference bet group in the effect of ICV?\n",
    "                                 'group-x-age-or-ICV': [[0, 0, 1, -1, 0, 0],\n",
    "                                                        [0, 0, 0, 0, 1, -1]]} # Is there any interaction between age OR ICV?\n",
    "                                 \n",
    "                     }"
   ]
  },
  {
   "cell_type": "code",
   "execution_count": 72,
   "metadata": {},
   "outputs": [],
   "source": [
    "# For each model, create contrast.mtx file and direction of expected effects\n",
    "\n",
    "for model_name in list(new_models.keys()):\n",
    "    model_out = op.join(new_group_out, model_name)\n",
    "    \n",
    "    contrasts = new_contrast_dict[model_name[:7]]\n",
    "    \n",
    "    for contrast_name, contrast_list in contrasts.items():\n",
    "        contrast_file = op.join(model_out, '{}.mtx'.format(contrast_name))\n",
    "        contrast_sign_file = op.join(model_out, '{}.mdtx'.format(contrast_name))\n",
    "        \n",
    "        with open(contrast_file, 'w') as f:\n",
    "            lines = [' '.join(str(val) for val in contrast) for contrast in contrast_list]\n",
    "            f.write('\\n'.join(lines))\n",
    "            \n",
    "        with open(contrast_sign_file, 'w') as f:\n",
    "            f.write('abs') "
   ]
  },
  {
   "cell_type": "code",
   "execution_count": 74,
   "metadata": {},
   "outputs": [
    {
     "data": {
      "text/plain": [
       "(552, 6)"
      ]
     },
     "execution_count": 74,
     "metadata": {},
     "output_type": "execute_result"
    }
   ],
   "source": [
    "model_designs['Model1d_Sex_Age_ICV_intSexAge_intSexICV']['X'].shape"
   ]
  },
  {
   "cell_type": "markdown",
   "metadata": {},
   "source": [
    "Forsome reason, model1d failed... try creating FSGD file and running it with FSGD input"
   ]
  },
  {
   "cell_type": "code",
   "execution_count": 77,
   "metadata": {},
   "outputs": [],
   "source": [
    "model1d_out = op.join(new_group_out, 'Model1d_Sex_Age_ICV_intSexAge_intSexICV')\n",
    "var_list = ['Variables', 'AgeC', 'eTIVC']\n",
    "extra_line = ' '.join(var_list)\n",
    "lines = gm_fsgd_lines + [extra_line]\n",
    "        \n",
    "cols = ['mrishare_id', 'Sex', 'AgeC', 'eTIVC']\n",
    "var_df = new_matched_subinfo.reset_index()[cols]\n",
    "var_df['Input'] = 'Input'\n",
    "col_order = ['Input'] + cols\n",
    "        \n",
    "fsgd_file = op.join(model1d_out, '{}.fsgd'.format('Model1d_Sex_Age_ICV_intSexAge_intSexICV'))\n",
    "with open(fsgd_file, 'w') as f:\n",
    "    for line in lines:\n",
    "        f.write(line + '\\n')\n",
    "    var_df[col_order].to_csv(f, header=False, index=False, sep=' ')"
   ]
  },
  {
   "cell_type": "markdown",
   "metadata": {},
   "source": [
    "It's still giving the error... I'm not sure if this has something to do with centering of the variables"
   ]
  },
  {
   "cell_type": "markdown",
   "metadata": {},
   "source": [
    "### 3.2. Statistical maps"
   ]
  },
  {
   "cell_type": "code",
   "execution_count": 15,
   "metadata": {},
   "outputs": [],
   "source": [
    "p_out = op.join(png_out, 'Sig_maps')\n",
    "os.makedirs(p_out, exist_ok=True)"
   ]
  },
  {
   "cell_type": "code",
   "execution_count": 41,
   "metadata": {},
   "outputs": [],
   "source": [
    "for meas in surf_measures:\n",
    "    for model_name, contrasts in simple_models.items():\n",
    "        for cont in contrasts:\n",
    "            fig_title = '{}: Effect of {} on {}'.format(model_name, cont, meas)\n",
    "            # Get mean data for meas in each group\n",
    "            lh_stat_maps = [op.join(sink_dir,\n",
    "                                    'SBM_{}Sink'.format(g),\n",
    "                                    '_model_name_{}'.format(model_name),\n",
    "                                    '_measure_{}'.format(meas),\n",
    "                                    '_fwhm_10.0',\n",
    "                                    'lhSBMglmfit',\n",
    "                                    cont,\n",
    "                                    'sig.mgh') for g in simple_groups]\n",
    "            rh_stat_maps = [op.join(sink_dir,\n",
    "                                    'SBM_{}Sink'.format(g),\n",
    "                                    '_model_name_{}'.format(model_name),\n",
    "                                    '_measure_{}'.format(meas),\n",
    "                                    '_fwhm_10.0',\n",
    "                                    'rhSBMglmfit',\n",
    "                                    cont,\n",
    "                                    'sig.mgh') for g in simple_groups]\n",
    "    \n",
    "            for corr in ['corrected', 'uncorrected']:\n",
    "                # Names\n",
    "                out_basename = '{}_cont_{}_{}_{}P'.format(model_name, cont, meas, corr)\n",
    "                if corr == 'corrected':\n",
    "                    thresholds = [op.join(sink_dir, 'SBM_{}Sink'.format(g),\n",
    "                                          '_model_name_{}'.format(model_name),\n",
    "                                          '_measure_{}'.format(meas),\n",
    "                                          '_fwhm_10.0',\n",
    "                                          cont,\n",
    "                                          'fdr_threshold.txt') for g in simple_groups]\n",
    "                else:\n",
    "                    thresholds = None\n",
    "\n",
    "                # put in json\n",
    "                dat = {'fig_title': fig_title,\n",
    "                       'out_basename': out_basename,\n",
    "                       'plot_type': 'surf_stat',\n",
    "                       'group_names': simple_groups,\n",
    "                       'lh_stat_maps': lh_stat_maps,\n",
    "                       'rh_stat_maps': rh_stat_maps,\n",
    "                       'upper_lim': 10.0,\n",
    "                       'thresholds': thresholds,\n",
    "                       'cmap': 'coolwarm'}\n",
    "                json_fname = op.join(p_out, '{}_arg_dict.json'.format(out_basename))\n",
    "                with open(json_fname, 'w') as f:\n",
    "                    json.dump(dat, f)"
   ]
  },
  {
   "cell_type": "code",
   "execution_count": 37,
   "metadata": {},
   "outputs": [],
   "source": [
    "g_out = op.join(png_out, 'Gamma_maps')\n",
    "os.makedirs(g_out, exist_ok=True)"
   ]
  },
  {
   "cell_type": "code",
   "execution_count": 33,
   "metadata": {},
   "outputs": [],
   "source": [
    "g_corr = ['masked', 'uncorrected']"
   ]
  },
  {
   "cell_type": "code",
   "execution_count": 42,
   "metadata": {},
   "outputs": [],
   "source": [
    "for meas in surf_measures:\n",
    "    for model_name, contrasts in simple_models.items():\n",
    "        for cont in contrasts:\n",
    "            fig_title = '{}: Effect of {} on {}'.format(model_name, cont, meas)\n",
    "            # Get mean data for meas in each group\n",
    "            stat_base = [op.join(sink_dir,\n",
    "                                'SBM_{}Sink'.format(g),\n",
    "                                '_model_name_{}'.format(model_name),\n",
    "                                '_measure_{}'.format(meas),\n",
    "                                '_fwhm_10.0') for g in simple_groups]\n",
    "    \n",
    "            for corr in g_corr:\n",
    "                # Names\n",
    "                out_basename = '{}_cont_{}_{}_{}G'.format(model_name, cont, meas, corr)\n",
    "                if corr == 'masked':\n",
    "                    lh_stat_maps = [op.join(d, \n",
    "                                            'lhSBMglmfit',\n",
    "                                            cont,\n",
    "                                            'gamma.mgh') for d in stat_base]\n",
    "                    rh_stat_maps = [op.join(d, \n",
    "                                            'rhSBMglmfit',\n",
    "                                            cont,\n",
    "                                            'gamma.mgh') for d in stat_base]\n",
    "                    \n",
    "                else:\n",
    "                    lh_stat_maps = [op.join(d, cont, 'lh.masked_gamma.mgh') for d in stat_base]\n",
    "                    rh_stat_maps = [op.join(d, cont, 'rh.masked_gamma.mgh') for d in stat_base]\n",
    "\n",
    "                # put in json\n",
    "                dat = {'fig_title': fig_title,\n",
    "                       'out_basename': out_basename,\n",
    "                       'plot_type': 'surf_stat',\n",
    "                       'group_names': simple_groups,\n",
    "                       'lh_stat_maps': lh_stat_maps,\n",
    "                       'rh_stat_maps': rh_stat_maps,\n",
    "                       'upper_lim': None,\n",
    "                       'thresholds': None,\n",
    "                       'cmap': 'jet'}\n",
    "                json_fname = op.join(g_out, '{}_arg_dict.json'.format(out_basename))\n",
    "                with open(json_fname, 'w') as f:\n",
    "                    json.dump(dat, f)"
   ]
  },
  {
   "cell_type": "code",
   "execution_count": null,
   "metadata": {},
   "outputs": [],
   "source": []
  }
 ],
 "metadata": {
  "kernelspec": {
   "display_name": "Python 3",
   "language": "python",
   "name": "python3"
  },
  "language_info": {
   "codemirror_mode": {
    "name": "ipython",
    "version": 3
   },
   "file_extension": ".py",
   "mimetype": "text/x-python",
   "name": "python",
   "nbconvert_exporter": "python",
   "pygments_lexer": "ipython3",
   "version": "3.6.3"
  }
 },
 "nbformat": 4,
 "nbformat_minor": 2
}
