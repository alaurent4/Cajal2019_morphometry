{
 "cells": [
  {
   "cell_type": "code",
   "execution_count": 2,
   "metadata": {},
   "outputs": [],
   "source": [
    "%matplotlib inline\n",
    "\n",
    "import os\n",
    "import os.path as op\n",
    "import numpy as np\n",
    "import pandas as pd\n",
    "import matplotlib.pyplot as plt"
   ]
  },
  {
   "cell_type": "markdown",
   "metadata": {},
   "source": [
    "## Day 3. Quality control of the sample MRiShare dataset\n",
    "\n",
    "One of the most important yet least-standardized procedure is the **quality control** of your data. Every lab/researchers have their own method to check the quality of the acquired data and/or processing to make sure they are measuring what they intend to measure. While there is often no clear guideline about what should be checked, since it depends on the modality and processing, it can be classified into the two broad categories.\n",
    "\n",
    "1. QC on raw acquired data\n",
    "    * Does the image have intended FOV?\n",
    "    * Is there significant artefact/noise?\n",
    "    * Are there any abnormalities in the brain (incidental findings)?\n",
    "    --> If any problem is found, either exclude subject/data or keep them and see.\n",
    "    \n",
    "    \n",
    "2. QC on processed data\n",
    "    * Did processing go as intended?\n",
    "    e.g. Skull-stripping, registration, tissue segmentation...\n",
    "    --> If any problem is found, either exclude subject/data or modify the processing steps to resolve the issue.\n",
    "    \n",
    "The most important thing is to **look at your data** systematically, and save the results of any QC check you do in a spreadsheet.\n",
    "\n",
    "In addition to checking your data visually one by one, there are various QC metrics you can collect to find any outliers. For morphometric studies, the morphometric values themselves should be checked for the presence of any outliers. When you find outliers, you can go back to the image with outlier values to decide whether something went wrong in the processing or not."
   ]
  },
  {
   "cell_type": "markdown",
   "metadata": {},
   "source": [
    "### Systematically checking the individual images\n",
    "\n",
    "You can use the viewer of your choice to check all the images you have (both the raw images and after some processing), and that's what many labs do. But to make it more efficient, you can include a node in your pipeline that will take an image as input and produce a picture (saved as png file, for example) for every subject and for each processing that should be checked.\n",
    "\n",
    "In ABACI pipeline for MRiShare, we have many such nodes, and we also have a custom script to generate a web html pages that gather generated png files for viewing.\n",
    "\n",
    "One useful tool, in particular for checking **Freesurfer** processed results, is called visualQC (https://raamana.github.io/visualqc/). We will try this out on the processed Freesurfer data for the selected MRiShare subjects. "
   ]
  },
  {
   "cell_type": "code",
   "execution_count": null,
   "metadata": {},
   "outputs": [],
   "source": [
    "!visualqc_freesurfer -i simple_sublist.txt -f /data/analyses/work_in_progress/freesurfer/fsmrishare-flair6.0 -o visQCtest -old"
   ]
  },
  {
   "cell_type": "markdown",
   "metadata": {},
   "source": [
    "### Checking the distribution and outliers for QC and other metrics\n",
    "\n",
    "Any metric you collect as part of the analysis should be checked for any outliers. In addition, there are many other QC metrics proposed for structural and functional image processing, as listed here (http://preprocessed-connectomes-project.org/quality-assessment-protocol/).\n",
    "\n",
    "Here we will use both the morphometric data and some of the selected QC metric we computed for MRiShare subjects to see if there is any problematic subjects.\n",
    "\n",
    "**QC metrics**\n",
    "\n",
    "1) Tissue SNR\n",
    "\n",
    "    * computed as mean/sd in each tissue in each compartments\n",
    "\n",
    "2) Tissue CNR\n",
    "\n",
    "    * for T1 stats, WMGM (WM mean/GM mean)and GMCSF (GM mean/CSF mean)\n",
    "    * for T2flair stats, GMWM (GM mean/ WM mean) and GMCSF (GM mean/CSF mean)\n",
    "    \n",
    "3) Coregistration cost function\n",
    "\n",
    "**Morphometrics**\n",
    "\n",
    "1) SPM GM, WM, CSF volume\n",
    "\n",
    "2) Freesurfer global metrics"
   ]
  },
  {
   "cell_type": "code",
   "execution_count": 12,
   "metadata": {},
   "outputs": [],
   "source": [
    "sample_dat_dir = '../data/'\n",
    "spm_df = pd.read_csv(op.join(sample_dat_dir, 'sample_mrishare_spm.csv'))"
   ]
  },
  {
   "cell_type": "code",
   "execution_count": 13,
   "metadata": {},
   "outputs": [
    {
     "data": {
      "text/html": [
       "<div>\n",
       "<style scoped>\n",
       "    .dataframe tbody tr th:only-of-type {\n",
       "        vertical-align: middle;\n",
       "    }\n",
       "\n",
       "    .dataframe tbody tr th {\n",
       "        vertical-align: top;\n",
       "    }\n",
       "\n",
       "    .dataframe thead th {\n",
       "        text-align: right;\n",
       "    }\n",
       "</style>\n",
       "<table border=\"1\" class=\"dataframe\">\n",
       "  <thead>\n",
       "    <tr style=\"text-align: right;\">\n",
       "      <th></th>\n",
       "      <th>mrishare_id</th>\n",
       "      <th>SPM_GM_Volume</th>\n",
       "      <th>SPM_WM_Volume</th>\n",
       "      <th>SPM_CSF_Volume</th>\n",
       "    </tr>\n",
       "  </thead>\n",
       "  <tbody>\n",
       "    <tr>\n",
       "      <td>0</td>\n",
       "      <td>SHARE0001</td>\n",
       "      <td>786483.80</td>\n",
       "      <td>550228.20</td>\n",
       "      <td>338364.16</td>\n",
       "    </tr>\n",
       "    <tr>\n",
       "      <td>1</td>\n",
       "      <td>SHARE0002</td>\n",
       "      <td>649395.20</td>\n",
       "      <td>423227.34</td>\n",
       "      <td>231685.73</td>\n",
       "    </tr>\n",
       "    <tr>\n",
       "      <td>2</td>\n",
       "      <td>SHARE0004</td>\n",
       "      <td>775275.20</td>\n",
       "      <td>555948.94</td>\n",
       "      <td>368326.03</td>\n",
       "    </tr>\n",
       "    <tr>\n",
       "      <td>3</td>\n",
       "      <td>SHARE0006</td>\n",
       "      <td>754803.44</td>\n",
       "      <td>512352.40</td>\n",
       "      <td>304802.40</td>\n",
       "    </tr>\n",
       "    <tr>\n",
       "      <td>4</td>\n",
       "      <td>SHARE0007</td>\n",
       "      <td>659472.75</td>\n",
       "      <td>420068.10</td>\n",
       "      <td>266583.30</td>\n",
       "    </tr>\n",
       "  </tbody>\n",
       "</table>\n",
       "</div>"
      ],
      "text/plain": [
       "  mrishare_id  SPM_GM_Volume  SPM_WM_Volume  SPM_CSF_Volume\n",
       "0   SHARE0001      786483.80      550228.20       338364.16\n",
       "1   SHARE0002      649395.20      423227.34       231685.73\n",
       "2   SHARE0004      775275.20      555948.94       368326.03\n",
       "3   SHARE0006      754803.44      512352.40       304802.40\n",
       "4   SHARE0007      659472.75      420068.10       266583.30"
      ]
     },
     "execution_count": 13,
     "metadata": {},
     "output_type": "execute_result"
    }
   ],
   "source": [
    "spm_df.head()"
   ]
  },
  {
   "cell_type": "code",
   "execution_count": 8,
   "metadata": {},
   "outputs": [],
   "source": [
    "import plotly.express as px"
   ]
  },
  {
   "cell_type": "code",
   "execution_count": 14,
   "metadata": {},
   "outputs": [
    {
     "data": {
      "application/vnd.plotly.v1+json": {
       "config": {
        "plotlyServerURL": "https://plot.ly"
       },
       "data": [
        {
         "hoverlabel": {
          "namelength": 0
         },
         "hovertemplate": "<b>%{hovertext}</b><br><br>SPM_GM_Volume=%{x}<br>SPM_WM_Volume=%{y}",
         "hovertext": [
          "SHARE0001",
          "SHARE0002",
          "SHARE0004",
          "SHARE0006",
          "SHARE0007",
          "SHARE0008",
          "SHARE0024",
          "SHARE0029",
          "SHARE0035",
          "SHARE0040",
          "SHARE0041",
          "SHARE0042",
          "SHARE0045",
          "SHARE0049",
          "SHARE0052",
          "SHARE0053",
          "SHARE0056",
          "SHARE0061",
          "SHARE0063",
          "SHARE0066",
          "SHARE0074",
          "SHARE0076",
          "SHARE0080",
          "SHARE0092",
          "SHARE0094",
          "SHARE0095",
          "SHARE0099",
          "SHARE0101",
          "SHARE0107",
          "SHARE0120",
          "SHARE0128",
          "SHARE0156",
          "SHARE0172",
          "SHARE0177",
          "SHARE0195",
          "SHARE0208",
          "SHARE0217",
          "SHARE0218",
          "SHARE0310",
          "SHARE0336",
          "SHARE0337",
          "SHARE0357",
          "SHARE0362",
          "SHARE0368",
          "SHARE0398",
          "SHARE0402",
          "SHARE0403",
          "SHARE0458",
          "SHARE0467",
          "SHARE0474",
          "SHARE0490",
          "SHARE0501",
          "SHARE0547",
          "SHARE0585",
          "SHARE0630",
          "SHARE0664",
          "SHARE0669",
          "SHARE0679",
          "SHARE0692",
          "SHARE0693",
          "SHARE0699",
          "SHARE0723",
          "SHARE0749",
          "SHARE0772",
          "SHARE0797",
          "SHARE0811",
          "SHARE0844",
          "SHARE0847",
          "SHARE0979",
          "SHARE0980",
          "SHARE1043",
          "SHARE1051",
          "SHARE1061",
          "SHARE1091",
          "SHARE1157",
          "SHARE1159",
          "SHARE1244",
          "SHARE1256",
          "SHARE1277",
          "SHARE1285",
          "SHARE1397",
          "SHARE1421",
          "SHARE1513",
          "SHARE1548",
          "SHARE1594",
          "SHARE1638",
          "SHARE1640",
          "SHARE1647",
          "SHARE1675",
          "SHARE1781",
          "SHARE1835",
          "SHARE1910",
          "SHARE1958",
          "SHARE1969",
          "SHARE1970",
          "SHARE1979",
          "SHARE1985",
          "SHARE1990",
          "SHARE1991",
          "SHARE1992"
         ],
         "legendgroup": "",
         "marker": {
          "color": "#636efa",
          "symbol": "circle"
         },
         "mode": "markers",
         "name": "",
         "showlegend": false,
         "type": "scatter",
         "x": [
          786483.8,
          649395.2,
          775275.2,
          754803.44,
          659472.75,
          694913.8,
          704248.2,
          743032,
          705549.6,
          684519.9,
          684785.9,
          720618.2,
          786041.3,
          834506.1,
          677923.9,
          737922.9,
          714613.3,
          792183.5,
          717672.56,
          747522.06,
          658717.1,
          646078.94,
          737993.56,
          733568.94,
          791820.7,
          762254.1,
          698467.4,
          761933.25,
          801119.94,
          745535.5,
          716406.4,
          813109.44,
          690889.06,
          759096.3,
          819392.8,
          631480.9,
          780731.1,
          691156.5,
          730845.94,
          618074.4,
          787397.75,
          746294.56,
          671974.3,
          642043.5,
          646482.3,
          656945.4,
          688501.56,
          745606.6,
          703131.06,
          533048.25,
          642209.9,
          637978.56,
          667688.94,
          663888,
          665257.1,
          655485.94,
          624238.3,
          463814.3,
          622592.3,
          628984,
          682430.06,
          654689.7,
          578054.2,
          664162.5,
          641003.7,
          705819.8,
          699093.44,
          705515.7,
          613660.44,
          690970.06,
          628776.9,
          692846.1,
          661188.94,
          664154.8,
          542959.4,
          660644.7,
          684612.8,
          603501.8,
          663301.25,
          667367.44,
          701596.25,
          584629,
          608630.56,
          723898.44,
          621294.1,
          668200.25,
          624663.94,
          598621.8,
          604567.56,
          611738.6,
          591589.8,
          693450.5,
          800869.6,
          797364.06,
          643921.75,
          677677.7,
          784027.7,
          633453.6,
          722935.75,
          796405.44
         ],
         "xaxis": "x",
         "y": [
          550228.2,
          423227.34,
          555948.94,
          512352.4,
          420068.1,
          456950.9,
          481930.84,
          475913.78,
          437728.44,
          475776.4,
          431496,
          494166.78,
          514402.72,
          566568.06,
          431220.62,
          496991.84,
          481661.25,
          577019.2,
          495021.62,
          492187.4,
          463107.84,
          417264.62,
          564797.25,
          478078.5,
          523142.44,
          520488.97,
          448324.94,
          528475.75,
          499732.56,
          512143.72,
          496398.72,
          569505.94,
          466359.84,
          479946.75,
          515134.75,
          415567.34,
          518605.1,
          492288.66,
          508884.94,
          377950.1,
          524222.28,
          483770.78,
          458724.2,
          464463.47,
          448972.3,
          430485.75,
          449226.5,
          529573.6,
          439047.5,
          345031.8,
          451359.9,
          417917.03,
          435620.9,
          439118.5,
          485160.1,
          496731.12,
          435356.72,
          154050.94,
          443171.3,
          420760.56,
          514359.88,
          434122.75,
          385801.8,
          454166.97,
          396518.9,
          487509.38,
          448191.84,
          456080.97,
          391895.28,
          446389.7,
          457711.56,
          447008.16,
          457315.5,
          442088.2,
          391343.06,
          425174.22,
          474682.84,
          385086.16,
          485223.5,
          437461.12,
          456035.5,
          402863.66,
          404182.94,
          438345.22,
          439567.53,
          473102.06,
          436796.84,
          419808.28,
          422325.03,
          420349.3,
          386520.12,
          499196.28,
          550701.06,
          531851.7,
          439038.78,
          441034.53,
          523914.03,
          460519.7,
          455540.97,
          551591.7
         ],
         "yaxis": "y"
        },
        {
         "alignmentgroup": "True",
         "hoverlabel": {
          "namelength": 0
         },
         "hovertemplate": "<b>%{hovertext}</b><br><br>SPM_GM_Volume=%{x}",
         "hovertext": [
          "SHARE0001",
          "SHARE0002",
          "SHARE0004",
          "SHARE0006",
          "SHARE0007",
          "SHARE0008",
          "SHARE0024",
          "SHARE0029",
          "SHARE0035",
          "SHARE0040",
          "SHARE0041",
          "SHARE0042",
          "SHARE0045",
          "SHARE0049",
          "SHARE0052",
          "SHARE0053",
          "SHARE0056",
          "SHARE0061",
          "SHARE0063",
          "SHARE0066",
          "SHARE0074",
          "SHARE0076",
          "SHARE0080",
          "SHARE0092",
          "SHARE0094",
          "SHARE0095",
          "SHARE0099",
          "SHARE0101",
          "SHARE0107",
          "SHARE0120",
          "SHARE0128",
          "SHARE0156",
          "SHARE0172",
          "SHARE0177",
          "SHARE0195",
          "SHARE0208",
          "SHARE0217",
          "SHARE0218",
          "SHARE0310",
          "SHARE0336",
          "SHARE0337",
          "SHARE0357",
          "SHARE0362",
          "SHARE0368",
          "SHARE0398",
          "SHARE0402",
          "SHARE0403",
          "SHARE0458",
          "SHARE0467",
          "SHARE0474",
          "SHARE0490",
          "SHARE0501",
          "SHARE0547",
          "SHARE0585",
          "SHARE0630",
          "SHARE0664",
          "SHARE0669",
          "SHARE0679",
          "SHARE0692",
          "SHARE0693",
          "SHARE0699",
          "SHARE0723",
          "SHARE0749",
          "SHARE0772",
          "SHARE0797",
          "SHARE0811",
          "SHARE0844",
          "SHARE0847",
          "SHARE0979",
          "SHARE0980",
          "SHARE1043",
          "SHARE1051",
          "SHARE1061",
          "SHARE1091",
          "SHARE1157",
          "SHARE1159",
          "SHARE1244",
          "SHARE1256",
          "SHARE1277",
          "SHARE1285",
          "SHARE1397",
          "SHARE1421",
          "SHARE1513",
          "SHARE1548",
          "SHARE1594",
          "SHARE1638",
          "SHARE1640",
          "SHARE1647",
          "SHARE1675",
          "SHARE1781",
          "SHARE1835",
          "SHARE1910",
          "SHARE1958",
          "SHARE1969",
          "SHARE1970",
          "SHARE1979",
          "SHARE1985",
          "SHARE1990",
          "SHARE1991",
          "SHARE1992"
         ],
         "legendgroup": "",
         "marker": {
          "color": "#636efa",
          "symbol": "circle"
         },
         "name": "",
         "notched": true,
         "offsetgroup": "",
         "showlegend": false,
         "type": "box",
         "x": [
          786483.8,
          649395.2,
          775275.2,
          754803.44,
          659472.75,
          694913.8,
          704248.2,
          743032,
          705549.6,
          684519.9,
          684785.9,
          720618.2,
          786041.3,
          834506.1,
          677923.9,
          737922.9,
          714613.3,
          792183.5,
          717672.56,
          747522.06,
          658717.1,
          646078.94,
          737993.56,
          733568.94,
          791820.7,
          762254.1,
          698467.4,
          761933.25,
          801119.94,
          745535.5,
          716406.4,
          813109.44,
          690889.06,
          759096.3,
          819392.8,
          631480.9,
          780731.1,
          691156.5,
          730845.94,
          618074.4,
          787397.75,
          746294.56,
          671974.3,
          642043.5,
          646482.3,
          656945.4,
          688501.56,
          745606.6,
          703131.06,
          533048.25,
          642209.9,
          637978.56,
          667688.94,
          663888,
          665257.1,
          655485.94,
          624238.3,
          463814.3,
          622592.3,
          628984,
          682430.06,
          654689.7,
          578054.2,
          664162.5,
          641003.7,
          705819.8,
          699093.44,
          705515.7,
          613660.44,
          690970.06,
          628776.9,
          692846.1,
          661188.94,
          664154.8,
          542959.4,
          660644.7,
          684612.8,
          603501.8,
          663301.25,
          667367.44,
          701596.25,
          584629,
          608630.56,
          723898.44,
          621294.1,
          668200.25,
          624663.94,
          598621.8,
          604567.56,
          611738.6,
          591589.8,
          693450.5,
          800869.6,
          797364.06,
          643921.75,
          677677.7,
          784027.7,
          633453.6,
          722935.75,
          796405.44
         ],
         "xaxis": "x3",
         "yaxis": "y3"
        },
        {
         "alignmentgroup": "True",
         "hoverlabel": {
          "namelength": 0
         },
         "hovertemplate": "<b>%{hovertext}</b><br><br>SPM_WM_Volume=%{y}",
         "hovertext": [
          "SHARE0001",
          "SHARE0002",
          "SHARE0004",
          "SHARE0006",
          "SHARE0007",
          "SHARE0008",
          "SHARE0024",
          "SHARE0029",
          "SHARE0035",
          "SHARE0040",
          "SHARE0041",
          "SHARE0042",
          "SHARE0045",
          "SHARE0049",
          "SHARE0052",
          "SHARE0053",
          "SHARE0056",
          "SHARE0061",
          "SHARE0063",
          "SHARE0066",
          "SHARE0074",
          "SHARE0076",
          "SHARE0080",
          "SHARE0092",
          "SHARE0094",
          "SHARE0095",
          "SHARE0099",
          "SHARE0101",
          "SHARE0107",
          "SHARE0120",
          "SHARE0128",
          "SHARE0156",
          "SHARE0172",
          "SHARE0177",
          "SHARE0195",
          "SHARE0208",
          "SHARE0217",
          "SHARE0218",
          "SHARE0310",
          "SHARE0336",
          "SHARE0337",
          "SHARE0357",
          "SHARE0362",
          "SHARE0368",
          "SHARE0398",
          "SHARE0402",
          "SHARE0403",
          "SHARE0458",
          "SHARE0467",
          "SHARE0474",
          "SHARE0490",
          "SHARE0501",
          "SHARE0547",
          "SHARE0585",
          "SHARE0630",
          "SHARE0664",
          "SHARE0669",
          "SHARE0679",
          "SHARE0692",
          "SHARE0693",
          "SHARE0699",
          "SHARE0723",
          "SHARE0749",
          "SHARE0772",
          "SHARE0797",
          "SHARE0811",
          "SHARE0844",
          "SHARE0847",
          "SHARE0979",
          "SHARE0980",
          "SHARE1043",
          "SHARE1051",
          "SHARE1061",
          "SHARE1091",
          "SHARE1157",
          "SHARE1159",
          "SHARE1244",
          "SHARE1256",
          "SHARE1277",
          "SHARE1285",
          "SHARE1397",
          "SHARE1421",
          "SHARE1513",
          "SHARE1548",
          "SHARE1594",
          "SHARE1638",
          "SHARE1640",
          "SHARE1647",
          "SHARE1675",
          "SHARE1781",
          "SHARE1835",
          "SHARE1910",
          "SHARE1958",
          "SHARE1969",
          "SHARE1970",
          "SHARE1979",
          "SHARE1985",
          "SHARE1990",
          "SHARE1991",
          "SHARE1992"
         ],
         "legendgroup": "",
         "marker": {
          "color": "#636efa",
          "symbol": "circle"
         },
         "name": "",
         "offsetgroup": "",
         "scalegroup": "y",
         "showlegend": false,
         "type": "violin",
         "xaxis": "x2",
         "y": [
          550228.2,
          423227.34,
          555948.94,
          512352.4,
          420068.1,
          456950.9,
          481930.84,
          475913.78,
          437728.44,
          475776.4,
          431496,
          494166.78,
          514402.72,
          566568.06,
          431220.62,
          496991.84,
          481661.25,
          577019.2,
          495021.62,
          492187.4,
          463107.84,
          417264.62,
          564797.25,
          478078.5,
          523142.44,
          520488.97,
          448324.94,
          528475.75,
          499732.56,
          512143.72,
          496398.72,
          569505.94,
          466359.84,
          479946.75,
          515134.75,
          415567.34,
          518605.1,
          492288.66,
          508884.94,
          377950.1,
          524222.28,
          483770.78,
          458724.2,
          464463.47,
          448972.3,
          430485.75,
          449226.5,
          529573.6,
          439047.5,
          345031.8,
          451359.9,
          417917.03,
          435620.9,
          439118.5,
          485160.1,
          496731.12,
          435356.72,
          154050.94,
          443171.3,
          420760.56,
          514359.88,
          434122.75,
          385801.8,
          454166.97,
          396518.9,
          487509.38,
          448191.84,
          456080.97,
          391895.28,
          446389.7,
          457711.56,
          447008.16,
          457315.5,
          442088.2,
          391343.06,
          425174.22,
          474682.84,
          385086.16,
          485223.5,
          437461.12,
          456035.5,
          402863.66,
          404182.94,
          438345.22,
          439567.53,
          473102.06,
          436796.84,
          419808.28,
          422325.03,
          420349.3,
          386520.12,
          499196.28,
          550701.06,
          531851.7,
          439038.78,
          441034.53,
          523914.03,
          460519.7,
          455540.97,
          551591.7
         ],
         "yaxis": "y2"
        },
        {
         "hoverlabel": {
          "namelength": 0
         },
         "hovertemplate": "<b>OLS trendline</b><br>SPM_WM_Volume = 0.733560 * SPM_GM_Volume + -42128.934756<br>R<sup>2</sup>=0.766598<br><br>SPM_GM_Volume=%{x}<br>SPM_WM_Volume=%{y} <b>(trend)</b>",
         "legendgroup": "",
         "marker": {
          "color": "#636efa",
          "symbol": "circle"
         },
         "mode": "lines",
         "name": "",
         "showlegend": false,
         "type": "scatter",
         "x": [
          463814.3,
          533048.25,
          542959.4,
          578054.2,
          584629,
          591589.8,
          598621.8,
          603501.8,
          604567.56,
          608630.56,
          611738.6,
          613660.44,
          618074.4,
          621294.1,
          622592.3,
          624238.3,
          624663.94,
          628776.9,
          628984,
          631480.9,
          633453.6,
          637978.56,
          641003.7,
          642043.5,
          642209.9,
          643921.75,
          646078.94,
          646482.3,
          649395.2,
          654689.7,
          655485.94,
          656945.4,
          658717.1,
          659472.75,
          660644.7,
          661188.94,
          663301.25,
          663888,
          664154.8,
          664162.5,
          665257.1,
          667367.44,
          667688.94,
          668200.25,
          671974.3,
          677677.7,
          677923.9,
          682430.06,
          684519.9,
          684612.8,
          684785.9,
          688501.56,
          690889.06,
          690970.06,
          691156.5,
          692846.1,
          693450.5,
          694913.8,
          698467.4,
          699093.44,
          701596.25,
          703131.06,
          704248.2,
          705515.7,
          705549.6,
          705819.8,
          714613.3,
          716406.4,
          717672.56,
          720618.2,
          722935.75,
          723898.44,
          730845.94,
          733568.94,
          737922.9,
          737993.56,
          743032,
          745535.5,
          745606.6,
          746294.56,
          747522.06,
          754803.44,
          759096.3,
          761933.25,
          762254.1,
          775275.2,
          780731.1,
          784027.7,
          786041.3,
          786483.8,
          787397.75,
          791820.7,
          792183.5,
          796405.44,
          797364.06,
          800869.6,
          801119.94,
          813109.44,
          819392.8,
          834506.1
         ],
         "xaxis": "x",
         "y": [
          298106.61642399407,
          348893.86282544263,
          356164.28459354513,
          381908.42103252566,
          386731.43037462217,
          391837.5938211857,
          396995.98672950576,
          400575.75882742985,
          401357.55757970107,
          404338.0112751653,
          406617.94465041766,
          408027.7293243263,
          411265.63318689866,
          413627.47585568676,
          414579.78326091735,
          415787.2227841106,
          416099.45520127454,
          419116.55754715117,
          419268.4777933561,
          421100.103398132,
          422547.1969263236,
          425866.52593292657,
          428085.6471961056,
          428848.40273451165,
          428970.467094572,
          430226.21153429156,
          431808.63952034083,
          432104.5282239103,
          434241.3147288371,
          438125.14738712786,
          438709.2370869744,
          439779.8383546048,
          441079.4863517138,
          441633.80085699994,
          442493.49633039377,
          442892.72894649504,
          444442.23476620123,
          444872.65101178666,
          445068.3647814027,
          445074.01319229486,
          445876.96781081695,
          447425.0285176065,
          447660.8680113529,
          448035.9445013918,
          450804.4360764267,
          454988.2213598898,
          455168.8237964695,
          458474.3618777772,
          460007.38460751605,
          460075.53231815074,
          460202.51152924716,
          462928.17054428253,
          464679.5447007976,
          464738.9630491443,
          464875.7279487215,
          466115.15068164206,
          466558.51425868826,
          467631.9323961662,
          470238.7107009168,
          470697.94851324963,
          472533.90945677535,
          473659.7844595653,
          474479.2735172445,
          475409.0606348918,
          475433.9283140147,
          475632.1361871416,
          482082.69478203816,
          483398.04096006835,
          484326.8451075085,
          486487.648362125,
          488187.7100067037,
          488893.9007446033,
          493990.3078450803,
          495987.79133332765,
          499181.68160453206,
          499233.5149439664,
          502929.51226549596,
          504765.97936532233,
          504818.13547109335,
          505322.79530971794,
          506223.2400331199,
          511564.5680983621,
          514713.6378623569,
          516794.7104962105,
          517030.07317605044,
          526581.8294187306,
          530584.058637801,
          533002.3120595256,
          534479.4081858331,
          534804.0084221715,
          535474.4454526833,
          538718.9440183622,
          538985.0795341668,
          542082.1252331646,
          542785.33038245,
          545356.8538005148,
          545540.4931748989,
          554335.5090699933,
          558944.7297276187,
          570031.2399012981
         ],
         "yaxis": "y"
        }
       ],
       "layout": {
        "height": 600,
        "legend": {
         "tracegroupgap": 0
        },
        "margin": {
         "t": 60
        },
        "template": {
         "data": {
          "bar": [
           {
            "error_x": {
             "color": "#2a3f5f"
            },
            "error_y": {
             "color": "#2a3f5f"
            },
            "marker": {
             "line": {
              "color": "#E5ECF6",
              "width": 0.5
             }
            },
            "type": "bar"
           }
          ],
          "barpolar": [
           {
            "marker": {
             "line": {
              "color": "#E5ECF6",
              "width": 0.5
             }
            },
            "type": "barpolar"
           }
          ],
          "carpet": [
           {
            "aaxis": {
             "endlinecolor": "#2a3f5f",
             "gridcolor": "white",
             "linecolor": "white",
             "minorgridcolor": "white",
             "startlinecolor": "#2a3f5f"
            },
            "baxis": {
             "endlinecolor": "#2a3f5f",
             "gridcolor": "white",
             "linecolor": "white",
             "minorgridcolor": "white",
             "startlinecolor": "#2a3f5f"
            },
            "type": "carpet"
           }
          ],
          "choropleth": [
           {
            "colorbar": {
             "outlinewidth": 0,
             "ticks": ""
            },
            "type": "choropleth"
           }
          ],
          "contour": [
           {
            "colorbar": {
             "outlinewidth": 0,
             "ticks": ""
            },
            "colorscale": [
             [
              0,
              "#0d0887"
             ],
             [
              0.1111111111111111,
              "#46039f"
             ],
             [
              0.2222222222222222,
              "#7201a8"
             ],
             [
              0.3333333333333333,
              "#9c179e"
             ],
             [
              0.4444444444444444,
              "#bd3786"
             ],
             [
              0.5555555555555556,
              "#d8576b"
             ],
             [
              0.6666666666666666,
              "#ed7953"
             ],
             [
              0.7777777777777778,
              "#fb9f3a"
             ],
             [
              0.8888888888888888,
              "#fdca26"
             ],
             [
              1,
              "#f0f921"
             ]
            ],
            "type": "contour"
           }
          ],
          "contourcarpet": [
           {
            "colorbar": {
             "outlinewidth": 0,
             "ticks": ""
            },
            "type": "contourcarpet"
           }
          ],
          "heatmap": [
           {
            "colorbar": {
             "outlinewidth": 0,
             "ticks": ""
            },
            "colorscale": [
             [
              0,
              "#0d0887"
             ],
             [
              0.1111111111111111,
              "#46039f"
             ],
             [
              0.2222222222222222,
              "#7201a8"
             ],
             [
              0.3333333333333333,
              "#9c179e"
             ],
             [
              0.4444444444444444,
              "#bd3786"
             ],
             [
              0.5555555555555556,
              "#d8576b"
             ],
             [
              0.6666666666666666,
              "#ed7953"
             ],
             [
              0.7777777777777778,
              "#fb9f3a"
             ],
             [
              0.8888888888888888,
              "#fdca26"
             ],
             [
              1,
              "#f0f921"
             ]
            ],
            "type": "heatmap"
           }
          ],
          "heatmapgl": [
           {
            "colorbar": {
             "outlinewidth": 0,
             "ticks": ""
            },
            "colorscale": [
             [
              0,
              "#0d0887"
             ],
             [
              0.1111111111111111,
              "#46039f"
             ],
             [
              0.2222222222222222,
              "#7201a8"
             ],
             [
              0.3333333333333333,
              "#9c179e"
             ],
             [
              0.4444444444444444,
              "#bd3786"
             ],
             [
              0.5555555555555556,
              "#d8576b"
             ],
             [
              0.6666666666666666,
              "#ed7953"
             ],
             [
              0.7777777777777778,
              "#fb9f3a"
             ],
             [
              0.8888888888888888,
              "#fdca26"
             ],
             [
              1,
              "#f0f921"
             ]
            ],
            "type": "heatmapgl"
           }
          ],
          "histogram": [
           {
            "marker": {
             "colorbar": {
              "outlinewidth": 0,
              "ticks": ""
             }
            },
            "type": "histogram"
           }
          ],
          "histogram2d": [
           {
            "colorbar": {
             "outlinewidth": 0,
             "ticks": ""
            },
            "colorscale": [
             [
              0,
              "#0d0887"
             ],
             [
              0.1111111111111111,
              "#46039f"
             ],
             [
              0.2222222222222222,
              "#7201a8"
             ],
             [
              0.3333333333333333,
              "#9c179e"
             ],
             [
              0.4444444444444444,
              "#bd3786"
             ],
             [
              0.5555555555555556,
              "#d8576b"
             ],
             [
              0.6666666666666666,
              "#ed7953"
             ],
             [
              0.7777777777777778,
              "#fb9f3a"
             ],
             [
              0.8888888888888888,
              "#fdca26"
             ],
             [
              1,
              "#f0f921"
             ]
            ],
            "type": "histogram2d"
           }
          ],
          "histogram2dcontour": [
           {
            "colorbar": {
             "outlinewidth": 0,
             "ticks": ""
            },
            "colorscale": [
             [
              0,
              "#0d0887"
             ],
             [
              0.1111111111111111,
              "#46039f"
             ],
             [
              0.2222222222222222,
              "#7201a8"
             ],
             [
              0.3333333333333333,
              "#9c179e"
             ],
             [
              0.4444444444444444,
              "#bd3786"
             ],
             [
              0.5555555555555556,
              "#d8576b"
             ],
             [
              0.6666666666666666,
              "#ed7953"
             ],
             [
              0.7777777777777778,
              "#fb9f3a"
             ],
             [
              0.8888888888888888,
              "#fdca26"
             ],
             [
              1,
              "#f0f921"
             ]
            ],
            "type": "histogram2dcontour"
           }
          ],
          "mesh3d": [
           {
            "colorbar": {
             "outlinewidth": 0,
             "ticks": ""
            },
            "type": "mesh3d"
           }
          ],
          "parcoords": [
           {
            "line": {
             "colorbar": {
              "outlinewidth": 0,
              "ticks": ""
             }
            },
            "type": "parcoords"
           }
          ],
          "scatter": [
           {
            "marker": {
             "colorbar": {
              "outlinewidth": 0,
              "ticks": ""
             }
            },
            "type": "scatter"
           }
          ],
          "scatter3d": [
           {
            "line": {
             "colorbar": {
              "outlinewidth": 0,
              "ticks": ""
             }
            },
            "marker": {
             "colorbar": {
              "outlinewidth": 0,
              "ticks": ""
             }
            },
            "type": "scatter3d"
           }
          ],
          "scattercarpet": [
           {
            "marker": {
             "colorbar": {
              "outlinewidth": 0,
              "ticks": ""
             }
            },
            "type": "scattercarpet"
           }
          ],
          "scattergeo": [
           {
            "marker": {
             "colorbar": {
              "outlinewidth": 0,
              "ticks": ""
             }
            },
            "type": "scattergeo"
           }
          ],
          "scattergl": [
           {
            "marker": {
             "colorbar": {
              "outlinewidth": 0,
              "ticks": ""
             }
            },
            "type": "scattergl"
           }
          ],
          "scattermapbox": [
           {
            "marker": {
             "colorbar": {
              "outlinewidth": 0,
              "ticks": ""
             }
            },
            "type": "scattermapbox"
           }
          ],
          "scatterpolar": [
           {
            "marker": {
             "colorbar": {
              "outlinewidth": 0,
              "ticks": ""
             }
            },
            "type": "scatterpolar"
           }
          ],
          "scatterpolargl": [
           {
            "marker": {
             "colorbar": {
              "outlinewidth": 0,
              "ticks": ""
             }
            },
            "type": "scatterpolargl"
           }
          ],
          "scatterternary": [
           {
            "marker": {
             "colorbar": {
              "outlinewidth": 0,
              "ticks": ""
             }
            },
            "type": "scatterternary"
           }
          ],
          "surface": [
           {
            "colorbar": {
             "outlinewidth": 0,
             "ticks": ""
            },
            "colorscale": [
             [
              0,
              "#0d0887"
             ],
             [
              0.1111111111111111,
              "#46039f"
             ],
             [
              0.2222222222222222,
              "#7201a8"
             ],
             [
              0.3333333333333333,
              "#9c179e"
             ],
             [
              0.4444444444444444,
              "#bd3786"
             ],
             [
              0.5555555555555556,
              "#d8576b"
             ],
             [
              0.6666666666666666,
              "#ed7953"
             ],
             [
              0.7777777777777778,
              "#fb9f3a"
             ],
             [
              0.8888888888888888,
              "#fdca26"
             ],
             [
              1,
              "#f0f921"
             ]
            ],
            "type": "surface"
           }
          ],
          "table": [
           {
            "cells": {
             "fill": {
              "color": "#EBF0F8"
             },
             "line": {
              "color": "white"
             }
            },
            "header": {
             "fill": {
              "color": "#C8D4E3"
             },
             "line": {
              "color": "white"
             }
            },
            "type": "table"
           }
          ]
         },
         "layout": {
          "annotationdefaults": {
           "arrowcolor": "#2a3f5f",
           "arrowhead": 0,
           "arrowwidth": 1
          },
          "colorscale": {
           "diverging": [
            [
             0,
             "#8e0152"
            ],
            [
             0.1,
             "#c51b7d"
            ],
            [
             0.2,
             "#de77ae"
            ],
            [
             0.3,
             "#f1b6da"
            ],
            [
             0.4,
             "#fde0ef"
            ],
            [
             0.5,
             "#f7f7f7"
            ],
            [
             0.6,
             "#e6f5d0"
            ],
            [
             0.7,
             "#b8e186"
            ],
            [
             0.8,
             "#7fbc41"
            ],
            [
             0.9,
             "#4d9221"
            ],
            [
             1,
             "#276419"
            ]
           ],
           "sequential": [
            [
             0,
             "#0d0887"
            ],
            [
             0.1111111111111111,
             "#46039f"
            ],
            [
             0.2222222222222222,
             "#7201a8"
            ],
            [
             0.3333333333333333,
             "#9c179e"
            ],
            [
             0.4444444444444444,
             "#bd3786"
            ],
            [
             0.5555555555555556,
             "#d8576b"
            ],
            [
             0.6666666666666666,
             "#ed7953"
            ],
            [
             0.7777777777777778,
             "#fb9f3a"
            ],
            [
             0.8888888888888888,
             "#fdca26"
            ],
            [
             1,
             "#f0f921"
            ]
           ],
           "sequentialminus": [
            [
             0,
             "#0d0887"
            ],
            [
             0.1111111111111111,
             "#46039f"
            ],
            [
             0.2222222222222222,
             "#7201a8"
            ],
            [
             0.3333333333333333,
             "#9c179e"
            ],
            [
             0.4444444444444444,
             "#bd3786"
            ],
            [
             0.5555555555555556,
             "#d8576b"
            ],
            [
             0.6666666666666666,
             "#ed7953"
            ],
            [
             0.7777777777777778,
             "#fb9f3a"
            ],
            [
             0.8888888888888888,
             "#fdca26"
            ],
            [
             1,
             "#f0f921"
            ]
           ]
          },
          "colorway": [
           "#636efa",
           "#EF553B",
           "#00cc96",
           "#ab63fa",
           "#FFA15A",
           "#19d3f3",
           "#FF6692",
           "#B6E880",
           "#FF97FF",
           "#FECB52"
          ],
          "font": {
           "color": "#2a3f5f"
          },
          "geo": {
           "bgcolor": "white",
           "lakecolor": "white",
           "landcolor": "#E5ECF6",
           "showlakes": true,
           "showland": true,
           "subunitcolor": "white"
          },
          "hoverlabel": {
           "align": "left"
          },
          "hovermode": "closest",
          "mapbox": {
           "style": "light"
          },
          "paper_bgcolor": "white",
          "plot_bgcolor": "#E5ECF6",
          "polar": {
           "angularaxis": {
            "gridcolor": "white",
            "linecolor": "white",
            "ticks": ""
           },
           "bgcolor": "#E5ECF6",
           "radialaxis": {
            "gridcolor": "white",
            "linecolor": "white",
            "ticks": ""
           }
          },
          "scene": {
           "xaxis": {
            "backgroundcolor": "#E5ECF6",
            "gridcolor": "white",
            "gridwidth": 2,
            "linecolor": "white",
            "showbackground": true,
            "ticks": "",
            "zerolinecolor": "white"
           },
           "yaxis": {
            "backgroundcolor": "#E5ECF6",
            "gridcolor": "white",
            "gridwidth": 2,
            "linecolor": "white",
            "showbackground": true,
            "ticks": "",
            "zerolinecolor": "white"
           },
           "zaxis": {
            "backgroundcolor": "#E5ECF6",
            "gridcolor": "white",
            "gridwidth": 2,
            "linecolor": "white",
            "showbackground": true,
            "ticks": "",
            "zerolinecolor": "white"
           }
          },
          "shapedefaults": {
           "line": {
            "color": "#2a3f5f"
           }
          },
          "ternary": {
           "aaxis": {
            "gridcolor": "white",
            "linecolor": "white",
            "ticks": ""
           },
           "baxis": {
            "gridcolor": "white",
            "linecolor": "white",
            "ticks": ""
           },
           "bgcolor": "#E5ECF6",
           "caxis": {
            "gridcolor": "white",
            "linecolor": "white",
            "ticks": ""
           }
          },
          "title": {
           "x": 0.05
          },
          "xaxis": {
           "automargin": true,
           "gridcolor": "white",
           "linecolor": "white",
           "ticks": "",
           "zerolinecolor": "white",
           "zerolinewidth": 2
          },
          "yaxis": {
           "automargin": true,
           "gridcolor": "white",
           "linecolor": "white",
           "ticks": "",
           "zerolinecolor": "white",
           "zerolinewidth": 2
          }
         }
        },
        "xaxis": {
         "anchor": "y",
         "domain": [
          0,
          0.819
         ],
         "title": {
          "text": "SPM_GM_Volume"
         }
        },
        "xaxis2": {
         "anchor": "y2",
         "domain": [
          0.824,
          0.98
         ],
         "matches": "x2",
         "showgrid": false,
         "showticklabels": false
        },
        "xaxis3": {
         "anchor": "y3",
         "domain": [
          0,
          0.819
         ],
         "matches": "x",
         "showgrid": true,
         "showticklabels": false
        },
        "xaxis4": {
         "anchor": "y4",
         "domain": [
          0.824,
          0.98
         ],
         "matches": "x2",
         "showgrid": false,
         "showticklabels": false
        },
        "yaxis": {
         "anchor": "x",
         "domain": [
          0,
          0.8316
         ],
         "title": {
          "text": "SPM_WM_Volume"
         }
        },
        "yaxis2": {
         "anchor": "x2",
         "domain": [
          0,
          0.8316
         ],
         "matches": "y",
         "showgrid": true,
         "showticklabels": false
        },
        "yaxis3": {
         "anchor": "x3",
         "domain": [
          0.8416,
          1
         ],
         "matches": "y3",
         "showgrid": false,
         "showticklabels": false
        },
        "yaxis4": {
         "anchor": "x4",
         "domain": [
          0.8416,
          1
         ],
         "matches": "y3",
         "showgrid": true,
         "showticklabels": false
        }
       }
      },
      "text/html": [
       "<div>\n",
       "        \n",
       "        \n",
       "            <div id=\"58b2809f-36a1-4031-bd9b-2b729a89a222\" class=\"plotly-graph-div\" style=\"height:600px; width:100%;\"></div>\n",
       "            <script type=\"text/javascript\">\n",
       "                require([\"plotly\"], function(Plotly) {\n",
       "                    window.PLOTLYENV=window.PLOTLYENV || {};\n",
       "                    \n",
       "                if (document.getElementById(\"58b2809f-36a1-4031-bd9b-2b729a89a222\")) {\n",
       "                    Plotly.newPlot(\n",
       "                        '58b2809f-36a1-4031-bd9b-2b729a89a222',\n",
       "                        [{\"hoverlabel\": {\"namelength\": 0}, \"hovertemplate\": \"<b>%{hovertext}</b><br><br>SPM_GM_Volume=%{x}<br>SPM_WM_Volume=%{y}\", \"hovertext\": [\"SHARE0001\", \"SHARE0002\", \"SHARE0004\", \"SHARE0006\", \"SHARE0007\", \"SHARE0008\", \"SHARE0024\", \"SHARE0029\", \"SHARE0035\", \"SHARE0040\", \"SHARE0041\", \"SHARE0042\", \"SHARE0045\", \"SHARE0049\", \"SHARE0052\", \"SHARE0053\", \"SHARE0056\", \"SHARE0061\", \"SHARE0063\", \"SHARE0066\", \"SHARE0074\", \"SHARE0076\", \"SHARE0080\", \"SHARE0092\", \"SHARE0094\", \"SHARE0095\", \"SHARE0099\", \"SHARE0101\", \"SHARE0107\", \"SHARE0120\", \"SHARE0128\", \"SHARE0156\", \"SHARE0172\", \"SHARE0177\", \"SHARE0195\", \"SHARE0208\", \"SHARE0217\", \"SHARE0218\", \"SHARE0310\", \"SHARE0336\", \"SHARE0337\", \"SHARE0357\", \"SHARE0362\", \"SHARE0368\", \"SHARE0398\", \"SHARE0402\", \"SHARE0403\", \"SHARE0458\", \"SHARE0467\", \"SHARE0474\", \"SHARE0490\", \"SHARE0501\", \"SHARE0547\", \"SHARE0585\", \"SHARE0630\", \"SHARE0664\", \"SHARE0669\", \"SHARE0679\", \"SHARE0692\", \"SHARE0693\", \"SHARE0699\", \"SHARE0723\", \"SHARE0749\", \"SHARE0772\", \"SHARE0797\", \"SHARE0811\", \"SHARE0844\", \"SHARE0847\", \"SHARE0979\", \"SHARE0980\", \"SHARE1043\", \"SHARE1051\", \"SHARE1061\", \"SHARE1091\", \"SHARE1157\", \"SHARE1159\", \"SHARE1244\", \"SHARE1256\", \"SHARE1277\", \"SHARE1285\", \"SHARE1397\", \"SHARE1421\", \"SHARE1513\", \"SHARE1548\", \"SHARE1594\", \"SHARE1638\", \"SHARE1640\", \"SHARE1647\", \"SHARE1675\", \"SHARE1781\", \"SHARE1835\", \"SHARE1910\", \"SHARE1958\", \"SHARE1969\", \"SHARE1970\", \"SHARE1979\", \"SHARE1985\", \"SHARE1990\", \"SHARE1991\", \"SHARE1992\"], \"legendgroup\": \"\", \"marker\": {\"color\": \"#636efa\", \"symbol\": \"circle\"}, \"mode\": \"markers\", \"name\": \"\", \"showlegend\": false, \"type\": \"scatter\", \"x\": [786483.8, 649395.2, 775275.2, 754803.44, 659472.75, 694913.8, 704248.2, 743032.0, 705549.6, 684519.9, 684785.9, 720618.2, 786041.3, 834506.1, 677923.9, 737922.9, 714613.3, 792183.5, 717672.56, 747522.06, 658717.1, 646078.94, 737993.56, 733568.94, 791820.7, 762254.1, 698467.4, 761933.25, 801119.94, 745535.5, 716406.4, 813109.44, 690889.06, 759096.3, 819392.8, 631480.9, 780731.1, 691156.5, 730845.94, 618074.4, 787397.75, 746294.56, 671974.3, 642043.5, 646482.3, 656945.4, 688501.56, 745606.6, 703131.06, 533048.25, 642209.9, 637978.56, 667688.94, 663888.0, 665257.1, 655485.94, 624238.3, 463814.3, 622592.3, 628984.0, 682430.06, 654689.7, 578054.2, 664162.5, 641003.7, 705819.8, 699093.44, 705515.7, 613660.44, 690970.06, 628776.9, 692846.1, 661188.94, 664154.8, 542959.4, 660644.7, 684612.8, 603501.8, 663301.25, 667367.44, 701596.25, 584629.0, 608630.56, 723898.44, 621294.1, 668200.25, 624663.94, 598621.8, 604567.56, 611738.6, 591589.8, 693450.5, 800869.6, 797364.06, 643921.75, 677677.7, 784027.7, 633453.6, 722935.75, 796405.44], \"xaxis\": \"x\", \"y\": [550228.2, 423227.34, 555948.94, 512352.4, 420068.1, 456950.9, 481930.84, 475913.78, 437728.44, 475776.4, 431496.0, 494166.78, 514402.72, 566568.06, 431220.62, 496991.84, 481661.25, 577019.2, 495021.62, 492187.4, 463107.84, 417264.62, 564797.25, 478078.5, 523142.44, 520488.97, 448324.94, 528475.75, 499732.56, 512143.72, 496398.72, 569505.94, 466359.84, 479946.75, 515134.75, 415567.34, 518605.1, 492288.66, 508884.94, 377950.1, 524222.28, 483770.78, 458724.2, 464463.47, 448972.3, 430485.75, 449226.5, 529573.6, 439047.5, 345031.8, 451359.9, 417917.03, 435620.9, 439118.5, 485160.1, 496731.12, 435356.72, 154050.94, 443171.3, 420760.56, 514359.88, 434122.75, 385801.8, 454166.97, 396518.9, 487509.38, 448191.84, 456080.97, 391895.28, 446389.7, 457711.56, 447008.16, 457315.5, 442088.2, 391343.06, 425174.22, 474682.84, 385086.16, 485223.5, 437461.12, 456035.5, 402863.66, 404182.94, 438345.22, 439567.53, 473102.06, 436796.84, 419808.28, 422325.03, 420349.3, 386520.12, 499196.28, 550701.06, 531851.7, 439038.78, 441034.53, 523914.03, 460519.7, 455540.97, 551591.7], \"yaxis\": \"y\"}, {\"alignmentgroup\": \"True\", \"hoverlabel\": {\"namelength\": 0}, \"hovertemplate\": \"<b>%{hovertext}</b><br><br>SPM_GM_Volume=%{x}\", \"hovertext\": [\"SHARE0001\", \"SHARE0002\", \"SHARE0004\", \"SHARE0006\", \"SHARE0007\", \"SHARE0008\", \"SHARE0024\", \"SHARE0029\", \"SHARE0035\", \"SHARE0040\", \"SHARE0041\", \"SHARE0042\", \"SHARE0045\", \"SHARE0049\", \"SHARE0052\", \"SHARE0053\", \"SHARE0056\", \"SHARE0061\", \"SHARE0063\", \"SHARE0066\", \"SHARE0074\", \"SHARE0076\", \"SHARE0080\", \"SHARE0092\", \"SHARE0094\", \"SHARE0095\", \"SHARE0099\", \"SHARE0101\", \"SHARE0107\", \"SHARE0120\", \"SHARE0128\", \"SHARE0156\", \"SHARE0172\", \"SHARE0177\", \"SHARE0195\", \"SHARE0208\", \"SHARE0217\", \"SHARE0218\", \"SHARE0310\", \"SHARE0336\", \"SHARE0337\", \"SHARE0357\", \"SHARE0362\", \"SHARE0368\", \"SHARE0398\", \"SHARE0402\", \"SHARE0403\", \"SHARE0458\", \"SHARE0467\", \"SHARE0474\", \"SHARE0490\", \"SHARE0501\", \"SHARE0547\", \"SHARE0585\", \"SHARE0630\", \"SHARE0664\", \"SHARE0669\", \"SHARE0679\", \"SHARE0692\", \"SHARE0693\", \"SHARE0699\", \"SHARE0723\", \"SHARE0749\", \"SHARE0772\", \"SHARE0797\", \"SHARE0811\", \"SHARE0844\", \"SHARE0847\", \"SHARE0979\", \"SHARE0980\", \"SHARE1043\", \"SHARE1051\", \"SHARE1061\", \"SHARE1091\", \"SHARE1157\", \"SHARE1159\", \"SHARE1244\", \"SHARE1256\", \"SHARE1277\", \"SHARE1285\", \"SHARE1397\", \"SHARE1421\", \"SHARE1513\", \"SHARE1548\", \"SHARE1594\", \"SHARE1638\", \"SHARE1640\", \"SHARE1647\", \"SHARE1675\", \"SHARE1781\", \"SHARE1835\", \"SHARE1910\", \"SHARE1958\", \"SHARE1969\", \"SHARE1970\", \"SHARE1979\", \"SHARE1985\", \"SHARE1990\", \"SHARE1991\", \"SHARE1992\"], \"legendgroup\": \"\", \"marker\": {\"color\": \"#636efa\", \"symbol\": \"circle\"}, \"name\": \"\", \"notched\": true, \"offsetgroup\": \"\", \"showlegend\": false, \"type\": \"box\", \"x\": [786483.8, 649395.2, 775275.2, 754803.44, 659472.75, 694913.8, 704248.2, 743032.0, 705549.6, 684519.9, 684785.9, 720618.2, 786041.3, 834506.1, 677923.9, 737922.9, 714613.3, 792183.5, 717672.56, 747522.06, 658717.1, 646078.94, 737993.56, 733568.94, 791820.7, 762254.1, 698467.4, 761933.25, 801119.94, 745535.5, 716406.4, 813109.44, 690889.06, 759096.3, 819392.8, 631480.9, 780731.1, 691156.5, 730845.94, 618074.4, 787397.75, 746294.56, 671974.3, 642043.5, 646482.3, 656945.4, 688501.56, 745606.6, 703131.06, 533048.25, 642209.9, 637978.56, 667688.94, 663888.0, 665257.1, 655485.94, 624238.3, 463814.3, 622592.3, 628984.0, 682430.06, 654689.7, 578054.2, 664162.5, 641003.7, 705819.8, 699093.44, 705515.7, 613660.44, 690970.06, 628776.9, 692846.1, 661188.94, 664154.8, 542959.4, 660644.7, 684612.8, 603501.8, 663301.25, 667367.44, 701596.25, 584629.0, 608630.56, 723898.44, 621294.1, 668200.25, 624663.94, 598621.8, 604567.56, 611738.6, 591589.8, 693450.5, 800869.6, 797364.06, 643921.75, 677677.7, 784027.7, 633453.6, 722935.75, 796405.44], \"xaxis\": \"x3\", \"yaxis\": \"y3\"}, {\"alignmentgroup\": \"True\", \"hoverlabel\": {\"namelength\": 0}, \"hovertemplate\": \"<b>%{hovertext}</b><br><br>SPM_WM_Volume=%{y}\", \"hovertext\": [\"SHARE0001\", \"SHARE0002\", \"SHARE0004\", \"SHARE0006\", \"SHARE0007\", \"SHARE0008\", \"SHARE0024\", \"SHARE0029\", \"SHARE0035\", \"SHARE0040\", \"SHARE0041\", \"SHARE0042\", \"SHARE0045\", \"SHARE0049\", \"SHARE0052\", \"SHARE0053\", \"SHARE0056\", \"SHARE0061\", \"SHARE0063\", \"SHARE0066\", \"SHARE0074\", \"SHARE0076\", \"SHARE0080\", \"SHARE0092\", \"SHARE0094\", \"SHARE0095\", \"SHARE0099\", \"SHARE0101\", \"SHARE0107\", \"SHARE0120\", \"SHARE0128\", \"SHARE0156\", \"SHARE0172\", \"SHARE0177\", \"SHARE0195\", \"SHARE0208\", \"SHARE0217\", \"SHARE0218\", \"SHARE0310\", \"SHARE0336\", \"SHARE0337\", \"SHARE0357\", \"SHARE0362\", \"SHARE0368\", \"SHARE0398\", \"SHARE0402\", \"SHARE0403\", \"SHARE0458\", \"SHARE0467\", \"SHARE0474\", \"SHARE0490\", \"SHARE0501\", \"SHARE0547\", \"SHARE0585\", \"SHARE0630\", \"SHARE0664\", \"SHARE0669\", \"SHARE0679\", \"SHARE0692\", \"SHARE0693\", \"SHARE0699\", \"SHARE0723\", \"SHARE0749\", \"SHARE0772\", \"SHARE0797\", \"SHARE0811\", \"SHARE0844\", \"SHARE0847\", \"SHARE0979\", \"SHARE0980\", \"SHARE1043\", \"SHARE1051\", \"SHARE1061\", \"SHARE1091\", \"SHARE1157\", \"SHARE1159\", \"SHARE1244\", \"SHARE1256\", \"SHARE1277\", \"SHARE1285\", \"SHARE1397\", \"SHARE1421\", \"SHARE1513\", \"SHARE1548\", \"SHARE1594\", \"SHARE1638\", \"SHARE1640\", \"SHARE1647\", \"SHARE1675\", \"SHARE1781\", \"SHARE1835\", \"SHARE1910\", \"SHARE1958\", \"SHARE1969\", \"SHARE1970\", \"SHARE1979\", \"SHARE1985\", \"SHARE1990\", \"SHARE1991\", \"SHARE1992\"], \"legendgroup\": \"\", \"marker\": {\"color\": \"#636efa\", \"symbol\": \"circle\"}, \"name\": \"\", \"offsetgroup\": \"\", \"scalegroup\": \"y\", \"showlegend\": false, \"type\": \"violin\", \"xaxis\": \"x2\", \"y\": [550228.2, 423227.34, 555948.94, 512352.4, 420068.1, 456950.9, 481930.84, 475913.78, 437728.44, 475776.4, 431496.0, 494166.78, 514402.72, 566568.06, 431220.62, 496991.84, 481661.25, 577019.2, 495021.62, 492187.4, 463107.84, 417264.62, 564797.25, 478078.5, 523142.44, 520488.97, 448324.94, 528475.75, 499732.56, 512143.72, 496398.72, 569505.94, 466359.84, 479946.75, 515134.75, 415567.34, 518605.1, 492288.66, 508884.94, 377950.1, 524222.28, 483770.78, 458724.2, 464463.47, 448972.3, 430485.75, 449226.5, 529573.6, 439047.5, 345031.8, 451359.9, 417917.03, 435620.9, 439118.5, 485160.1, 496731.12, 435356.72, 154050.94, 443171.3, 420760.56, 514359.88, 434122.75, 385801.8, 454166.97, 396518.9, 487509.38, 448191.84, 456080.97, 391895.28, 446389.7, 457711.56, 447008.16, 457315.5, 442088.2, 391343.06, 425174.22, 474682.84, 385086.16, 485223.5, 437461.12, 456035.5, 402863.66, 404182.94, 438345.22, 439567.53, 473102.06, 436796.84, 419808.28, 422325.03, 420349.3, 386520.12, 499196.28, 550701.06, 531851.7, 439038.78, 441034.53, 523914.03, 460519.7, 455540.97, 551591.7], \"yaxis\": \"y2\"}, {\"hoverlabel\": {\"namelength\": 0}, \"hovertemplate\": \"<b>OLS trendline</b><br>SPM_WM_Volume = 0.733560 * SPM_GM_Volume + -42128.934756<br>R<sup>2</sup>=0.766598<br><br>SPM_GM_Volume=%{x}<br>SPM_WM_Volume=%{y} <b>(trend)</b>\", \"legendgroup\": \"\", \"marker\": {\"color\": \"#636efa\", \"symbol\": \"circle\"}, \"mode\": \"lines\", \"name\": \"\", \"showlegend\": false, \"type\": \"scatter\", \"x\": [463814.3, 533048.25, 542959.4, 578054.2, 584629.0, 591589.8, 598621.8, 603501.8, 604567.56, 608630.56, 611738.6, 613660.44, 618074.4, 621294.1, 622592.3, 624238.3, 624663.94, 628776.9, 628984.0, 631480.9, 633453.6, 637978.56, 641003.7, 642043.5, 642209.9, 643921.75, 646078.94, 646482.3, 649395.2, 654689.7, 655485.94, 656945.4, 658717.1, 659472.75, 660644.7, 661188.94, 663301.25, 663888.0, 664154.8, 664162.5, 665257.1, 667367.44, 667688.94, 668200.25, 671974.3, 677677.7, 677923.9, 682430.06, 684519.9, 684612.8, 684785.9, 688501.56, 690889.06, 690970.06, 691156.5, 692846.1, 693450.5, 694913.8, 698467.4, 699093.44, 701596.25, 703131.06, 704248.2, 705515.7, 705549.6, 705819.8, 714613.3, 716406.4, 717672.56, 720618.2, 722935.75, 723898.44, 730845.94, 733568.94, 737922.9, 737993.56, 743032.0, 745535.5, 745606.6, 746294.56, 747522.06, 754803.44, 759096.3, 761933.25, 762254.1, 775275.2, 780731.1, 784027.7, 786041.3, 786483.8, 787397.75, 791820.7, 792183.5, 796405.44, 797364.06, 800869.6, 801119.94, 813109.44, 819392.8, 834506.1], \"xaxis\": \"x\", \"y\": [298106.61642399407, 348893.86282544263, 356164.28459354513, 381908.42103252566, 386731.43037462217, 391837.5938211857, 396995.98672950576, 400575.75882742985, 401357.55757970107, 404338.0112751653, 406617.94465041766, 408027.7293243263, 411265.63318689866, 413627.47585568676, 414579.78326091735, 415787.2227841106, 416099.45520127454, 419116.55754715117, 419268.4777933561, 421100.103398132, 422547.1969263236, 425866.52593292657, 428085.6471961056, 428848.40273451165, 428970.467094572, 430226.21153429156, 431808.63952034083, 432104.5282239103, 434241.3147288371, 438125.14738712786, 438709.2370869744, 439779.8383546048, 441079.4863517138, 441633.80085699994, 442493.49633039377, 442892.72894649504, 444442.23476620123, 444872.65101178666, 445068.3647814027, 445074.01319229486, 445876.96781081695, 447425.0285176065, 447660.8680113529, 448035.9445013918, 450804.4360764267, 454988.2213598898, 455168.8237964695, 458474.3618777772, 460007.38460751605, 460075.53231815074, 460202.51152924716, 462928.17054428253, 464679.5447007976, 464738.9630491443, 464875.7279487215, 466115.15068164206, 466558.51425868826, 467631.9323961662, 470238.7107009168, 470697.94851324963, 472533.90945677535, 473659.7844595653, 474479.2735172445, 475409.0606348918, 475433.9283140147, 475632.1361871416, 482082.69478203816, 483398.04096006835, 484326.8451075085, 486487.648362125, 488187.7100067037, 488893.9007446033, 493990.3078450803, 495987.79133332765, 499181.68160453206, 499233.5149439664, 502929.51226549596, 504765.97936532233, 504818.13547109335, 505322.79530971794, 506223.2400331199, 511564.5680983621, 514713.6378623569, 516794.7104962105, 517030.07317605044, 526581.8294187306, 530584.058637801, 533002.3120595256, 534479.4081858331, 534804.0084221715, 535474.4454526833, 538718.9440183622, 538985.0795341668, 542082.1252331646, 542785.33038245, 545356.8538005148, 545540.4931748989, 554335.5090699933, 558944.7297276187, 570031.2399012981], \"yaxis\": \"y\"}],\n",
       "                        {\"height\": 600, \"legend\": {\"tracegroupgap\": 0}, \"margin\": {\"t\": 60}, \"template\": {\"data\": {\"bar\": [{\"error_x\": {\"color\": \"#2a3f5f\"}, \"error_y\": {\"color\": \"#2a3f5f\"}, \"marker\": {\"line\": {\"color\": \"#E5ECF6\", \"width\": 0.5}}, \"type\": \"bar\"}], \"barpolar\": [{\"marker\": {\"line\": {\"color\": \"#E5ECF6\", \"width\": 0.5}}, \"type\": \"barpolar\"}], \"carpet\": [{\"aaxis\": {\"endlinecolor\": \"#2a3f5f\", \"gridcolor\": \"white\", \"linecolor\": \"white\", \"minorgridcolor\": \"white\", \"startlinecolor\": \"#2a3f5f\"}, \"baxis\": {\"endlinecolor\": \"#2a3f5f\", \"gridcolor\": \"white\", \"linecolor\": \"white\", \"minorgridcolor\": \"white\", \"startlinecolor\": \"#2a3f5f\"}, \"type\": \"carpet\"}], \"choropleth\": [{\"colorbar\": {\"outlinewidth\": 0, \"ticks\": \"\"}, \"type\": \"choropleth\"}], \"contour\": [{\"colorbar\": {\"outlinewidth\": 0, \"ticks\": \"\"}, \"colorscale\": [[0.0, \"#0d0887\"], [0.1111111111111111, \"#46039f\"], [0.2222222222222222, \"#7201a8\"], [0.3333333333333333, \"#9c179e\"], [0.4444444444444444, \"#bd3786\"], [0.5555555555555556, \"#d8576b\"], [0.6666666666666666, \"#ed7953\"], [0.7777777777777778, \"#fb9f3a\"], [0.8888888888888888, \"#fdca26\"], [1.0, \"#f0f921\"]], \"type\": \"contour\"}], \"contourcarpet\": [{\"colorbar\": {\"outlinewidth\": 0, \"ticks\": \"\"}, \"type\": \"contourcarpet\"}], \"heatmap\": [{\"colorbar\": {\"outlinewidth\": 0, \"ticks\": \"\"}, \"colorscale\": [[0.0, \"#0d0887\"], [0.1111111111111111, \"#46039f\"], [0.2222222222222222, \"#7201a8\"], [0.3333333333333333, \"#9c179e\"], [0.4444444444444444, \"#bd3786\"], [0.5555555555555556, \"#d8576b\"], [0.6666666666666666, \"#ed7953\"], [0.7777777777777778, \"#fb9f3a\"], [0.8888888888888888, \"#fdca26\"], [1.0, \"#f0f921\"]], \"type\": \"heatmap\"}], \"heatmapgl\": [{\"colorbar\": {\"outlinewidth\": 0, \"ticks\": \"\"}, \"colorscale\": [[0.0, \"#0d0887\"], [0.1111111111111111, \"#46039f\"], [0.2222222222222222, \"#7201a8\"], [0.3333333333333333, \"#9c179e\"], [0.4444444444444444, \"#bd3786\"], [0.5555555555555556, \"#d8576b\"], [0.6666666666666666, \"#ed7953\"], [0.7777777777777778, \"#fb9f3a\"], [0.8888888888888888, \"#fdca26\"], [1.0, \"#f0f921\"]], \"type\": \"heatmapgl\"}], \"histogram\": [{\"marker\": {\"colorbar\": {\"outlinewidth\": 0, \"ticks\": \"\"}}, \"type\": \"histogram\"}], \"histogram2d\": [{\"colorbar\": {\"outlinewidth\": 0, \"ticks\": \"\"}, \"colorscale\": [[0.0, \"#0d0887\"], [0.1111111111111111, \"#46039f\"], [0.2222222222222222, \"#7201a8\"], [0.3333333333333333, \"#9c179e\"], [0.4444444444444444, \"#bd3786\"], [0.5555555555555556, \"#d8576b\"], [0.6666666666666666, \"#ed7953\"], [0.7777777777777778, \"#fb9f3a\"], [0.8888888888888888, \"#fdca26\"], [1.0, \"#f0f921\"]], \"type\": \"histogram2d\"}], \"histogram2dcontour\": [{\"colorbar\": {\"outlinewidth\": 0, \"ticks\": \"\"}, \"colorscale\": [[0.0, \"#0d0887\"], [0.1111111111111111, \"#46039f\"], [0.2222222222222222, \"#7201a8\"], [0.3333333333333333, \"#9c179e\"], [0.4444444444444444, \"#bd3786\"], [0.5555555555555556, \"#d8576b\"], [0.6666666666666666, \"#ed7953\"], [0.7777777777777778, \"#fb9f3a\"], [0.8888888888888888, \"#fdca26\"], [1.0, \"#f0f921\"]], \"type\": \"histogram2dcontour\"}], \"mesh3d\": [{\"colorbar\": {\"outlinewidth\": 0, \"ticks\": \"\"}, \"type\": \"mesh3d\"}], \"parcoords\": [{\"line\": {\"colorbar\": {\"outlinewidth\": 0, \"ticks\": \"\"}}, \"type\": \"parcoords\"}], \"scatter\": [{\"marker\": {\"colorbar\": {\"outlinewidth\": 0, \"ticks\": \"\"}}, \"type\": \"scatter\"}], \"scatter3d\": [{\"line\": {\"colorbar\": {\"outlinewidth\": 0, \"ticks\": \"\"}}, \"marker\": {\"colorbar\": {\"outlinewidth\": 0, \"ticks\": \"\"}}, \"type\": \"scatter3d\"}], \"scattercarpet\": [{\"marker\": {\"colorbar\": {\"outlinewidth\": 0, \"ticks\": \"\"}}, \"type\": \"scattercarpet\"}], \"scattergeo\": [{\"marker\": {\"colorbar\": {\"outlinewidth\": 0, \"ticks\": \"\"}}, \"type\": \"scattergeo\"}], \"scattergl\": [{\"marker\": {\"colorbar\": {\"outlinewidth\": 0, \"ticks\": \"\"}}, \"type\": \"scattergl\"}], \"scattermapbox\": [{\"marker\": {\"colorbar\": {\"outlinewidth\": 0, \"ticks\": \"\"}}, \"type\": \"scattermapbox\"}], \"scatterpolar\": [{\"marker\": {\"colorbar\": {\"outlinewidth\": 0, \"ticks\": \"\"}}, \"type\": \"scatterpolar\"}], \"scatterpolargl\": [{\"marker\": {\"colorbar\": {\"outlinewidth\": 0, \"ticks\": \"\"}}, \"type\": \"scatterpolargl\"}], \"scatterternary\": [{\"marker\": {\"colorbar\": {\"outlinewidth\": 0, \"ticks\": \"\"}}, \"type\": \"scatterternary\"}], \"surface\": [{\"colorbar\": {\"outlinewidth\": 0, \"ticks\": \"\"}, \"colorscale\": [[0.0, \"#0d0887\"], [0.1111111111111111, \"#46039f\"], [0.2222222222222222, \"#7201a8\"], [0.3333333333333333, \"#9c179e\"], [0.4444444444444444, \"#bd3786\"], [0.5555555555555556, \"#d8576b\"], [0.6666666666666666, \"#ed7953\"], [0.7777777777777778, \"#fb9f3a\"], [0.8888888888888888, \"#fdca26\"], [1.0, \"#f0f921\"]], \"type\": \"surface\"}], \"table\": [{\"cells\": {\"fill\": {\"color\": \"#EBF0F8\"}, \"line\": {\"color\": \"white\"}}, \"header\": {\"fill\": {\"color\": \"#C8D4E3\"}, \"line\": {\"color\": \"white\"}}, \"type\": \"table\"}]}, \"layout\": {\"annotationdefaults\": {\"arrowcolor\": \"#2a3f5f\", \"arrowhead\": 0, \"arrowwidth\": 1}, \"colorscale\": {\"diverging\": [[0, \"#8e0152\"], [0.1, \"#c51b7d\"], [0.2, \"#de77ae\"], [0.3, \"#f1b6da\"], [0.4, \"#fde0ef\"], [0.5, \"#f7f7f7\"], [0.6, \"#e6f5d0\"], [0.7, \"#b8e186\"], [0.8, \"#7fbc41\"], [0.9, \"#4d9221\"], [1, \"#276419\"]], \"sequential\": [[0.0, \"#0d0887\"], [0.1111111111111111, \"#46039f\"], [0.2222222222222222, \"#7201a8\"], [0.3333333333333333, \"#9c179e\"], [0.4444444444444444, \"#bd3786\"], [0.5555555555555556, \"#d8576b\"], [0.6666666666666666, \"#ed7953\"], [0.7777777777777778, \"#fb9f3a\"], [0.8888888888888888, \"#fdca26\"], [1.0, \"#f0f921\"]], \"sequentialminus\": [[0.0, \"#0d0887\"], [0.1111111111111111, \"#46039f\"], [0.2222222222222222, \"#7201a8\"], [0.3333333333333333, \"#9c179e\"], [0.4444444444444444, \"#bd3786\"], [0.5555555555555556, \"#d8576b\"], [0.6666666666666666, \"#ed7953\"], [0.7777777777777778, \"#fb9f3a\"], [0.8888888888888888, \"#fdca26\"], [1.0, \"#f0f921\"]]}, \"colorway\": [\"#636efa\", \"#EF553B\", \"#00cc96\", \"#ab63fa\", \"#FFA15A\", \"#19d3f3\", \"#FF6692\", \"#B6E880\", \"#FF97FF\", \"#FECB52\"], \"font\": {\"color\": \"#2a3f5f\"}, \"geo\": {\"bgcolor\": \"white\", \"lakecolor\": \"white\", \"landcolor\": \"#E5ECF6\", \"showlakes\": true, \"showland\": true, \"subunitcolor\": \"white\"}, \"hoverlabel\": {\"align\": \"left\"}, \"hovermode\": \"closest\", \"mapbox\": {\"style\": \"light\"}, \"paper_bgcolor\": \"white\", \"plot_bgcolor\": \"#E5ECF6\", \"polar\": {\"angularaxis\": {\"gridcolor\": \"white\", \"linecolor\": \"white\", \"ticks\": \"\"}, \"bgcolor\": \"#E5ECF6\", \"radialaxis\": {\"gridcolor\": \"white\", \"linecolor\": \"white\", \"ticks\": \"\"}}, \"scene\": {\"xaxis\": {\"backgroundcolor\": \"#E5ECF6\", \"gridcolor\": \"white\", \"gridwidth\": 2, \"linecolor\": \"white\", \"showbackground\": true, \"ticks\": \"\", \"zerolinecolor\": \"white\"}, \"yaxis\": {\"backgroundcolor\": \"#E5ECF6\", \"gridcolor\": \"white\", \"gridwidth\": 2, \"linecolor\": \"white\", \"showbackground\": true, \"ticks\": \"\", \"zerolinecolor\": \"white\"}, \"zaxis\": {\"backgroundcolor\": \"#E5ECF6\", \"gridcolor\": \"white\", \"gridwidth\": 2, \"linecolor\": \"white\", \"showbackground\": true, \"ticks\": \"\", \"zerolinecolor\": \"white\"}}, \"shapedefaults\": {\"line\": {\"color\": \"#2a3f5f\"}}, \"ternary\": {\"aaxis\": {\"gridcolor\": \"white\", \"linecolor\": \"white\", \"ticks\": \"\"}, \"baxis\": {\"gridcolor\": \"white\", \"linecolor\": \"white\", \"ticks\": \"\"}, \"bgcolor\": \"#E5ECF6\", \"caxis\": {\"gridcolor\": \"white\", \"linecolor\": \"white\", \"ticks\": \"\"}}, \"title\": {\"x\": 0.05}, \"xaxis\": {\"automargin\": true, \"gridcolor\": \"white\", \"linecolor\": \"white\", \"ticks\": \"\", \"zerolinecolor\": \"white\", \"zerolinewidth\": 2}, \"yaxis\": {\"automargin\": true, \"gridcolor\": \"white\", \"linecolor\": \"white\", \"ticks\": \"\", \"zerolinecolor\": \"white\", \"zerolinewidth\": 2}}}, \"xaxis\": {\"anchor\": \"y\", \"domain\": [0.0, 0.819], \"title\": {\"text\": \"SPM_GM_Volume\"}}, \"xaxis2\": {\"anchor\": \"y2\", \"domain\": [0.824, 0.98], \"matches\": \"x2\", \"showgrid\": false, \"showticklabels\": false}, \"xaxis3\": {\"anchor\": \"y3\", \"domain\": [0.0, 0.819], \"matches\": \"x\", \"showgrid\": true, \"showticklabels\": false}, \"xaxis4\": {\"anchor\": \"y4\", \"domain\": [0.824, 0.98], \"matches\": \"x2\", \"showgrid\": false, \"showticklabels\": false}, \"yaxis\": {\"anchor\": \"x\", \"domain\": [0.0, 0.8316], \"title\": {\"text\": \"SPM_WM_Volume\"}}, \"yaxis2\": {\"anchor\": \"x2\", \"domain\": [0.0, 0.8316], \"matches\": \"y\", \"showgrid\": true, \"showticklabels\": false}, \"yaxis3\": {\"anchor\": \"x3\", \"domain\": [0.8416, 1.0], \"matches\": \"y3\", \"showgrid\": false, \"showticklabels\": false}, \"yaxis4\": {\"anchor\": \"x4\", \"domain\": [0.8416, 1.0], \"matches\": \"y3\", \"showgrid\": true, \"showticklabels\": false}},\n",
       "                        {\"responsive\": true}\n",
       "                    ).then(function(){\n",
       "                            \n",
       "var gd = document.getElementById('58b2809f-36a1-4031-bd9b-2b729a89a222');\n",
       "var x = new MutationObserver(function (mutations, observer) {{\n",
       "        var display = window.getComputedStyle(gd).display;\n",
       "        if (!display || display === 'none') {{\n",
       "            console.log([gd, 'removed!']);\n",
       "            Plotly.purge(gd);\n",
       "            observer.disconnect();\n",
       "        }}\n",
       "}});\n",
       "\n",
       "// Listen for the removal of the full notebook cells\n",
       "var notebookContainer = gd.closest('#notebook-container');\n",
       "if (notebookContainer) {{\n",
       "    x.observe(notebookContainer, {childList: true});\n",
       "}}\n",
       "\n",
       "// Listen for the clearing of the current output cell\n",
       "var outputEl = gd.closest('.output');\n",
       "if (outputEl) {{\n",
       "    x.observe(outputEl, {childList: true});\n",
       "}}\n",
       "\n",
       "                        })\n",
       "                };\n",
       "                });\n",
       "            </script>\n",
       "        </div>"
      ]
     },
     "metadata": {},
     "output_type": "display_data"
    }
   ],
   "source": [
    "fig = px.scatter(spm_df, x=\"SPM_GM_Volume\", y=\"SPM_WM_Volume\", hover_name=\"mrishare_id\", marginal_y=\"violin\",\n",
    "           marginal_x=\"box\", trendline=\"ols\")\n",
    "fig.show()"
   ]
  },
  {
   "cell_type": "code",
   "execution_count": null,
   "metadata": {},
   "outputs": [],
   "source": []
  }
 ],
 "metadata": {
  "kernelspec": {
   "display_name": "Python 3",
   "language": "python",
   "name": "python3"
  },
  "language_info": {
   "codemirror_mode": {
    "name": "ipython",
    "version": 3
   },
   "file_extension": ".py",
   "mimetype": "text/x-python",
   "name": "python",
   "nbconvert_exporter": "python",
   "pygments_lexer": "ipython3",
   "version": "3.7.4"
  }
 },
 "nbformat": 4,
 "nbformat_minor": 2
}
