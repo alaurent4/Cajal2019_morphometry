{
 "cells": [
  {
   "cell_type": "code",
   "execution_count": 1,
   "metadata": {},
   "outputs": [],
   "source": [
    "%matplotlib inline\n",
    "\n",
    "import os\n",
    "import os.path as op\n",
    "import numpy as np\n",
    "import pandas as pd\n",
    "import matplotlib.pyplot as plt"
   ]
  },
  {
   "cell_type": "markdown",
   "metadata": {},
   "source": [
    "## Day 3. Quality control of the sample MRiShare dataset\n",
    "\n",
    "One of the most important yet least-standardized procedure is the **quality control** of your data. Every lab/researchers have their own method to check the quality of the acquired data and/or processing to make sure they are measuring what they intend to measure. While there is often no clear guideline about what should be checked, since it depends on the modality and processing, it can be classified into the two broad categories.\n",
    "\n",
    "1. QC on raw acquired data\n",
    "    * Does the image have intended FOV?\n",
    "    * Is there significant artefact/noise?\n",
    "    * Are there any abnormalities in the brain (incidental findings)?\n",
    "    --> If any problem is found, either exclude subject/data or keep them and see.\n",
    "    \n",
    "2. QC on processed data\n",
    "    * Did processing go as intended?\n",
    "    e.g. Skull-stripping, registration, tissue segmentation...\n",
    "    --> If any problem is found, either exclude subject/data or modify the processing steps to resolve the issue.\n",
    "    \n",
    "The fi"
   ]
  }
 ],
 "metadata": {
  "kernelspec": {
   "display_name": "Python 3",
   "language": "python",
   "name": "python3"
  },
  "language_info": {
   "codemirror_mode": {
    "name": "ipython",
    "version": 3
   },
   "file_extension": ".py",
   "mimetype": "text/x-python",
   "name": "python",
   "nbconvert_exporter": "python",
   "pygments_lexer": "ipython3",
   "version": "3.7.4"
  }
 },
 "nbformat": 4,
 "nbformat_minor": 2
}
