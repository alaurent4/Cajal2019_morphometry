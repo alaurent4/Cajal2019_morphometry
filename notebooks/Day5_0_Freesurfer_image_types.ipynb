{
 "cells": [
  {
   "cell_type": "markdown",
   "metadata": {},
   "source": [
    "On Day 2 we studied the main image format we use for volumetric data.\n",
    "\n",
    "I also mentioned that there are different image formats, for example those used to store surface-based information.\n",
    "\n",
    "Here we will quickly review different formats used by Freesurfer to understan how it stores surface-based information.\n",
    "\n",
    "I refer to the same link I used in the Day 2_0 notebook for detailed description of what these formats are and why these are needed (https://nben.net/MRI-Geometry/#cortical-surfaces)."
   ]
  },
  {
   "cell_type": "markdown",
   "metadata": {},
   "source": [
    "## Freesurfer Geometry data\n",
    "\n",
    "The geometry data store information about the surface geometry, and contain the following data.\n",
    "\n",
    "* Coordinates of vertices (n X 3)\n",
    "* Triangles of the cortical surface (m x 3): stores the indices of triangles forming the cortical surface\n",
    "\n",
    "**Examples of Freesurfer geometry data**\n",
    "\n",
    "* lh/rh.white\n",
    "* lh/rh.pial\n",
    "* lh/rh.inflated\n",
    "* lh/rh.sphere\n",
    "* lh/rh.sphere.reg\n",
    "\n",
    "Let's try to open some of them using nibabel."
   ]
  },
  {
   "cell_type": "code",
   "execution_count": null,
   "metadata": {},
   "outputs": [],
   "source": [
    "fs_sub_dir = '/path_to_fs_sub_dir/surf/'\n",
    "\n",
    "lh_pial = op.join(fs_sub_dir, 'lh.pial')\n",
    "rh_pial = op.join(fs_sub_dir, 'rh.pial')\n",
    "lh_infl = op.join(fs_sub_dir, 'lh.inflated')\n",
    "rh_infl = op.join(fs_sub_dir, 'rh.inflated')\n",
    "lh_sphere=  op.join(fs_sub_dir, 'lh.sphere')\n",
    "rh_sphere = op.join(fs_sub_dir, 'rh.sphere')"
   ]
  },
  {
   "cell_type": "code",
   "execution_count": null,
   "metadata": {},
   "outputs": [],
   "source": [
    "import nibabel.freesurfer.io as fsio"
   ]
  },
  {
   "cell_type": "code",
   "execution_count": null,
   "metadata": {},
   "outputs": [],
   "source": [
    "(rh_p_coords, rh_p_faces) = fsio.read_geometry(rh_infl)"
   ]
  },
  {
   "cell_type": "code",
   "execution_count": null,
   "metadata": {},
   "outputs": [],
   "source": [
    "rh_p_coords.shape"
   ]
  },
  {
   "cell_type": "code",
   "execution_count": null,
   "metadata": {},
   "outputs": [],
   "source": [
    "rh_p_faces.shape"
   ]
  },
  {
   "cell_type": "markdown",
   "metadata": {},
   "source": [
    "You can use mris_info to get information about these surface files."
   ]
  },
  {
   "cell_type": "code",
   "execution_count": null,
   "metadata": {},
   "outputs": [],
   "source": [
    "!mris_info"
   ]
  },
  {
   "cell_type": "code",
   "execution_count": null,
   "metadata": {},
   "outputs": [],
   "source": []
  },
  {
   "cell_type": "markdown",
   "metadata": {},
   "source": [
    "Try reading the other hemisphere, and at least one other surface types to check the size of coords and faces."
   ]
  },
  {
   "cell_type": "code",
   "execution_count": null,
   "metadata": {},
   "outputs": [],
   "source": []
  },
  {
   "cell_type": "code",
   "execution_count": null,
   "metadata": {},
   "outputs": [],
   "source": []
  },
  {
   "cell_type": "code",
   "execution_count": null,
   "metadata": {},
   "outputs": [],
   "source": []
  },
  {
   "cell_type": "code",
   "execution_count": null,
   "metadata": {},
   "outputs": [],
   "source": []
  },
  {
   "cell_type": "markdown",
   "metadata": {},
   "source": [
    "## Freesurfer Property (Morphological) data\n",
    "\n",
    "These are file formats that store only the surface property, and not it's geometry. They are only meaningful in the context of a given surface geometry. They are represented as an array of shape (n,) i.e. one number per vertices.\n",
    "\n",
    "Perhaps slightly confusingly, these are actually stored as volume files of size (n X 1 X 1), as you will see.\n",
    "\n",
    "**Examples of Freesurfer mophometry data**\n",
    "* lh/rh.thickness\n",
    "* lh/rh.area\n",
    "* lh/rh.curv\n",
    "\n",
    "Let's try to open some of them with nibabel."
   ]
  },
  {
   "cell_type": "code",
   "execution_count": null,
   "metadata": {},
   "outputs": [],
   "source": [
    "lh_ct = op.join(fs_sub_dir, 'lh.thickness')\n",
    "rh_ct = op.join(fs_sub_dir, 'rh.thickness')\n",
    "lh_csa = op.join(fs_sub_dir, 'lh.area')\n",
    "rh_csa = op.join(fs_sub_dir, 'rh.area')"
   ]
  },
  {
   "cell_type": "code",
   "execution_count": null,
   "metadata": {},
   "outputs": [],
   "source": [
    "rh_ct_dat = fsio.read_morph_data(rh_ct)\n",
    "rh_ct_dat.shape"
   ]
  },
  {
   "cell_type": "markdown",
   "metadata": {},
   "source": [
    "Again, try looking at the other hemisphere, and CSA data."
   ]
  },
  {
   "cell_type": "code",
   "execution_count": null,
   "metadata": {},
   "outputs": [],
   "source": []
  },
  {
   "cell_type": "code",
   "execution_count": null,
   "metadata": {},
   "outputs": [],
   "source": []
  },
  {
   "cell_type": "markdown",
   "metadata": {},
   "source": [
    "Nibabel extracted the morph data as shape (n,) but if you use mri_info to get information about the file, you see that it's stored as (n X 1 X 1)."
   ]
  },
  {
   "cell_type": "code",
   "execution_count": null,
   "metadata": {},
   "outputs": [],
   "source": [
    "!mri_info"
   ]
  },
  {
   "cell_type": "code",
   "execution_count": null,
   "metadata": {},
   "outputs": [],
   "source": []
  },
  {
   "cell_type": "markdown",
   "metadata": {},
   "source": [
    "We can view the thickness data using nilearn plotting."
   ]
  },
  {
   "cell_type": "code",
   "execution_count": null,
   "metadata": {},
   "outputs": [],
   "source": [
    "from nilearn import plotting"
   ]
  },
  {
   "cell_type": "code",
   "execution_count": null,
   "metadata": {},
   "outputs": [],
   "source": [
    "plotting.view_surf(rh_infl, \n",
    "                   rh_ct_dat)"
   ]
  },
  {
   "cell_type": "markdown",
   "metadata": {},
   "source": [
    "Try changing the background surface to pial or sphere."
   ]
  },
  {
   "cell_type": "code",
   "execution_count": null,
   "metadata": {},
   "outputs": [],
   "source": []
  },
  {
   "cell_type": "code",
   "execution_count": null,
   "metadata": {},
   "outputs": [],
   "source": []
  },
  {
   "cell_type": "markdown",
   "metadata": {},
   "source": [
    "Of course, we can view using freeview as well."
   ]
  },
  {
   "cell_type": "markdown",
   "metadata": {},
   "source": [
    "## MGH and Nifti files\n",
    "\n",
    "Sometimes surface morphometry data are simply stored using a 3D volume file using Nifti or MGH format (The latter is simply a Freesurfer version of volumetric image format). This is because you might stack multiple morphometric data, for example to store CT for multiple subjects. These are then stored as (n X n_subjects X 1) array.\n",
    "\n",
    "When you perform a GLM analyis in the next Day 5 notebook, the statistical output map is also stored as MGH, which has the shape (n X 1 X 1). You will load and plot them in the next notebook."
   ]
  },
  {
   "cell_type": "code",
   "execution_count": null,
   "metadata": {},
   "outputs": [],
   "source": []
  }
 ],
 "metadata": {
  "kernelspec": {
   "display_name": "Python 3",
   "language": "python",
   "name": "python3"
  },
  "language_info": {
   "codemirror_mode": {
    "name": "ipython",
    "version": 3
   },
   "file_extension": ".py",
   "mimetype": "text/x-python",
   "name": "python",
   "nbconvert_exporter": "python",
   "pygments_lexer": "ipython3",
   "version": "3.7.4"
  }
 },
 "nbformat": 4,
 "nbformat_minor": 2
}
