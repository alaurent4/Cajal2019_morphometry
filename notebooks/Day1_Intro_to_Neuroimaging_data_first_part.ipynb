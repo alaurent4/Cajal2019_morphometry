{
 "cells": [
  {
   "cell_type": "markdown",
   "metadata": {},
   "source": [
    "# Play with Terminal\n",
    "\n",
    "For this practical session, open a Terminal window besides.\n",
    "\n",
    "\n",
    "\n",
    "\n",
    "\n",
    "But reagardless of the file format, what you have to understand first is that images are simply **numerical arrays** that represent strength of a signal (i.e. intensity level) at a given point in space.\n",
    "\n",
    "To demonstrate this, we will construct an array using **numpy** package and visualize it with **matplotlib** in python."
   ]
  },
  {
   "cell_type": "markdown",
   "metadata": {},
   "source": [
    "# From DICOM to Nifti format\n",
    "When you scan a subject with MRI scanner, the images are first stored as **DICOM (Digital Imaging and Communications in Medicine)**.\n",
    "à la sortie du scanner on obtient des DICOMS, pour les traitements le nifti est mieux, converstissez les fichiers dicom des 5 sujets en nifti\n",
    "As you see in the description here (https://en.wikibooks.org/wiki/Neuroimaging_Data_Processing/DICOM), most neuroimaging software tools convert them to a lighter, eaier-to-work-with format, **NIFTI**. So the first step in any neuroimaging processing is to convert DICOM to NIFTI format, using toos such as **dcm2nii**.\n",
    "\n",
    "For most of Linux commands, you may call it without arguments to get the help guide. These help guides are always good to have a look at."
   ]
  },
  {
   "cell_type": "code",
   "execution_count": null,
   "metadata": {
    "scrolled": true
   },
   "outputs": [],
   "source": [
    "! dcm2nii"
   ]
  },
  {
   "cell_type": "markdown",
   "metadata": {
    "collapsed": true
   },
   "source": [
    "With dcm2nii tool, convert DICOM files from the 5 subjects into Nifti with anonymisation and reorienting the images."
   ]
  },
  {
   "cell_type": "code",
   "execution_count": null,
   "metadata": {
    "collapsed": true
   },
   "outputs": [],
   "source": []
  },
  {
   "cell_type": "markdown",
   "metadata": {},
   "source": [
    "# Inhomogeneity intensity correction\n",
    "\n",
    "Due to the inhomogeneus magnet field in the MRI, there can be a bias of the measured intensity.That is why we do intesity correction. N3 algorithm is one of the most well known. Yet N4 has shown some major improvments.\n"
   ]
  },
  {
   "cell_type": "code",
   "execution_count": null,
   "metadata": {},
   "outputs": [],
   "source": [
    "! N4BiasFieldCorrection"
   ]
  },
  {
   "cell_type": "code",
   "execution_count": null,
   "metadata": {},
   "outputs": [],
   "source": []
  },
  {
   "cell_type": "code",
   "execution_count": null,
   "metadata": {
    "collapsed": true
   },
   "outputs": [],
   "source": [
    "# my_data_dir = '/data/ro_formateur/mrishare'\n",
    "my_data_dir = '/data/ishare'\n",
    "sample_T1 = op.join(my_data_dir, 'SHARE0001', 'anat', 'SHARE0001_T1w.nii.gz')"
   ]
  },
  {
   "cell_type": "markdown",
   "metadata": {},
   "source": [
    "# Registration \n",
    "\n",
    "Différentes modalités même si elles sont acquises lors du même protocole, peuvent être décalés pour plusieurs raisons, le sujet a bougé légèrement etc.\n",
    "\n"
   ]
  },
  {
   "cell_type": "code",
   "execution_count": null,
   "metadata": {
    "collapsed": true
   },
   "outputs": [],
   "source": [
    "import nibabel as nib"
   ]
  },
  {
   "cell_type": "code",
   "execution_count": null,
   "metadata": {},
   "outputs": [],
   "source": [
    "sample_T1_img = nib.load(sample_T1)\n",
    "type(sample_T1_img)"
   ]
  },
  {
   "cell_type": "markdown",
   "metadata": {},
   "source": [
    "You can check the size of the image data directly:"
   ]
  },
  {
   "cell_type": "code",
   "execution_count": null,
   "metadata": {},
   "outputs": [],
   "source": [
    "sample_T1_img.shape"
   ]
  },
  {
   "cell_type": "markdown",
   "metadata": {},
   "source": [
    "You can explore other attributes of this nibabel image object using tab completion after \"sample_T1_img\"."
   ]
  },
  {
   "cell_type": "code",
   "execution_count": null,
   "metadata": {},
   "outputs": [],
   "source": [
    "sample_T1_img."
   ]
  },
  {
   "cell_type": "markdown",
   "metadata": {},
   "source": [
    "Let's look at each component listed above.\n",
    "\n",
    "First, we can access the data obj directly by img.dataobj or using method get_fdata().\n",
    "The only difference between the two is how they occupy computational memory. You can read more about this here (https://nipy.org/nibabel/images_and_memory.html), and here (https://nipy.org/nibabel/nibabel_images.html#proxies-caching) but in most cases you can use one or the other to access data."
   ]
  },
  {
   "cell_type": "code",
   "execution_count": null,
   "metadata": {
    "scrolled": true
   },
   "outputs": [],
   "source": [
    "sample_dataobj = sample_T1_img.dataobj\n",
    "type(sample_dataobj)"
   ]
  },
  {
   "cell_type": "markdown",
   "metadata": {},
   "source": [
    "Likewise, many packages have specialized visualization tools to let you look at Nifti images. Try opening both T1 and FLAIR image in the data folder using the following viewers:\n",
    "\n",
    "* FSLeyes: packaged with FSL\n",
    "* freeview: packaged with Freesurfer\n",
    "* MRIcron: standalone package\n",
    "\n",
    "\n",
    "## Surface-based image formats\n",
    "\n",
    "These are created when the volumetric image is processed to reconstruct a surface representation of the brain, as done by Freesurfer and other softwares. They are also essentially numerical arrays, but how this information is stored is different in different softwares. We will postpone examination of these formats until you learn about surface-based processing in the upcoming lectures.\n",
    "\n",
    "But here is the good overview of various formats and how to read them in nibabel (https://nben.net/MRI-Geometry/#cortical-surfaces).\n"
   ]
  },
  {
   "cell_type": "code",
   "execution_count": null,
   "metadata": {
    "collapsed": true
   },
   "outputs": [],
   "source": []
  }
 ],
 "metadata": {
  "kernelspec": {
   "display_name": "Python 3",
   "language": "python",
   "name": "python3"
  },
  "language_info": {
   "codemirror_mode": {
    "name": "ipython",
    "version": 3
   },
   "file_extension": ".py",
   "mimetype": "text/x-python",
   "name": "python",
   "nbconvert_exporter": "python",
   "pygments_lexer": "ipython3",
   "version": "3.6.3"
  }
 },
 "nbformat": 4,
 "nbformat_minor": 2
}
